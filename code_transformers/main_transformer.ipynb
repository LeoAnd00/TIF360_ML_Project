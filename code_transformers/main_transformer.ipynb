{
 "cells": [
  {
   "attachments": {},
   "cell_type": "markdown",
   "metadata": {},
   "source": [
    "# TIF360 Project"
   ]
  },
  {
   "attachments": {},
   "cell_type": "markdown",
   "metadata": {},
   "source": [
    "# Data Pre-processing"
   ]
  },
  {
   "attachments": {},
   "cell_type": "markdown",
   "metadata": {},
   "source": [
    "Main source: https://www.kaggle.com/code/rmonge/predicting-molecule-properties-based-on-its-smiles/notebook"
   ]
  },
  {
   "attachments": {},
   "cell_type": "markdown",
   "metadata": {},
   "source": [
    "### Import packages"
   ]
  },
  {
   "attachments": {},
   "cell_type": "markdown",
   "metadata": {},
   "source": [
    "UPDATED ON 15/05-2023  11:20"
   ]
  },
  {
   "cell_type": "code",
   "execution_count": 56,
   "metadata": {},
   "outputs": [],
   "source": [
    "import os\n",
    "import numpy as np\n",
    "import pandas as pd\n",
    "import torch\n",
    "import torch.nn as nn\n",
    "import math\n",
    "import atomInSmiles\n",
    "from torch.utils.data import DataLoader\n"
   ]
  },
  {
   "cell_type": "code",
   "execution_count": 2,
   "metadata": {},
   "outputs": [],
   "source": [
    "# Input is list of strings on the form ['a','b','c']\n",
    "# where the string are tokens\n",
    "# Dictionary is the dictionary containign all possible tokens\n",
    "# and an index for them\n",
    "# MaxTokenLength is the max amount of tokens any input creates\n",
    "def create_Onehot_Matrix(input, dictionary,maxTokenLength):\n",
    "    # Create a matrix of zeros\n",
    "    onehot_Matrix = np.zeros((len(dictionary),maxTokenLength))\n",
    "    \n",
    "    # Change value in right place to one\n",
    "    keyCount = 0\n",
    "    for key in input:\n",
    "        onehot_Matrix[dictionary[key],keyCount] = 1\n",
    "        keyCount+=1\n",
    "\n",
    "    # Return it\n",
    "    return(onehot_Matrix)"
   ]
  },
  {
   "cell_type": "code",
   "execution_count": 3,
   "metadata": {},
   "outputs": [],
   "source": [
    "\n",
    "# Input is list of strings on the form ['a','b','c']\n",
    "# where the string are tokens\n",
    "# Dictionary is the dictionary containign all possible tokens\n",
    "# and an index for them\n",
    "# MaxTokenLength is the max amount of tokens any input creates\n",
    "\n",
    "# THIS VERSION RETURNS TORCH TENSOR\n",
    "\n",
    "#Version taht returns tensor\n",
    "def create_encoded_tensor(input, dictionary,maxTokenLength):\n",
    "    # Create a matrix of zeros\n",
    "    #encoded_vector = np.zeros((1,maxTokenLength))\n",
    "    encoded_tensor = torch.zeros(maxTokenLength,dtype=torch.long)\n",
    "    \n",
    "    # Change value in right place to one\n",
    "    keyCount = 0\n",
    "    for key in input:\n",
    "        encoded_tensor[keyCount] = dictionary[key]\n",
    "        keyCount+=1\n",
    "    \n",
    "    return encoded_tensor.unsqueeze(0)"
   ]
  },
  {
   "cell_type": "code",
   "execution_count": 4,
   "metadata": {},
   "outputs": [
    {
     "name": "stdout",
     "output_type": "stream",
     "text": [
      "(132820, 21)\n"
     ]
    }
   ],
   "source": [
    "\n",
    "\n",
    "df = pd.read_csv(\"../data/smiles_and_targets.csv\")\n",
    "print(np.shape(df))\n"
   ]
  },
  {
   "cell_type": "code",
   "execution_count": 59,
   "metadata": {},
   "outputs": [],
   "source": [
    "\n",
    "properties_names = ['A', 'B', 'C', 'mu', 'alfa', 'homo', 'lumo', 'gap', 'R²', 'zpve', 'U0', 'U', 'H', 'G', 'Cv']\n",
    "\n",
    "x_smiles = df.smiles.values\n",
    "targetTensor = torch.tensor(df.loc[:, properties_names].values, dtype=torch.float32)  # shape = (n_samples, n_properties)\n"
   ]
  },
  {
   "cell_type": "code",
   "execution_count": 6,
   "metadata": {},
   "outputs": [
    {
     "name": "stdout",
     "output_type": "stream",
     "text": [
      "CC(C)C#N\n",
      "['[CH3;!R;C]', '[CH;!R;CCC]', '(', '[CH3;!R;C]', ')', '[C;!R;CN]', '#', '[N;!R;C]']\n",
      "(132820,)\n"
     ]
    }
   ],
   "source": [
    "\n",
    "testSmile = x_smiles[8]\n",
    "print(testSmile)\n",
    "tokens = atomInSmiles.encode(testSmile)\n",
    "tokens = tokens.split()\n",
    "print(tokens)\n",
    "print(x_smiles.shape)\n",
    "\n"
   ]
  },
  {
   "cell_type": "code",
   "execution_count": 7,
   "metadata": {},
   "outputs": [
    {
     "name": "stdout",
     "output_type": "stream",
     "text": [
      "Longest word (max amount of tokens): 22\n"
     ]
    }
   ],
   "source": [
    "# tokenize all smiles\n",
    "#import atomInSmiles\n",
    "\n",
    "tokenList = []\n",
    "for smile in x_smiles:\n",
    "    tokenList.append(atomInSmiles.encode(smile).split())\n",
    "#tokenList is target\n",
    "\n",
    "# find longest word (max tokens from one smile+1)\n",
    "maxTokenLength = 0\n",
    "for token in tokenList:\n",
    "    if len(token)>maxTokenLength:\n",
    "        maxTokenLength = len(token)\n",
    "print('Longest word (max amount of tokens):', maxTokenLength)"
   ]
  },
  {
   "cell_type": "code",
   "execution_count": 8,
   "metadata": {},
   "outputs": [],
   "source": [
    "\n",
    "# Give each token a index in a dictionary\n",
    "tokenDict = {}\n",
    "count = 1\n",
    "\n",
    "dictList = []\n",
    "for itokens in tokenList:\n",
    "    for itoke in itokens:\n",
    "        #print(itoke)\n",
    "        if tokenDict.get(itoke) == None:\n",
    "            tokenDict[itoke] = count\n",
    "        \n",
    "            # current = [itoke, count]\n",
    "            # dictList.append(current)\n",
    "            count+=1"
   ]
  },
  {
   "cell_type": "code",
   "execution_count": 28,
   "metadata": {},
   "outputs": [
    {
     "name": "stdout",
     "output_type": "stream",
     "text": [
      "torch.Size([132820, 22])\n"
     ]
    }
   ],
   "source": [
    "encodedTensors = torch.tensor([],dtype=int)\n",
    "for token in tokenList:\n",
    "    encodedTensors = torch.cat((encodedTensors,create_encoded_tensor(token,tokenDict,maxTokenLength)),dim=0)\n",
    "\n",
    "print(encodedTensors.shape)\n"
   ]
  },
  {
   "cell_type": "code",
   "execution_count": 29,
   "metadata": {},
   "outputs": [],
   "source": [
    "# From attention is all you need\n",
    "class PositionalEncoding(nn.Module):\n",
    "    \"Implement the PE function.\"\n",
    "    def __init__(self, d_model, max_len,dropout):\n",
    "        super(PositionalEncoding, self).__init__()\n",
    "        self.dropout = nn.Dropout(p=dropout)\n",
    "        \n",
    "        # Compute the positional encodings once in log space.\n",
    "        pe = torch.zeros(max_len, d_model)\n",
    "        position = torch.arange(0, max_len).unsqueeze(1)\n",
    "        div_term = torch.exp(torch.arange(0, d_model, 2) *\n",
    "                             -(math.log(10000.0) / d_model))\n",
    "        pe[:, 0::2] = torch.sin(position * div_term)\n",
    "        pe[:, 1::2] = torch.cos(position * div_term)\n",
    "        pe = pe.unsqueeze(0)\n",
    "        self.register_buffer('pe', pe)\n",
    "        \n",
    "    def forward(self, x):\n",
    "        # x = x + torch.tensor(self.pe[:, :x.size(1)], \n",
    "        #                  requires_grad=False)\n",
    "        x = x + self.pe[:x.size(0), :].detach()\n",
    "        return self.dropout(x)"
   ]
  },
  {
   "cell_type": "code",
   "execution_count": 31,
   "metadata": {},
   "outputs": [
    {
     "name": "stdout",
     "output_type": "stream",
     "text": [
      "tensor([[ 6, 22,  8, 15,  9, 26, 18, 10, 17,  0,  0,  0,  0,  0,  0,  0,  0,  0,\n",
      "          0,  0,  0,  0],\n",
      "        [17, 10, 78, 33, 34, 35,  8, 15,  9, 34, 33,  0,  0,  0,  0,  0,  0,  0,\n",
      "          0,  0,  0,  0]])\n",
      "torch.Size([2, 22, 64])\n",
      "tensor([[[-0.1868,  1.1513,  0.4625,  ..., -0.7419,  1.0518, -1.1054],\n",
      "         [-1.8999,  1.1342, -0.4428,  ...,  0.0293, -0.2000, -0.0839],\n",
      "         [ 0.8472, -0.4422,  0.9121,  ...,  2.9850,  1.7387, -1.0390],\n",
      "         ...,\n",
      "         [ 0.0000,  0.0000,  0.0000,  ...,  0.0000,  0.0000,  0.0000],\n",
      "         [ 0.0000,  0.0000,  0.0000,  ...,  0.0000,  0.0000,  0.0000],\n",
      "         [ 0.0000,  0.0000,  0.0000,  ...,  0.0000,  0.0000,  0.0000]],\n",
      "\n",
      "        [[-0.3443, -0.3187,  0.1928,  ..., -1.1231, -1.4207,  0.1440],\n",
      "         [ 0.9567,  0.9758, -1.7416,  ..., -0.8060, -0.8557, -1.2738],\n",
      "         [ 0.0918, -1.8911, -0.3763,  ...,  0.2317,  1.3684,  1.3230],\n",
      "         ...,\n",
      "         [ 0.0000,  0.0000,  0.0000,  ...,  0.0000,  0.0000,  0.0000],\n",
      "         [ 0.0000,  0.0000,  0.0000,  ...,  0.0000,  0.0000,  0.0000],\n",
      "         [ 0.0000,  0.0000,  0.0000,  ...,  0.0000,  0.0000,  0.0000]]],\n",
      "       grad_fn=<EmbeddingBackward0>)\n",
      "torch.Size([2, 22, 64])\n"
     ]
    }
   ],
   "source": [
    "\n",
    "\n",
    "# Define the size of the embedding space\n",
    "embedding_dim = 64\n",
    "vocab_size = len(tokenDict)\n",
    "\n",
    "embedding_layer = nn.Embedding(vocab_size, embedding_dim, padding_idx=0)\n",
    "\n",
    "# Try two inputs and concat them (this will be done for batches)\n",
    "input_sentence = create_encoded_tensor(tokenList[100],tokenDict,maxTokenLength)\n",
    "other_input = create_encoded_tensor(tokenList[150],tokenDict,maxTokenLength)\n",
    "\n",
    "input_sentence = torch.cat((input_sentence,other_input),dim=0)\n",
    "print(input_sentence)\n",
    "\n",
    "# Pass the input tensor through the embedding layer\n",
    "embedded_tensor = embedding_layer(input_sentence)\n",
    "\n",
    "# Print the shape of the output tensor\n",
    "print(embedded_tensor.shape)  # should be (1, 22, 64)\n",
    "print(embedded_tensor)\n",
    "\n",
    "posencoder = PositionalEncoding(embedding_dim,maxTokenLength,0.1)\n",
    "encoded = posencoder.forward(embedded_tensor)\n",
    "print(encoded.shape)"
   ]
  },
  {
   "cell_type": "code",
   "execution_count": 32,
   "metadata": {},
   "outputs": [],
   "source": [
    "\n",
    "class TransformerLayer(torch.nn.Module):\n",
    "    def __init__(self, embedding_dim, hidden_channels):\n",
    "        super().__init__()\n",
    "        torch.manual_seed(12345)\n",
    "        self.Attention = torch.nn.MultiheadAttention(embedding_dim,num_heads=4,dropout=0.15)\n",
    "        self.Norm1 = torch.nn.LayerNorm(embedding_dim)\n",
    "        self.Dense1 = torch.nn.Linear(embedding_dim,hidden_channels)\n",
    "        self.Dense2 = torch.nn.Linear(hidden_channels,hidden_channels)\n",
    "        self.Norm2 = torch.nn.LayerNorm(hidden_channels)\n",
    "        \n",
    "\n",
    "    def forward(self, x):\n",
    "        addNormX = x\n",
    "        #print(x.shape)\n",
    "        x, _ = self.Attention(x,x,x)\n",
    "        #print('attention output',x.shape)\n",
    "        x = self.Norm1(x + addNormX)\n",
    "        #print('norm + input',x.shape)\n",
    "        addNormX = x\n",
    "        x = self.Dense1(x)\n",
    "        #print('first dense output',x.shape)\n",
    "        x = self.Dense2(x)\n",
    "        #print('second dense output',x.shape)\n",
    "        x = self.Norm2(x + addNormX)\n",
    "        #print(x.shape)\n",
    "\n",
    " \n",
    "        return x"
   ]
  },
  {
   "cell_type": "code",
   "execution_count": 33,
   "metadata": {},
   "outputs": [],
   "source": [
    "class TransformerNetwork(torch.nn.Module):\n",
    "    def __init__(self,hidden_channels,output_dim, vocab_size, maxTokenLength):\n",
    "        super().__init__()\n",
    "        torch.manual_seed(12345)\n",
    "        self.embedding_dim = 64\n",
    "        # Embedd and add pos encoding to input\n",
    "        self.EmbeddingLayer = torch.nn.Embedding(num_embeddings=vocab_size,embedding_dim = self.embedding_dim , max_norm=True)\n",
    "        self.PositionalEncoding = PositionalEncoding(self.embedding_dim, maxTokenLength, dropout = 0.1)\n",
    "\n",
    "        \n",
    "        self.TransEnc1 = TransformerLayer(self.embedding_dim,hidden_channels)\n",
    "        self.Pooling = torch.nn.AvgPool1d(kernel_size= 2)\n",
    "\n",
    "        self.DenseOut1 = torch.nn.Linear(embedding_dim,hidden_channels)\n",
    "        self.DenseOut2 = torch.nn.Linear(hidden_channels,output_dim)\n",
    "\n",
    "    def forward(self,x):\n",
    "        x = self.EmbeddingLayer(x)\n",
    "        x = self.PositionalEncoding(x)\n",
    "        x = self.TransEnc1(x)\n",
    "        #x = self.Pooling(x)\n",
    "        x = x[:,-1,:]\n",
    "        x = self.DenseOut1(x)\n",
    "        x = self.DenseOut2(x)\n",
    "\n",
    "        return x"
   ]
  },
  {
   "cell_type": "code",
   "execution_count": 34,
   "metadata": {},
   "outputs": [
    {
     "name": "stdout",
     "output_type": "stream",
     "text": [
      "tensor([[-0.6938,  0.1116,  0.7285, -0.3562,  0.4006, -0.0077, -0.0471,  0.0307,\n",
      "          0.2455, -0.1964, -0.0895, -0.2404,  0.6831, -0.6525, -0.3149],\n",
      "        [-0.5684,  0.0187,  0.4665, -0.3207,  0.3235,  0.1496,  0.0632,  0.0263,\n",
      "          0.0735, -0.2491,  0.2192, -0.1793,  0.4808, -0.6225, -0.1946]],\n",
      "       grad_fn=<AddmmBackward0>) torch.Size([2, 15])\n"
     ]
    }
   ],
   "source": [
    "transformer = TransformerNetwork(64,15,len(tokenDict),maxTokenLength)\n",
    "input_sentence\n",
    "output = transformer.forward(input_sentence)\n",
    "print(output, output.shape)"
   ]
  },
  {
   "cell_type": "code",
   "execution_count": 66,
   "metadata": {},
   "outputs": [
    {
     "name": "stdout",
     "output_type": "stream",
     "text": [
      "torch.Size([132820, 22])\n"
     ]
    }
   ],
   "source": [
    "from torch.utils.data import Dataset, DataLoader\n",
    "batch_size = 64\n",
    "## Create iterable dataset class:\n",
    "\n",
    "class datasetObject(Dataset):\n",
    "    def __init__(self,data,targets):\n",
    "        self.data = data\n",
    "        self.targets = targets\n",
    "    def __len__(self):\n",
    "        return len(self.data)\n",
    "    def __getitem__(self, index):\n",
    "        sample = self.data[index]\n",
    "        target = self.targets[index]\n",
    "        return torch.tensor(sample), torch.tensor(target)\n",
    "\n",
    "\n",
    "print(encodedTensors.shape)\n",
    "data = DataLoader(datasetObject(encodedTensors,targetTensor),batch_size,shuffle=False)"
   ]
  },
  {
   "cell_type": "code",
   "execution_count": 67,
   "metadata": {},
   "outputs": [
    {
     "name": "stderr",
     "output_type": "stream",
     "text": [
      "/var/folders/q_/7fkh9kxx2gs8xdl51_6vwkx80000gn/T/ipykernel_88658/1258826956.py:14: UserWarning: To copy construct from a tensor, it is recommended to use sourceTensor.clone().detach() or sourceTensor.clone().detach().requires_grad_(True), rather than torch.tensor(sourceTensor).\n",
      "  return torch.tensor(sample), torch.tensor(target)\n"
     ]
    }
   ],
   "source": [
    "d_model = 64\n",
    "hidden_channels = 64\n",
    "d_target = 15\n",
    "vocab_size = len(tokenDict)\n",
    "\n",
    "\n",
    "model = TransformerNetwork(hidden_channels,d_target,vocab_size,maxTokenLength) \n",
    "optimizer = torch.optim.Adam(model.parameters(), lr=0.0005)\n",
    "criterion = torch.nn.MSELoss()\n",
    "\n",
    "def train(data_in, targets):\n",
    "      model.train()\n",
    "      optimizer.zero_grad()  # Clear gradients.\n",
    "      out = model(data_in)\n",
    "      loss = criterion(out, targets)\n",
    "\n",
    "      loss.backward()  # Derive gradients.\n",
    "      optimizer.step()  # Update parameters based on gradients.\n",
    "\n",
    "      return loss\n",
    "\n",
    "\n",
    "\n",
    "testTensors = encodedTensors[:100]\n",
    "testTargets = targetTensor[:100]\n",
    "\n",
    "for epoch in range(1000):\n",
    "      for input,targets in data:\n",
    "            loss = train(input,targets)\n",
    "      print(loss)"
   ]
  },
  {
   "cell_type": "code",
   "execution_count": 54,
   "metadata": {},
   "outputs": [
    {
     "name": "stdout",
     "output_type": "stream",
     "text": [
      "tensor([[ 7.7383e+00,  3.2666e+00,  2.5561e+00,  2.3051e+00,  4.8976e+01,\n",
      "         -2.1962e-01,  3.4287e-02,  2.7112e-01,  5.3636e+02,  9.4944e-02,\n",
      "         -2.6862e+02, -2.6863e+02, -2.6862e+02, -2.6865e+02,  2.1880e+01]],\n",
      "       grad_fn=<AddmmBackward0>)\n",
      "tensor([ 0.0000e+00,  4.4260e+00,  4.4260e+00,  0.0000e+00,  3.8520e+01,\n",
      "        -2.5990e-01, -2.1400e-02,  2.3860e-01,  2.7863e+02,  3.7354e-02,\n",
      "        -1.5346e+02, -1.5346e+02, -1.5345e+02, -1.5348e+02,  1.5312e+01])\n"
     ]
    }
   ],
   "source": [
    "print(model(testTensors[0]))\n",
    "print(testTargets[0])"
   ]
  }
 ],
 "metadata": {
  "kernelspec": {
   "display_name": "Python 3",
   "language": "python",
   "name": "python3"
  },
  "language_info": {
   "codemirror_mode": {
    "name": "ipython",
    "version": 3
   },
   "file_extension": ".py",
   "mimetype": "text/x-python",
   "name": "python",
   "nbconvert_exporter": "python",
   "pygments_lexer": "ipython3",
   "version": "3.10.10"
  },
  "orig_nbformat": 4
 },
 "nbformat": 4,
 "nbformat_minor": 2
}
