{
 "cells": [
  {
   "attachments": {},
   "cell_type": "markdown",
   "metadata": {},
   "source": [
    "# TIF360 Project"
   ]
  },
  {
   "attachments": {},
   "cell_type": "markdown",
   "metadata": {},
   "source": [
    "# Data Pre-processing"
   ]
  },
  {
   "attachments": {},
   "cell_type": "markdown",
   "metadata": {},
   "source": [
    "Main source: https://www.kaggle.com/code/rmonge/predicting-molecule-properties-based-on-its-smiles/notebook"
   ]
  },
  {
   "attachments": {},
   "cell_type": "markdown",
   "metadata": {},
   "source": [
    "### Import packages"
   ]
  },
  {
   "attachments": {},
   "cell_type": "markdown",
   "metadata": {},
   "source": [
    "UPDATED ON 15/05-2023  11:20"
   ]
  },
  {
   "cell_type": "code",
   "execution_count": 2,
   "metadata": {},
   "outputs": [],
   "source": [
    "import os\n",
    "import numpy as np\n",
    "import pandas as pd\n",
    "import torch\n",
    "import torch.nn as nn\n",
    "import math\n",
    "import atomInSmiles\n",
    "from torch.utils.data import DataLoader\n",
    "\n",
    "import sys\n",
    "sys.path.append('../')\n",
    "from code_graphs.utility_functions import get_num_parameters , get_data_split_indices, scale_targets\n",
    "\n",
    "\n",
    "import random\n"
   ]
  },
  {
   "cell_type": "code",
   "execution_count": 3,
   "metadata": {},
   "outputs": [],
   "source": [
    "# Input is list of strings on the form ['a','b','c']\n",
    "# where the string are tokens\n",
    "# Dictionary is the dictionary containign all possible tokens\n",
    "# and an index for them\n",
    "# MaxTokenLength is the max amount of tokens any input creates\n",
    "def create_Onehot_Matrix(input, dictionary,maxTokenLength):\n",
    "    # Create a matrix of zeros\n",
    "    onehot_Matrix = np.zeros((len(dictionary),maxTokenLength))\n",
    "    \n",
    "    # Change value in right place to one\n",
    "    keyCount = 0\n",
    "    for key in input:\n",
    "        onehot_Matrix[dictionary[key],keyCount] = 1\n",
    "        keyCount+=1\n",
    "\n",
    "    # Return it\n",
    "    return(onehot_Matrix)"
   ]
  },
  {
   "cell_type": "code",
   "execution_count": 4,
   "metadata": {},
   "outputs": [],
   "source": [
    "\n",
    "# Input is list of strings on the form ['a','b','c']\n",
    "# where the string are tokens\n",
    "# Dictionary is the dictionary containign all possible tokens\n",
    "# and an index for them\n",
    "# MaxTokenLength is the max amount of tokens any input creates\n",
    "\n",
    "# THIS VERSION RETURNS TORCH TENSOR\n",
    "\n",
    "#Version taht returns tensor\n",
    "def create_encoded_tensor(input, dictionary,maxTokenLength):\n",
    "    # Create a matrix of zeros\n",
    "    #encoded_vector = np.zeros((1,maxTokenLength))\n",
    "    encoded_tensor = np.zeros(maxTokenLength,dtype=np.int32)\n",
    "    \n",
    "    # Change value in right place to one\n",
    "    keyCount = 0\n",
    "    for key in input:\n",
    "        encoded_tensor[keyCount] = dictionary[key]\n",
    "        keyCount+=1\n",
    "    \n",
    "    # encoded_tensor = np.expand_dims(encoded_tensor,axis=1)\n",
    "    return encoded_tensor\n"
   ]
  },
  {
   "cell_type": "code",
   "execution_count": 5,
   "metadata": {},
   "outputs": [
    {
     "name": "stdout",
     "output_type": "stream",
     "text": [
      "(132820, 21)\n"
     ]
    }
   ],
   "source": [
    "\n",
    "\n",
    "df = pd.read_csv(\"../data/smiles_and_targets.csv\")\n",
    "print(np.shape(df))\n"
   ]
  },
  {
   "cell_type": "code",
   "execution_count": 6,
   "metadata": {},
   "outputs": [],
   "source": [
    "\n",
    "properties_names = ['A', 'B', 'C', 'mu', 'alfa', 'homo', 'lumo', 'gap', 'R²', 'zpve', 'U0', 'U', 'H', 'G', 'Cv']\n",
    "\n",
    "x_smiles = df.smiles.values\n",
    "targetTensor = df.loc[:, properties_names].values # shape = (n_samples, n_properties)\n"
   ]
  },
  {
   "cell_type": "code",
   "execution_count": 7,
   "metadata": {},
   "outputs": [
    {
     "name": "stdout",
     "output_type": "stream",
     "text": [
      "Longest word (max amount of tokens): 22\n"
     ]
    }
   ],
   "source": [
    "# tokenize all smiles\n",
    "#import atomInSmiles\n",
    "\n",
    "tokenList = []\n",
    "for smile in x_smiles:\n",
    "    tokenList.append(atomInSmiles.encode(smile).split())\n",
    "#tokenList is target\n",
    "\n",
    "# find longest word (max tokens from one smile+1)\n",
    "maxTokenLength = 0\n",
    "for token in tokenList:\n",
    "    if len(token)>maxTokenLength:\n",
    "        maxTokenLength = len(token)\n",
    "print('Longest word (max amount of tokens):', maxTokenLength)"
   ]
  },
  {
   "cell_type": "code",
   "execution_count": 8,
   "metadata": {},
   "outputs": [],
   "source": [
    "\n",
    "# Give each token a index in a dictionary\n",
    "tokenDict = {}\n",
    "count = 1\n",
    "\n",
    "dictList = []\n",
    "for itokens in tokenList:\n",
    "    for itoke in itokens:\n",
    "        #print(itoke)\n",
    "        if tokenDict.get(itoke) == None:\n",
    "            tokenDict[itoke] = count\n",
    "        \n",
    "            # current = [itoke, count]\n",
    "            # dictList.append(current)\n",
    "            count+=1"
   ]
  },
  {
   "cell_type": "code",
   "execution_count": 9,
   "metadata": {},
   "outputs": [],
   "source": [
    "encodedTokens = []\n",
    "for token in tokenList:\n",
    "    encodedTokens.append(create_encoded_tensor(token,tokenDict,maxTokenLength))\n",
    "    \n",
    "encodedTokens = np.array(encodedTokens)\n"
   ]
  },
  {
   "cell_type": "code",
   "execution_count": 10,
   "metadata": {},
   "outputs": [],
   "source": [
    "# From attention is all you need\n",
    "class PositionalEncoding(nn.Module):\n",
    "    \"Implement the PE function.\"\n",
    "    def __init__(self, d_model, max_len,dropout):\n",
    "        super(PositionalEncoding, self).__init__()\n",
    "        self.dropout = nn.Dropout(p=dropout)\n",
    "        \n",
    "        # Compute the positional encodings once in log space.\n",
    "        pe = torch.zeros(max_len, d_model)\n",
    "        position = torch.arange(0, max_len).unsqueeze(1)\n",
    "        div_term = torch.exp(torch.arange(0, d_model, 2) *\n",
    "                             -(math.log(10000.0) / d_model))\n",
    "        pe[:, 0::2] = torch.sin(position * div_term)\n",
    "        pe[:, 1::2] = torch.cos(position * div_term)\n",
    "        pe = pe.unsqueeze(0)\n",
    "        self.register_buffer('pe', pe)\n",
    "        \n",
    "    def forward(self, x):\n",
    "        # x = x + torch.tensor(self.pe[:, :x.size(1)], \n",
    "        #                  requires_grad=False)\n",
    "        x = x + self.pe[:x.size(0), :].detach()\n",
    "        return self.dropout(x)"
   ]
  },
  {
   "cell_type": "code",
   "execution_count": 11,
   "metadata": {},
   "outputs": [],
   "source": [
    "\n",
    "class TransformerLayer(torch.nn.Module):\n",
    "    def __init__(self, embedding_dim, hidden_channels, num_heads):\n",
    "        super().__init__()\n",
    "        self.Attention = torch.nn.MultiheadAttention(embedding_dim,num_heads=num_heads,dropout=0.15)\n",
    "        self.Norm1 = torch.nn.LayerNorm(embedding_dim)\n",
    "        self.Dense1 = torch.nn.Linear(embedding_dim,hidden_channels)\n",
    "        self.relu = torch.nn.ReLU()\n",
    "        self.Dense2 = torch.nn.Linear(hidden_channels,embedding_dim)\n",
    "        \n",
    "\n",
    "        self.Norm2 = torch.nn.LayerNorm(embedding_dim)\n",
    "        \n",
    "\n",
    "    def forward(self, x):\n",
    "        addNormX = x\n",
    "        #print(x.shape)\n",
    "        x, _ = self.Attention(x,x,x)\n",
    "        #print('attention output',x.shape)\n",
    "        x = self.Norm1(x + addNormX)\n",
    "        #print('norm + input',x.shape)\n",
    "        addNormX = x\n",
    "        x = self.Dense1(x)\n",
    "        x = self.relu(x)\n",
    "        #print('first dense output',x.shape)\n",
    "        x = self.Dense2(x)\n",
    "        #print('second dense output',x.shape)\n",
    "        x = self.Norm2(x + addNormX)\n",
    "        #print(x.shape)\n",
    "\n",
    " \n",
    "        return x"
   ]
  },
  {
   "cell_type": "code",
   "execution_count": 12,
   "metadata": {},
   "outputs": [],
   "source": [
    "class TransformerNetwork(torch.nn.Module):\n",
    "    def __init__(self,hidden_channels,output_dim, vocab_size, embedding_dim, num_heads,maxTokenLength):\n",
    "        super().__init__()\n",
    "        # Embedd and add pos encoding to input\n",
    "        self.EmbeddingLayer = torch.nn.Embedding(num_embeddings=vocab_size,embedding_dim = embedding_dim , max_norm=True)\n",
    "        self.PositionalEncoding = PositionalEncoding(embedding_dim, maxTokenLength, dropout = 0.15)\n",
    "\n",
    "        self.TransEnc1 = TransformerLayer(embedding_dim,hidden_channels,num_heads)\n",
    "        self.TransEnc2 = TransformerLayer(embedding_dim,hidden_channels,num_heads)\n",
    "        self.TransEnc3 = TransformerLayer(embedding_dim,hidden_channels,num_heads)\n",
    "        self.Pooling = torch.nn.AvgPool1d(kernel_size= 22)\n",
    "\n",
    "        self.DenseOut1 = torch.nn.Linear(embedding_dim,hidden_channels)\n",
    "        self.DenseOut2 = torch.nn.Linear(hidden_channels,output_dim)\n",
    "        self.relu = torch.nn.ReLU()\n",
    "\n",
    "\n",
    "    def forward(self,x):\n",
    "        x = self.EmbeddingLayer(x)\n",
    "        x = self.PositionalEncoding(x)\n",
    "        x = self.TransEnc1(x)\n",
    "        x = self.TransEnc2(x)\n",
    "        x = self.TransEnc3(x)\n",
    "        x = self.Pooling(x.permute((0,2,1))).permute((0,2,1))\n",
    "        x = torch.squeeze(x,axis=1)\n",
    "        #x = x[:,-1,:]\n",
    "        x = self.DenseOut1(x)\n",
    "        x = self.relu(x)\n",
    "        x = self.DenseOut2(x)\n",
    "        \n",
    "        return x"
   ]
  },
  {
   "cell_type": "code",
   "execution_count": 13,
   "metadata": {},
   "outputs": [
    {
     "name": "stdout",
     "output_type": "stream",
     "text": [
      "cuda available: False\n",
      "device: cpu\n"
     ]
    }
   ],
   "source": [
    "print(\"cuda available:\", torch.cuda.is_available())\n",
    "device = torch.device('cuda' if torch.cuda.is_available() else 'cpu')\n",
    "print(\"device:\", \"cuda\" if torch.cuda.is_available() else \"cpu\")\n",
    "if torch.cuda.is_available():\n",
    "    print(torch.cuda.get_device_name(0))"
   ]
  },
  {
   "cell_type": "code",
   "execution_count": 14,
   "metadata": {},
   "outputs": [],
   "source": [
    "from torch.utils.data import Dataset, DataLoader\n",
    "batch_size = 64\n",
    "## Create iterable dataset class:\n",
    "\n",
    "class datasetObject(Dataset):\n",
    "    def __init__(self,data,targets):\n",
    "        self.data = data\n",
    "        self.targets = targets\n",
    "    def __len__(self):\n",
    "        return len(self.data)\n",
    "    def __getitem__(self, index):\n",
    "        sample = self.data[index]\n",
    "        target = self.targets[index]\n",
    "        return (sample), (target)\n",
    "\n",
    "trainSplit, validationSplit, testSplit = get_data_split_indices(len(encodedTokens),0.1,0.1)\n",
    "\n",
    "# Training\n",
    "encodedTrainData = torch.tensor(encodedTokens[trainSplit], dtype=torch.long, device=device)\n",
    "trainTargets = targetTensor[trainSplit]\n",
    "\n",
    "# Validation\n",
    "encodedValidationData = torch.tensor(encodedTokens[validationSplit], dtype=torch.long, device=device)\n",
    "validationTargets = targetTensor[validationSplit]\n",
    "\n",
    "# Test\n",
    "encodedTestData = torch.tensor(encodedTokens[testSplit], dtype=torch.long, device=device)\n",
    "testTargets = targetTensor[testSplit]\n",
    "\n",
    "trainTargets, validationTargets, testTargets, scalerTargets = scale_targets(trainTargets,validationTargets,testTargets)\n",
    "\n",
    "trainTargets = torch.tensor(trainTargets,dtype=torch.float,device=device)\n",
    "validationTargets = torch.tensor(validationTargets,dtype=torch.float, device=device)\n",
    "testTargets = torch.tensor(testTargets,dtype=torch.float, device=device)\n",
    "\n",
    "trainingData = DataLoader(datasetObject(encodedTrainData,trainTargets),batch_size,shuffle=False)\n",
    "testData = DataLoader(datasetObject(encodedTestData,testTargets),batch_size,shuffle=False)\n",
    "validationData = DataLoader(datasetObject(encodedValidationData,validationTargets),batch_size,shuffle=False)"
   ]
  },
  {
   "cell_type": "code",
   "execution_count": 15,
   "metadata": {},
   "outputs": [
    {
     "data": {
      "text/plain": [
       "[{'hidden_channels': 64, 'embedding_dim': 32, 'nHeads': 8},\n",
       " {'hidden_channels': 64, 'embedding_dim': 32, 'nHeads': 16},\n",
       " {'hidden_channels': 64, 'embedding_dim': 64, 'nHeads': 8},\n",
       " {'hidden_channels': 64, 'embedding_dim': 64, 'nHeads': 16},\n",
       " {'hidden_channels': 64, 'embedding_dim': 128, 'nHeads': 8},\n",
       " {'hidden_channels': 64, 'embedding_dim': 128, 'nHeads': 16},\n",
       " {'hidden_channels': 128, 'embedding_dim': 32, 'nHeads': 8},\n",
       " {'hidden_channels': 128, 'embedding_dim': 32, 'nHeads': 16},\n",
       " {'hidden_channels': 128, 'embedding_dim': 64, 'nHeads': 8},\n",
       " {'hidden_channels': 128, 'embedding_dim': 64, 'nHeads': 16},\n",
       " {'hidden_channels': 128, 'embedding_dim': 128, 'nHeads': 8},\n",
       " {'hidden_channels': 128, 'embedding_dim': 128, 'nHeads': 16},\n",
       " {'hidden_channels': 256, 'embedding_dim': 32, 'nHeads': 8},\n",
       " {'hidden_channels': 256, 'embedding_dim': 32, 'nHeads': 16},\n",
       " {'hidden_channels': 256, 'embedding_dim': 64, 'nHeads': 8},\n",
       " {'hidden_channels': 256, 'embedding_dim': 64, 'nHeads': 16},\n",
       " {'hidden_channels': 256, 'embedding_dim': 128, 'nHeads': 8},\n",
       " {'hidden_channels': 256, 'embedding_dim': 128, 'nHeads': 16}]"
      ]
     },
     "execution_count": 15,
     "metadata": {},
     "output_type": "execute_result"
    }
   ],
   "source": [
    "# Creates list of dictionary for many runs of different parametervalues\n",
    "heads = [8,16]\n",
    "embeddings = [32,64,128]\n",
    "hiddenChannels = [64,128,256]\n",
    "parameterList = []\n",
    "\n",
    "for channel in hiddenChannels:\n",
    "    for embed in embeddings:\n",
    "        for ihead in heads:\n",
    "            tempDict = {}\n",
    "            tempDict['hidden_channels'] = channel\n",
    "            tempDict['embedding_dim'] = embed\n",
    "            tempDict['nHeads'] = ihead\n",
    "            parameterList.append(tempDict)\n",
    "\n",
    "parameterList"
   ]
  },
  {
   "cell_type": "code",
   "execution_count": 36,
   "metadata": {},
   "outputs": [
    {
     "name": "stdout",
     "output_type": "stream",
     "text": [
      "network counter: 1\n",
      "#### Epoch: 0 of 100 ####\n",
      " Training loss:\t0.3919408018512944\n",
      " Test loss:\t0.2152097958784837\n",
      " Validation loss:\t0.21917053369375375\n"
     ]
    },
    {
     "ename": "KeyboardInterrupt",
     "evalue": "",
     "output_type": "error",
     "traceback": [
      "\u001b[0;31m---------------------------------------------------------------------------\u001b[0m",
      "\u001b[0;31mKeyboardInterrupt\u001b[0m                         Traceback (most recent call last)",
      "Cell \u001b[0;32mIn[36], line 107\u001b[0m\n\u001b[1;32m    105\u001b[0m loss \u001b[39m=\u001b[39m \u001b[39m0\u001b[39m\n\u001b[1;32m    106\u001b[0m \u001b[39mfor\u001b[39;00m \u001b[39minput\u001b[39m,targets \u001b[39min\u001b[39;00m trainingData:\n\u001b[0;32m--> 107\u001b[0m       loss \u001b[39m+\u001b[39m\u001b[39m=\u001b[39m train(\u001b[39minput\u001b[39;49m,targets)\u001b[39m.\u001b[39mdetach()\n\u001b[1;32m    109\u001b[0m test \u001b[39m=\u001b[39m \u001b[39m0\u001b[39m\n\u001b[1;32m    110\u001b[0m r2 \u001b[39m=\u001b[39m \u001b[39m0\u001b[39m\n",
      "Cell \u001b[0;32mIn[36], line 27\u001b[0m, in \u001b[0;36mtrain\u001b[0;34m(data_in, targets)\u001b[0m\n\u001b[1;32m     25\u001b[0m model\u001b[39m.\u001b[39mtrain()\n\u001b[1;32m     26\u001b[0m optimizer\u001b[39m.\u001b[39mzero_grad()  \u001b[39m# Clear gradients.\u001b[39;00m\n\u001b[0;32m---> 27\u001b[0m out \u001b[39m=\u001b[39m model(data_in)\n\u001b[1;32m     28\u001b[0m loss \u001b[39m=\u001b[39m criterion(out, targets)\n\u001b[1;32m     30\u001b[0m loss\u001b[39m.\u001b[39mbackward()  \u001b[39m# Derive gradients.\u001b[39;00m\n",
      "File \u001b[0;32m~/.local/lib/python3.10/site-packages/torch/nn/modules/module.py:1501\u001b[0m, in \u001b[0;36mModule._call_impl\u001b[0;34m(self, *args, **kwargs)\u001b[0m\n\u001b[1;32m   1496\u001b[0m \u001b[39m# If we don't have any hooks, we want to skip the rest of the logic in\u001b[39;00m\n\u001b[1;32m   1497\u001b[0m \u001b[39m# this function, and just call forward.\u001b[39;00m\n\u001b[1;32m   1498\u001b[0m \u001b[39mif\u001b[39;00m \u001b[39mnot\u001b[39;00m (\u001b[39mself\u001b[39m\u001b[39m.\u001b[39m_backward_hooks \u001b[39mor\u001b[39;00m \u001b[39mself\u001b[39m\u001b[39m.\u001b[39m_backward_pre_hooks \u001b[39mor\u001b[39;00m \u001b[39mself\u001b[39m\u001b[39m.\u001b[39m_forward_hooks \u001b[39mor\u001b[39;00m \u001b[39mself\u001b[39m\u001b[39m.\u001b[39m_forward_pre_hooks\n\u001b[1;32m   1499\u001b[0m         \u001b[39mor\u001b[39;00m _global_backward_pre_hooks \u001b[39mor\u001b[39;00m _global_backward_hooks\n\u001b[1;32m   1500\u001b[0m         \u001b[39mor\u001b[39;00m _global_forward_hooks \u001b[39mor\u001b[39;00m _global_forward_pre_hooks):\n\u001b[0;32m-> 1501\u001b[0m     \u001b[39mreturn\u001b[39;00m forward_call(\u001b[39m*\u001b[39;49margs, \u001b[39m*\u001b[39;49m\u001b[39m*\u001b[39;49mkwargs)\n\u001b[1;32m   1502\u001b[0m \u001b[39m# Do not call functions when jit is used\u001b[39;00m\n\u001b[1;32m   1503\u001b[0m full_backward_hooks, non_full_backward_hooks \u001b[39m=\u001b[39m [], []\n",
      "Cell \u001b[0;32mIn[12], line 23\u001b[0m, in \u001b[0;36mTransformerNetwork.forward\u001b[0;34m(self, x)\u001b[0m\n\u001b[1;32m     21\u001b[0m x \u001b[39m=\u001b[39m \u001b[39mself\u001b[39m\u001b[39m.\u001b[39mTransEnc1(x)\n\u001b[1;32m     22\u001b[0m x \u001b[39m=\u001b[39m \u001b[39mself\u001b[39m\u001b[39m.\u001b[39mTransEnc2(x)\n\u001b[0;32m---> 23\u001b[0m x \u001b[39m=\u001b[39m \u001b[39mself\u001b[39;49m\u001b[39m.\u001b[39;49mTransEnc3(x)\n\u001b[1;32m     24\u001b[0m x \u001b[39m=\u001b[39m \u001b[39mself\u001b[39m\u001b[39m.\u001b[39mPooling(x\u001b[39m.\u001b[39mpermute((\u001b[39m0\u001b[39m,\u001b[39m2\u001b[39m,\u001b[39m1\u001b[39m)))\u001b[39m.\u001b[39mpermute((\u001b[39m0\u001b[39m,\u001b[39m2\u001b[39m,\u001b[39m1\u001b[39m))\n\u001b[1;32m     25\u001b[0m x \u001b[39m=\u001b[39m torch\u001b[39m.\u001b[39msqueeze(x,axis\u001b[39m=\u001b[39m\u001b[39m1\u001b[39m)\n",
      "File \u001b[0;32m~/.local/lib/python3.10/site-packages/torch/nn/modules/module.py:1501\u001b[0m, in \u001b[0;36mModule._call_impl\u001b[0;34m(self, *args, **kwargs)\u001b[0m\n\u001b[1;32m   1496\u001b[0m \u001b[39m# If we don't have any hooks, we want to skip the rest of the logic in\u001b[39;00m\n\u001b[1;32m   1497\u001b[0m \u001b[39m# this function, and just call forward.\u001b[39;00m\n\u001b[1;32m   1498\u001b[0m \u001b[39mif\u001b[39;00m \u001b[39mnot\u001b[39;00m (\u001b[39mself\u001b[39m\u001b[39m.\u001b[39m_backward_hooks \u001b[39mor\u001b[39;00m \u001b[39mself\u001b[39m\u001b[39m.\u001b[39m_backward_pre_hooks \u001b[39mor\u001b[39;00m \u001b[39mself\u001b[39m\u001b[39m.\u001b[39m_forward_hooks \u001b[39mor\u001b[39;00m \u001b[39mself\u001b[39m\u001b[39m.\u001b[39m_forward_pre_hooks\n\u001b[1;32m   1499\u001b[0m         \u001b[39mor\u001b[39;00m _global_backward_pre_hooks \u001b[39mor\u001b[39;00m _global_backward_hooks\n\u001b[1;32m   1500\u001b[0m         \u001b[39mor\u001b[39;00m _global_forward_hooks \u001b[39mor\u001b[39;00m _global_forward_pre_hooks):\n\u001b[0;32m-> 1501\u001b[0m     \u001b[39mreturn\u001b[39;00m forward_call(\u001b[39m*\u001b[39;49margs, \u001b[39m*\u001b[39;49m\u001b[39m*\u001b[39;49mkwargs)\n\u001b[1;32m   1502\u001b[0m \u001b[39m# Do not call functions when jit is used\u001b[39;00m\n\u001b[1;32m   1503\u001b[0m full_backward_hooks, non_full_backward_hooks \u001b[39m=\u001b[39m [], []\n",
      "Cell \u001b[0;32mIn[11], line 17\u001b[0m, in \u001b[0;36mTransformerLayer.forward\u001b[0;34m(self, x)\u001b[0m\n\u001b[1;32m     15\u001b[0m addNormX \u001b[39m=\u001b[39m x\n\u001b[1;32m     16\u001b[0m \u001b[39m#print(x.shape)\u001b[39;00m\n\u001b[0;32m---> 17\u001b[0m x, _ \u001b[39m=\u001b[39m \u001b[39mself\u001b[39;49m\u001b[39m.\u001b[39;49mAttention(x,x,x)\n\u001b[1;32m     18\u001b[0m \u001b[39m#print('attention output',x.shape)\u001b[39;00m\n\u001b[1;32m     19\u001b[0m x \u001b[39m=\u001b[39m \u001b[39mself\u001b[39m\u001b[39m.\u001b[39mNorm1(x \u001b[39m+\u001b[39m addNormX)\n",
      "File \u001b[0;32m~/.local/lib/python3.10/site-packages/torch/nn/modules/module.py:1501\u001b[0m, in \u001b[0;36mModule._call_impl\u001b[0;34m(self, *args, **kwargs)\u001b[0m\n\u001b[1;32m   1496\u001b[0m \u001b[39m# If we don't have any hooks, we want to skip the rest of the logic in\u001b[39;00m\n\u001b[1;32m   1497\u001b[0m \u001b[39m# this function, and just call forward.\u001b[39;00m\n\u001b[1;32m   1498\u001b[0m \u001b[39mif\u001b[39;00m \u001b[39mnot\u001b[39;00m (\u001b[39mself\u001b[39m\u001b[39m.\u001b[39m_backward_hooks \u001b[39mor\u001b[39;00m \u001b[39mself\u001b[39m\u001b[39m.\u001b[39m_backward_pre_hooks \u001b[39mor\u001b[39;00m \u001b[39mself\u001b[39m\u001b[39m.\u001b[39m_forward_hooks \u001b[39mor\u001b[39;00m \u001b[39mself\u001b[39m\u001b[39m.\u001b[39m_forward_pre_hooks\n\u001b[1;32m   1499\u001b[0m         \u001b[39mor\u001b[39;00m _global_backward_pre_hooks \u001b[39mor\u001b[39;00m _global_backward_hooks\n\u001b[1;32m   1500\u001b[0m         \u001b[39mor\u001b[39;00m _global_forward_hooks \u001b[39mor\u001b[39;00m _global_forward_pre_hooks):\n\u001b[0;32m-> 1501\u001b[0m     \u001b[39mreturn\u001b[39;00m forward_call(\u001b[39m*\u001b[39;49margs, \u001b[39m*\u001b[39;49m\u001b[39m*\u001b[39;49mkwargs)\n\u001b[1;32m   1502\u001b[0m \u001b[39m# Do not call functions when jit is used\u001b[39;00m\n\u001b[1;32m   1503\u001b[0m full_backward_hooks, non_full_backward_hooks \u001b[39m=\u001b[39m [], []\n",
      "File \u001b[0;32m~/.local/lib/python3.10/site-packages/torch/nn/modules/activation.py:1189\u001b[0m, in \u001b[0;36mMultiheadAttention.forward\u001b[0;34m(self, query, key, value, key_padding_mask, need_weights, attn_mask, average_attn_weights, is_causal)\u001b[0m\n\u001b[1;32m   1175\u001b[0m     attn_output, attn_output_weights \u001b[39m=\u001b[39m F\u001b[39m.\u001b[39mmulti_head_attention_forward(\n\u001b[1;32m   1176\u001b[0m         query, key, value, \u001b[39mself\u001b[39m\u001b[39m.\u001b[39membed_dim, \u001b[39mself\u001b[39m\u001b[39m.\u001b[39mnum_heads,\n\u001b[1;32m   1177\u001b[0m         \u001b[39mself\u001b[39m\u001b[39m.\u001b[39min_proj_weight, \u001b[39mself\u001b[39m\u001b[39m.\u001b[39min_proj_bias,\n\u001b[0;32m   (...)\u001b[0m\n\u001b[1;32m   1186\u001b[0m         average_attn_weights\u001b[39m=\u001b[39maverage_attn_weights,\n\u001b[1;32m   1187\u001b[0m         is_causal\u001b[39m=\u001b[39mis_causal)\n\u001b[1;32m   1188\u001b[0m \u001b[39melse\u001b[39;00m:\n\u001b[0;32m-> 1189\u001b[0m     attn_output, attn_output_weights \u001b[39m=\u001b[39m F\u001b[39m.\u001b[39;49mmulti_head_attention_forward(\n\u001b[1;32m   1190\u001b[0m         query, key, value, \u001b[39mself\u001b[39;49m\u001b[39m.\u001b[39;49membed_dim, \u001b[39mself\u001b[39;49m\u001b[39m.\u001b[39;49mnum_heads,\n\u001b[1;32m   1191\u001b[0m         \u001b[39mself\u001b[39;49m\u001b[39m.\u001b[39;49min_proj_weight, \u001b[39mself\u001b[39;49m\u001b[39m.\u001b[39;49min_proj_bias,\n\u001b[1;32m   1192\u001b[0m         \u001b[39mself\u001b[39;49m\u001b[39m.\u001b[39;49mbias_k, \u001b[39mself\u001b[39;49m\u001b[39m.\u001b[39;49mbias_v, \u001b[39mself\u001b[39;49m\u001b[39m.\u001b[39;49madd_zero_attn,\n\u001b[1;32m   1193\u001b[0m         \u001b[39mself\u001b[39;49m\u001b[39m.\u001b[39;49mdropout, \u001b[39mself\u001b[39;49m\u001b[39m.\u001b[39;49mout_proj\u001b[39m.\u001b[39;49mweight, \u001b[39mself\u001b[39;49m\u001b[39m.\u001b[39;49mout_proj\u001b[39m.\u001b[39;49mbias,\n\u001b[1;32m   1194\u001b[0m         training\u001b[39m=\u001b[39;49m\u001b[39mself\u001b[39;49m\u001b[39m.\u001b[39;49mtraining,\n\u001b[1;32m   1195\u001b[0m         key_padding_mask\u001b[39m=\u001b[39;49mkey_padding_mask,\n\u001b[1;32m   1196\u001b[0m         need_weights\u001b[39m=\u001b[39;49mneed_weights,\n\u001b[1;32m   1197\u001b[0m         attn_mask\u001b[39m=\u001b[39;49mattn_mask,\n\u001b[1;32m   1198\u001b[0m         average_attn_weights\u001b[39m=\u001b[39;49maverage_attn_weights,\n\u001b[1;32m   1199\u001b[0m         is_causal\u001b[39m=\u001b[39;49mis_causal)\n\u001b[1;32m   1200\u001b[0m \u001b[39mif\u001b[39;00m \u001b[39mself\u001b[39m\u001b[39m.\u001b[39mbatch_first \u001b[39mand\u001b[39;00m is_batched:\n\u001b[1;32m   1201\u001b[0m     \u001b[39mreturn\u001b[39;00m attn_output\u001b[39m.\u001b[39mtranspose(\u001b[39m1\u001b[39m, \u001b[39m0\u001b[39m), attn_output_weights\n",
      "File \u001b[0;32m~/.local/lib/python3.10/site-packages/torch/nn/functional.py:5302\u001b[0m, in \u001b[0;36mmulti_head_attention_forward\u001b[0;34m(query, key, value, embed_dim_to_check, num_heads, in_proj_weight, in_proj_bias, bias_k, bias_v, add_zero_attn, dropout_p, out_proj_weight, out_proj_bias, training, key_padding_mask, need_weights, attn_mask, use_separate_proj_weight, q_proj_weight, k_proj_weight, v_proj_weight, static_k, static_v, average_attn_weights, is_causal)\u001b[0m\n\u001b[1;32m   5300\u001b[0m attn_output_weights \u001b[39m=\u001b[39m softmax(attn_output_weights, dim\u001b[39m=\u001b[39m\u001b[39m-\u001b[39m\u001b[39m1\u001b[39m)\n\u001b[1;32m   5301\u001b[0m \u001b[39mif\u001b[39;00m dropout_p \u001b[39m>\u001b[39m \u001b[39m0.0\u001b[39m:\n\u001b[0;32m-> 5302\u001b[0m     attn_output_weights \u001b[39m=\u001b[39m dropout(attn_output_weights, p\u001b[39m=\u001b[39;49mdropout_p)\n\u001b[1;32m   5304\u001b[0m attn_output \u001b[39m=\u001b[39m torch\u001b[39m.\u001b[39mbmm(attn_output_weights, v)\n\u001b[1;32m   5306\u001b[0m attn_output \u001b[39m=\u001b[39m attn_output\u001b[39m.\u001b[39mtranspose(\u001b[39m0\u001b[39m, \u001b[39m1\u001b[39m)\u001b[39m.\u001b[39mcontiguous()\u001b[39m.\u001b[39mview(tgt_len \u001b[39m*\u001b[39m bsz, embed_dim)\n",
      "File \u001b[0;32m~/.local/lib/python3.10/site-packages/torch/nn/functional.py:1252\u001b[0m, in \u001b[0;36mdropout\u001b[0;34m(input, p, training, inplace)\u001b[0m\n\u001b[1;32m   1250\u001b[0m \u001b[39mif\u001b[39;00m p \u001b[39m<\u001b[39m \u001b[39m0.0\u001b[39m \u001b[39mor\u001b[39;00m p \u001b[39m>\u001b[39m \u001b[39m1.0\u001b[39m:\n\u001b[1;32m   1251\u001b[0m     \u001b[39mraise\u001b[39;00m \u001b[39mValueError\u001b[39;00m(\u001b[39m\"\u001b[39m\u001b[39mdropout probability has to be between 0 and 1, \u001b[39m\u001b[39m\"\u001b[39m \u001b[39m\"\u001b[39m\u001b[39mbut got \u001b[39m\u001b[39m{}\u001b[39;00m\u001b[39m\"\u001b[39m\u001b[39m.\u001b[39mformat(p))\n\u001b[0;32m-> 1252\u001b[0m \u001b[39mreturn\u001b[39;00m _VF\u001b[39m.\u001b[39mdropout_(\u001b[39minput\u001b[39m, p, training) \u001b[39mif\u001b[39;00m inplace \u001b[39melse\u001b[39;00m _VF\u001b[39m.\u001b[39;49mdropout(\u001b[39minput\u001b[39;49m, p, training)\n",
      "\u001b[0;31mKeyboardInterrupt\u001b[0m: "
     ]
    }
   ],
   "source": [
    "from sklearn.metrics import r2_score\n",
    "hidden_channels = 32\n",
    "embedding_dim = 16\n",
    "learningRate = 0.001\n",
    "d_target = 15\n",
    "vocab_size = len(tokenDict)+1\n",
    "nHeads = 8\n",
    "\n",
    "# paramList = [{hidden_channels : 128, embedding_dim : 32, nHeads : 16},\n",
    "#              {hidden_channels : 128, embedding_dim : 32, nHeads : 16},\n",
    "#              {hidden_channels : 128, embedding_dim : 32, nHeads : 16},\n",
    "#              {hidden_channels : 128, embedding_dim : 32, nHeads : 16}]\n",
    "\n",
    "\n",
    "torch.manual_seed(12345)\n",
    "\n",
    "model = TransformerNetwork(hidden_channels,d_target,vocab_size, embedding_dim, nHeads, maxTokenLength).to(device) \n",
    "optimizer = torch.optim.Adam(model.parameters(), lr=learningRate, weight_decay=5e-4)\n",
    "# decay learning rate\n",
    "decayRate = 0.95\n",
    "lr_scheduler = torch.optim.lr_scheduler.ExponentialLR(optimizer=optimizer, gamma=decayRate)\n",
    "criterion = torch.nn.MSELoss().to(device)\n",
    "\n",
    "def train(data_in, targets):\n",
    "      model.train()\n",
    "      optimizer.zero_grad()  # Clear gradients.\n",
    "      out = model(data_in)\n",
    "      loss = criterion(out, targets)\n",
    "      \n",
    "      loss.backward()  # Derive gradients.\n",
    "      optimizer.step()  # Update parameters based on gradients.\n",
    "      return loss\n",
    "\n",
    "def infer(data_in, targets):\n",
    "      with torch.no_grad():\n",
    "            model.eval()\n",
    "            out = model(data_in)\n",
    "            loss = criterion(out, targets)\n",
    "            r2 = r2_score(targets.numpy(), out.numpy())\n",
    "            \n",
    "            #print(out[0].shape, targets[0].shape)\n",
    "            #print(out[0,:],targets[0,:])\n",
    "\n",
    "\n",
    "      return loss, r2\n",
    "\n",
    "parameterTest = True\n",
    "earlyStop = False\n",
    "stopTolerance = 3\n",
    "minDiff = 0.01\n",
    "epoch = 0\n",
    "finalLoss = []\n",
    "\n",
    "if parameterTest == False:\n",
    "      lossList = []\n",
    "      counter = 0\n",
    "      r2array = np.zeros(d_target)\n",
    "      while not earlyStop and epoch < 1000:\n",
    "            loss = 0\n",
    "            for input,targets in trainingData:\n",
    "                  loss += train(input,targets).detach()\n",
    "            \n",
    "            test = 0\n",
    "            for input, targets in testData:\n",
    "                  test += infer(input,targets)\n",
    "\n",
    "            val = 0\n",
    "            for input,targets in validationData:\n",
    "                  val += infer(input,targets)\n",
    "            \n",
    "            lr_scheduler.step()\n",
    "            lossList.append([loss.item()/len(trainingData), test.item()/len(testData), val.item()/len(validationData)])\n",
    "            # Early stopping\n",
    "            if (lossList[epoch][2]-lossList[epoch][0]) > minDiff:\n",
    "                  counter += 1\n",
    "            else:\n",
    "                  counter = 0\n",
    "                  if counter >= stopTolerance:\n",
    "                        earlyStop = True         \n",
    "            print(f\"#### Epoch: {epoch} of 1000 ####\\n Training loss:\\t{lossList[epoch][0]}\\n Test loss:\\t{lossList[epoch][1]}\\n Validation loss:\\t{lossList[epoch][2]}\")\n",
    "            epoch+=1          \n",
    "else: # THIS LOOP RUNS WHEN DOING PARAMETER TESTING CHANGE BOOL TO TURN OFF\n",
    "      c = 0\n",
    "      for currentParam in parameterList:\n",
    "            c+=1\n",
    "            print(\"network counter:\", c)\n",
    "            hidden_channels = currentParam['hidden_channels']\n",
    "            embedding_dim = currentParam['embedding_dim']\n",
    "            nHeads = currentParam['nHeads']\n",
    "            \n",
    "            model = TransformerNetwork(hidden_channels=hidden_channels, output_dim=d_target, embedding_dim=embedding_dim,\n",
    "                                       vocab_size=vocab_size, num_heads=nHeads, maxTokenLength=maxTokenLength).to(device) \n",
    "            optimizer = torch.optim.Adam(model.parameters(), lr=learningRate, weight_decay=5e-4)\n",
    "            # decay learning rate\n",
    "            decayRate = 0.94\n",
    "            lr_scheduler = torch.optim.lr_scheduler.ExponentialLR(optimizer=optimizer, gamma=decayRate)\n",
    "            criterion = torch.nn.MSELoss().to(device)\n",
    "            \n",
    "            r2List = []\n",
    "            lossList = []\n",
    "            counter = 0\n",
    "            epoch = 0\n",
    "            earlyStop = False\n",
    "            while not earlyStop and epoch < 100:\n",
    "                  loss = 0\n",
    "                  for input,targets in trainingData:\n",
    "                        loss += train(input,targets).detach()\n",
    "                  \n",
    "                  test = 0\n",
    "                  r2 = 0\n",
    "                  for input, targets in testData:\n",
    "                        tempTest, tempR2 = infer(input,targets)\n",
    "                        test += tempTest\n",
    "                        r2 += tempR2#.detach()\n",
    "                  \n",
    "                  r2List.append(r2.item()/len(testData))\n",
    "\n",
    "                  val = 0\n",
    "                  for input,targets in validationData:\n",
    "                        tempVal,tempR2 = infer(input,targets)\n",
    "                        val += tempVal.detach()\n",
    "                  \n",
    "                  lr_scheduler.step()\n",
    "                  lossList.append([loss.item()/len(trainingData), test.item()/len(testData), val.item()/len(validationData)])\n",
    "                  # Early stopping\n",
    "                  if (lossList[epoch][2]-lossList[epoch][0]) > minDiff:\n",
    "                        counter += 1\n",
    "                        if counter >= stopTolerance:\n",
    "                              print('\\n EARLY STOPPING')\n",
    "                              print('Hidden_channels = ',currentParam['hidden_channels'],'\\tembedding_dim = ',currentParam['embedding_dim'], '\\tnHeads = ',currentParam['nHeads'])\n",
    "                              print('Training Loss: ', lossList[epoch][0], '\\tTesting loss: ', lossList[epoch][1], '\\tValidation Loss: ', lossList[epoch][2],'\\n\\n')\n",
    "                              print('R2: ',r2List[epoch])\n",
    "                              finalLoss.append(lossList[epoch])\n",
    "                              \n",
    "\n",
    "                              earlyStop = True\n",
    "                  else:\n",
    "                        counter = 0       \n",
    "\n",
    "                  if epoch%5 == 0:\n",
    "                        print(f\"#### Epoch: {epoch} of 100 ####\\n Training loss:\\t{lossList[epoch][0]}\\n Test loss:\\t{lossList[epoch][1]}\\n Validation loss:\\t{lossList[epoch][2]}\")\n",
    "                  epoch += 1\n",
    "            if earlyStop == False:\n",
    "                  epoch -= 1\n",
    "                  print('\\n NO EARLY STOPPING')\n",
    "                  print('Hidden_channels = ',currentParam['hidden_channels'],'\\tembedding_dim = ',currentParam['embedding_dim'], '\\tnHeads = ',currentParam['nHeads'])\n",
    "                  print('Training Loss: ', lossList[epoch][0], '\\tTesting loss: ', lossList[epoch][1], '\\tValidation Loss: ', lossList[epoch][2],'\\n\\n')\n",
    "                  print('R2: ',r2List[epoch])\n",
    "                  finalLoss.append(lossList[epoch])\n",
    "                  "
   ]
  },
  {
   "cell_type": "code",
   "execution_count": 37,
   "metadata": {},
   "outputs": [
    {
     "name": "stdout",
     "output_type": "stream",
     "text": [
      "[]\n",
      "[0.7765256961088585]\n"
     ]
    }
   ],
   "source": [
    "print(finalLoss)\n",
    "print(r2List)"
   ]
  }
 ],
 "metadata": {
  "kernelspec": {
   "display_name": "Python 3",
   "language": "python",
   "name": "python3"
  },
  "language_info": {
   "codemirror_mode": {
    "name": "ipython",
    "version": 3
   },
   "file_extension": ".py",
   "mimetype": "text/x-python",
   "name": "python",
   "nbconvert_exporter": "python",
   "pygments_lexer": "ipython3",
   "version": "3.10.6"
  },
  "orig_nbformat": 4
 },
 "nbformat": 4,
 "nbformat_minor": 2
}
