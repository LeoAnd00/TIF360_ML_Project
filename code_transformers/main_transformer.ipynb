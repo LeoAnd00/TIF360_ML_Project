{
 "cells": [
  {
   "attachments": {},
   "cell_type": "markdown",
   "metadata": {},
   "source": [
    "# TIF360 Project"
   ]
  },
  {
   "attachments": {},
   "cell_type": "markdown",
   "metadata": {},
   "source": [
    "# Data Pre-processing"
   ]
  },
  {
   "attachments": {},
   "cell_type": "markdown",
   "metadata": {},
   "source": [
    "Main source: https://www.kaggle.com/code/rmonge/predicting-molecule-properties-based-on-its-smiles/notebook"
   ]
  },
  {
   "attachments": {},
   "cell_type": "markdown",
   "metadata": {},
   "source": [
    "### Import packages"
   ]
  },
  {
   "attachments": {},
   "cell_type": "markdown",
   "metadata": {},
   "source": [
    "UPDATED ON 15/05-2023  11:20"
   ]
  },
  {
   "cell_type": "code",
   "execution_count": null,
   "metadata": {},
   "outputs": [],
   "source": [
    "import os\n",
    "import numpy as np\n",
    "import pandas as pd\n",
    "import torch\n",
    "import torch.nn as nn\n",
    "import math\n",
    "import atomInSmiles\n",
    "\n"
   ]
  },
  {
   "cell_type": "code",
   "execution_count": null,
   "metadata": {},
   "outputs": [],
   "source": [
    "# Input is list of strings on the form ['a','b','c']\n",
    "# where the string are tokens\n",
    "# Dictionary is the dictionary containign all possible tokens\n",
    "# and an index for them\n",
    "# MaxTokenLength is the max amount of tokens any input creates\n",
    "def create_Onehot_Matrix(input, dictionary,maxTokenLength):\n",
    "    # Create a matrix of zeros\n",
    "    onehot_Matrix = np.zeros((len(dictionary),maxTokenLength))\n",
    "    \n",
    "    # Change value in right place to one\n",
    "    keyCount = 0\n",
    "    for key in input:\n",
    "        onehot_Matrix[dictionary[key],keyCount] = 1\n",
    "        keyCount+=1\n",
    "\n",
    "    # Return it\n",
    "    return(onehot_Matrix)"
   ]
  },
  {
   "cell_type": "code",
   "execution_count": null,
   "metadata": {},
   "outputs": [],
   "source": [
    "\n",
    "# Input is list of strings on the form ['a','b','c']\n",
    "# where the string are tokens\n",
    "# Dictionary is the dictionary containign all possible tokens\n",
    "# and an index for them\n",
    "# MaxTokenLength is the max amount of tokens any input creates\n",
    "\n",
    "# THIS VERSION RETURNS TORCH TENSOR\n",
    "\n",
    "#Version taht returns tensor\n",
    "def create_encoded_tensor(input, dictionary,maxTokenLength):\n",
    "    # Create a matrix of zeros\n",
    "    #encoded_vector = np.zeros((1,maxTokenLength))\n",
    "    encoded_tensor = torch.zeros(maxTokenLength,dtype=torch.long)\n",
    "    \n",
    "    # Change value in right place to one\n",
    "    keyCount = 0\n",
    "    for key in input:\n",
    "        encoded_tensor[keyCount] = dictionary[key]\n",
    "        keyCount+=1\n",
    "    \n",
    "    return encoded_tensor.unsqueeze(0)"
   ]
  },
  {
   "cell_type": "code",
   "execution_count": null,
   "metadata": {},
   "outputs": [
    {
     "name": "stdout",
     "output_type": "stream",
     "text": [
      "(132820, 21)\n"
     ]
    }
   ],
   "source": [
    "\n",
    "\n",
    "df = pd.read_csv(\"../data/smiles_and_targets.csv\")\n",
    "print(np.shape(df))\n"
   ]
  },
  {
   "cell_type": "code",
   "execution_count": null,
   "metadata": {},
   "outputs": [],
   "source": [
    "\n",
    "properties_names = ['A', 'B', 'C', 'mu', 'alfa', 'homo', 'lumo', 'gap', 'R²', 'zpve', 'U0', 'U', 'H', 'G', 'Cv']\n",
    "\n",
    "x_smiles = df.smiles.values\n",
    "y = df.loc[:, properties_names].values  # shape = (n_samples, n_properties)\n"
   ]
  },
  {
   "cell_type": "code",
   "execution_count": null,
   "metadata": {},
   "outputs": [
    {
     "name": "stdout",
     "output_type": "stream",
     "text": [
      "CC(C)C#N\n",
      "['[CH3;!R;C]', '[CH;!R;CCC]', '(', '[CH3;!R;C]', ')', '[C;!R;CN]', '#', '[N;!R;C]']\n",
      "(132820,)\n"
     ]
    }
   ],
   "source": [
    "\n",
    "testSmile = x_smiles[8]\n",
    "print(testSmile)\n",
    "tokens = atomInSmiles.encode(testSmile)\n",
    "tokens = tokens.split()\n",
    "print(tokens)\n",
    "print(x_smiles.shape)\n",
    "\n"
   ]
  },
  {
   "cell_type": "code",
   "execution_count": null,
   "metadata": {},
   "outputs": [
    {
     "name": "stdout",
     "output_type": "stream",
     "text": [
      "Longest word (max amount of tokens): 22\n"
     ]
    }
   ],
   "source": [
    "# tokenize all smiles\n",
    "#import atomInSmiles\n",
    "\n",
    "tokenList = []\n",
    "for smile in x_smiles:\n",
    "    tokenList.append(atomInSmiles.encode(smile).split())\n",
    "#tokenList is target\n",
    "\n",
    "# find longest word (max tokens from one smile+1)\n",
    "maxTokenLength = 0\n",
    "for token in tokenList:\n",
    "    if len(token)>maxTokenLength:\n",
    "        maxTokenLength = len(token)\n",
    "print('Longest word (max amount of tokens):', maxTokenLength)"
   ]
  },
  {
   "cell_type": "code",
   "execution_count": null,
   "metadata": {},
   "outputs": [],
   "source": [
    "\n",
    "# Give each token a index in a dictionary\n",
    "tokenDict = {}\n",
    "count = 1\n",
    "\n",
    "dictList = []\n",
    "for itokens in tokenList:\n",
    "    for itoke in itokens:\n",
    "        #print(itoke)\n",
    "        if tokenDict.get(itoke) == None:\n",
    "            tokenDict[itoke] = count\n",
    "        \n",
    "            # current = [itoke, count]\n",
    "            # dictList.append(current)\n",
    "            count+=1"
   ]
  },
  {
   "cell_type": "code",
   "execution_count": null,
   "metadata": {},
   "outputs": [
    {
     "data": {
      "text/plain": [
       "tensor([[ 6, 22,  8, 15,  9, 26, 18, 10, 17,  0,  0,  0,  0,  0,  0,  0,  0,  0,\n",
       "          0,  0,  0,  0]])"
      ]
     },
     "metadata": {},
     "output_type": "display_data"
    }
   ],
   "source": [
    "create_encoded_tensor(tokenList[100],tokenDict,maxTokenLength)"
   ]
  },
  {
   "cell_type": "code",
   "execution_count": null,
   "metadata": {},
   "outputs": [],
   "source": [
    "# From attention is all you need\n",
    "class PositionalEncoding(nn.Module):\n",
    "    \"Implement the PE function.\"\n",
    "    def __init__(self, d_model, max_len,dropout):\n",
    "        super(PositionalEncoding, self).__init__()\n",
    "        self.dropout = nn.Dropout(p=dropout)\n",
    "        \n",
    "        # Compute the positional encodings once in log space.\n",
    "        pe = torch.zeros(max_len, d_model)\n",
    "        position = torch.arange(0, max_len).unsqueeze(1)\n",
    "        div_term = torch.exp(torch.arange(0, d_model, 2) *\n",
    "                             -(math.log(10000.0) / d_model))\n",
    "        pe[:, 0::2] = torch.sin(position * div_term)\n",
    "        pe[:, 1::2] = torch.cos(position * div_term)\n",
    "        pe = pe.unsqueeze(0)\n",
    "        self.register_buffer('pe', pe)\n",
    "        \n",
    "    def forward(self, x):\n",
    "        # x = x + torch.tensor(self.pe[:, :x.size(1)], \n",
    "        #                  requires_grad=False)\n",
    "        x = x + self.pe[:x.size(0), :].detach()\n",
    "        return self.dropout(x)"
   ]
  },
  {
   "cell_type": "code",
   "execution_count": null,
   "metadata": {},
   "outputs": [
    {
     "name": "stdout",
     "output_type": "stream",
     "text": [
      "tensor([[ 6, 22,  8, 15,  9, 26, 18, 10, 17,  0,  0,  0,  0,  0,  0,  0,  0,  0,\n",
      "          0,  0,  0,  0],\n",
      "        [17, 10, 78, 33, 34, 35,  8, 15,  9, 34, 33,  0,  0,  0,  0,  0,  0,  0,\n",
      "          0,  0,  0,  0]])\n",
      "torch.Size([2, 22, 64])\n",
      "tensor([[[ 1.2193,  1.2010,  0.3540,  ...,  0.3075, -0.9805,  1.1671],\n",
      "         [-0.0438, -0.8617,  0.5251,  ..., -0.4871,  0.4306, -0.9962],\n",
      "         [-0.4599,  0.7623, -0.0772,  ..., -0.8726, -0.3948,  0.4671],\n",
      "         ...,\n",
      "         [ 0.0000,  0.0000,  0.0000,  ...,  0.0000,  0.0000,  0.0000],\n",
      "         [ 0.0000,  0.0000,  0.0000,  ...,  0.0000,  0.0000,  0.0000],\n",
      "         [ 0.0000,  0.0000,  0.0000,  ...,  0.0000,  0.0000,  0.0000]],\n",
      "\n",
      "        [[ 0.0691,  0.9693, -0.6145,  ...,  0.2498, -0.5422, -2.0475],\n",
      "         [-0.5789,  0.6443, -0.2303,  ...,  0.2763, -0.5292,  0.5862],\n",
      "         [ 0.4219,  2.1597,  1.8189,  ...,  0.4619, -0.6049,  0.8817],\n",
      "         ...,\n",
      "         [ 0.0000,  0.0000,  0.0000,  ...,  0.0000,  0.0000,  0.0000],\n",
      "         [ 0.0000,  0.0000,  0.0000,  ...,  0.0000,  0.0000,  0.0000],\n",
      "         [ 0.0000,  0.0000,  0.0000,  ...,  0.0000,  0.0000,  0.0000]]],\n",
      "       grad_fn=<EmbeddingBackward0>)\n",
      "torch.Size([2, 22, 64])\n"
     ]
    }
   ],
   "source": [
    "\n",
    "\n",
    "# Define the size of the embedding space\n",
    "embedding_dim = 64\n",
    "vocab_size = len(tokenDict)\n",
    "\n",
    "embedding_layer = nn.Embedding(vocab_size, embedding_dim, padding_idx=0)\n",
    "\n",
    "# Try two inputs and concat them (this will be done for batches)\n",
    "input_sentence = create_encoded_tensor(tokenList[100],tokenDict,maxTokenLength)\n",
    "other_input = create_encoded_tensor(tokenList[150],tokenDict,maxTokenLength)\n",
    "\n",
    "input_sentence = torch.cat((input_sentence,other_input),dim=0)\n",
    "print(input_sentence)\n",
    "\n",
    "# Pass the input tensor through the embedding layer\n",
    "embedded_tensor = embedding_layer(input_sentence)\n",
    "\n",
    "# Print the shape of the output tensor\n",
    "print(embedded_tensor.shape)  # should be (1, 22, 64)\n",
    "print(embedded_tensor)\n",
    "\n",
    "posencoder = PositionalEncoding(embedding_dim,maxTokenLength,0.1)\n",
    "encoded = posencoder.forward(embedded_tensor)\n",
    "print(encoded.shape)"
   ]
  },
  {
   "cell_type": "code",
   "execution_count": null,
   "metadata": {},
   "outputs": [],
   "source": [
    "\n",
    "class TransformerLayer(torch.nn.Module):\n",
    "    def __init__(self, embedding_dim, hidden_channels):\n",
    "        super().__init__()\n",
    "        torch.manual_seed(12345)\n",
    "        self.Attention = torch.nn.MultiheadAttention(embedding_dim,num_heads=4,dropout=0.15)\n",
    "        self.Norm1 = torch.nn.LayerNorm(embedding_dim)\n",
    "        self.Dense1 = torch.nn.Linear(embedding_dim,hidden_channels)\n",
    "        self.Dense2 = torch.nn.Linear(hidden_channels,hidden_channels)\n",
    "        self.Norm2 = torch.nn.LayerNorm(hidden_channels)\n",
    "        \n",
    "\n",
    "    def forward(self, x):\n",
    "        addNormX = x\n",
    "        #print(x.shape)\n",
    "        x, _ = self.Attention(x,x,x)\n",
    "        #print('attention output',x.shape)\n",
    "        x = self.Norm1(x + addNormX)\n",
    "        #print('norm + input',x.shape)\n",
    "        addNormX = x\n",
    "        x = self.Dense1(x)\n",
    "        #print('first dense output',x.shape)\n",
    "        x = self.Dense2(x)\n",
    "        #print('second dense output',x.shape)\n",
    "        x = self.Norm2(x + addNormX)\n",
    "        #print(x.shape)\n",
    "\n",
    " \n",
    "        return x"
   ]
  },
  {
   "cell_type": "code",
   "execution_count": null,
   "metadata": {},
   "outputs": [],
   "source": [
    "class TransformerNetwork(torch.nn.Module):\n",
    "    def __init__(self,hidden_channels,output_dim, vocab_size, maxTokenLength):\n",
    "        super().__init__()\n",
    "        torch.manual_seed(12345)\n",
    "        self.embedding_dim = 64\n",
    "        # Embedd and add pos encoding to input\n",
    "        self.EmbeddingLayer = torch.nn.Embedding(num_embeddings=vocab_size,embedding_dim = self.embedding_dim , max_norm=True)\n",
    "        self.PositionalEncoding = PositionalEncoding(self.embedding_dim, maxTokenLength, dropout = 0.1)\n",
    "\n",
    "        \n",
    "        self.TransEnc1 = TransformerLayer(self.embedding_dim,hidden_channels)\n",
    "        self.Pooling = torch.nn.AvgPool1d(kernel_size= 2)\n",
    "\n",
    "        self.DenseOut1 = torch.nn.Linear(embedding_dim,hidden_channels)\n",
    "        self.DenseOut2 = torch.nn.Linear(hidden_channels,output_dim)\n",
    "\n",
    "    def forward(self,x):\n",
    "        print('\\n\\n')\n",
    "        x = self.EmbeddingLayer(x)\n",
    "        print(x.shape)\n",
    "        x = self.PositionalEncoding(x)\n",
    "        print(x.shape)\n",
    "        x = self.TransEnc1(x)\n",
    "        print(x.shape)\n",
    "        print(x[0,21])\n",
    "        #x = self.Pooling(x)\n",
    "        x = x[:,-1,:]\n",
    "        print('pooling dim',x.shape)\n",
    "        x = self.DenseOut1(x)\n",
    "        print(x.shape)\n",
    "        x = self.DenseOut2(x)\n",
    "        print(x.shape)\n",
    "\n",
    "\n",
    "        return x"
   ]
  },
  {
   "cell_type": "code",
   "execution_count": null,
   "metadata": {},
   "outputs": [
    {
     "name": "stdout",
     "output_type": "stream",
     "text": [
      "\n",
      "\n",
      "\n",
      "torch.Size([2, 22, 64])\n",
      "torch.Size([2, 22, 64])\n",
      "torch.Size([2, 22, 64])\n",
      "tensor([ 0.2317, -1.7196, -0.4611, -2.1485, -1.7559,  0.7880,  0.4311, -1.2885,\n",
      "         0.9518,  1.5542, -2.2297,  0.1562, -0.4292, -1.5930, -0.1786, -2.3906,\n",
      "         0.6507, -0.4795,  1.4866, -0.1383,  0.8093,  0.5200,  0.6291, -0.1061,\n",
      "         0.7442,  0.7699,  0.1646,  1.3861, -0.1468, -0.0071, -0.6010,  0.2687,\n",
      "         0.4238, -0.0924, -0.1894,  1.2532, -1.2466,  0.8433, -0.5003,  1.2910,\n",
      "        -0.0162,  1.4309, -0.6904,  2.1680, -1.2105,  0.4798, -0.4218,  0.3475,\n",
      "        -0.1546, -0.5598,  0.0577, -0.0787, -0.4059,  0.0695, -0.3042, -0.7817,\n",
      "        -0.2326,  0.9268, -1.3745,  2.1353, -0.6652,  0.8512, -0.2480,  1.0262],\n",
      "       grad_fn=<SelectBackward0>)\n",
      "pooling dim torch.Size([2, 64])\n",
      "torch.Size([2, 64])\n",
      "torch.Size([2, 15])\n",
      "tensor([[-0.3553, -0.0640,  0.4376, -0.3863,  0.4904,  0.0465,  0.2543, -0.1788,\n",
      "          0.3031, -0.3016, -0.0719, -0.1588,  0.4374, -0.7130, -0.0026],\n",
      "        [-0.3615,  0.0124,  0.2254, -0.0749, -0.0222,  0.0583, -0.1226, -0.1062,\n",
      "          0.2604, -0.2080, -0.1346,  0.0628,  0.2575, -0.4505, -0.1413]],\n",
      "       grad_fn=<AddmmBackward0>) torch.Size([2, 15])\n"
     ]
    }
   ],
   "source": [
    "transformer = TransformerNetwork(64,15,len(tokenDict),maxTokenLength)\n",
    "input_sentence\n",
    "output = transformer.forward(input_sentence)\n",
    "print(output, output.shape)"
   ]
  }
 ],
 "metadata": {
  "kernelspec": {
   "display_name": "Python 3",
   "language": "python",
   "name": "python3"
  },
  "language_info": {
   "codemirror_mode": {
    "name": "ipython",
    "version": 3
   },
   "file_extension": ".py",
   "mimetype": "text/x-python",
   "name": "python",
   "nbconvert_exporter": "python",
   "pygments_lexer": "ipython3",
   "version": "3.10.10"
  },
  "orig_nbformat": 4
 },
 "nbformat": 4,
 "nbformat_minor": 2
}
