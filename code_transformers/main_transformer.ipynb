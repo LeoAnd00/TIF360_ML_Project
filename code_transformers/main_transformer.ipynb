{
 "cells": [
  {
   "attachments": {},
   "cell_type": "markdown",
   "metadata": {},
   "source": [
    "# TIF360 Project"
   ]
  },
  {
   "attachments": {},
   "cell_type": "markdown",
   "metadata": {},
   "source": [
    "# Data Pre-processing"
   ]
  },
  {
   "attachments": {},
   "cell_type": "markdown",
   "metadata": {},
   "source": [
    "Main source: https://www.kaggle.com/code/rmonge/predicting-molecule-properties-based-on-its-smiles/notebook"
   ]
  },
  {
   "attachments": {},
   "cell_type": "markdown",
   "metadata": {},
   "source": [
    "### Import packages"
   ]
  },
  {
   "attachments": {},
   "cell_type": "markdown",
   "metadata": {},
   "source": [
    "UPDATED ON 15/05-2023  11:20"
   ]
  },
  {
   "cell_type": "code",
   "execution_count": 1,
   "metadata": {},
   "outputs": [],
   "source": [
    "import os\n",
    "import numpy as np\n",
    "import pandas as pd\n",
    "import torch\n",
    "import torch.nn as nn\n",
    "import math\n",
    "import atomInSmiles\n",
    "from torch.utils.data import DataLoader\n",
    "import random\n"
   ]
  },
  {
   "cell_type": "code",
   "execution_count": 2,
   "metadata": {},
   "outputs": [],
   "source": [
    "# Input is list of strings on the form ['a','b','c']\n",
    "# where the string are tokens\n",
    "# Dictionary is the dictionary containign all possible tokens\n",
    "# and an index for them\n",
    "# MaxTokenLength is the max amount of tokens any input creates\n",
    "def create_Onehot_Matrix(input, dictionary,maxTokenLength):\n",
    "    # Create a matrix of zeros\n",
    "    onehot_Matrix = np.zeros((len(dictionary),maxTokenLength))\n",
    "    \n",
    "    # Change value in right place to one\n",
    "    keyCount = 0\n",
    "    for key in input:\n",
    "        onehot_Matrix[dictionary[key],keyCount] = 1\n",
    "        keyCount+=1\n",
    "\n",
    "    # Return it\n",
    "    return(onehot_Matrix)"
   ]
  },
  {
   "cell_type": "code",
   "execution_count": 3,
   "metadata": {},
   "outputs": [],
   "source": [
    "\n",
    "# Input is list of strings on the form ['a','b','c']\n",
    "# where the string are tokens\n",
    "# Dictionary is the dictionary containign all possible tokens\n",
    "# and an index for them\n",
    "# MaxTokenLength is the max amount of tokens any input creates\n",
    "\n",
    "# THIS VERSION RETURNS TORCH TENSOR\n",
    "\n",
    "#Version taht returns tensor\n",
    "def create_encoded_tensor(input, dictionary,maxTokenLength):\n",
    "    # Create a matrix of zeros\n",
    "    #encoded_vector = np.zeros((1,maxTokenLength))\n",
    "    encoded_tensor = torch.zeros(maxTokenLength,dtype=torch.long)\n",
    "    \n",
    "    # Change value in right place to one\n",
    "    keyCount = 0\n",
    "    for key in input:\n",
    "        encoded_tensor[keyCount] = dictionary[key]\n",
    "        keyCount+=1\n",
    "    \n",
    "    return encoded_tensor.unsqueeze(0)"
   ]
  },
  {
   "cell_type": "code",
   "execution_count": 4,
   "metadata": {},
   "outputs": [
    {
     "name": "stdout",
     "output_type": "stream",
     "text": [
      "(132820, 21)\n"
     ]
    }
   ],
   "source": [
    "\n",
    "\n",
    "df = pd.read_csv(\"../data/smiles_and_targets.csv\")\n",
    "print(np.shape(df))\n"
   ]
  },
  {
   "cell_type": "code",
   "execution_count": 5,
   "metadata": {},
   "outputs": [],
   "source": [
    "\n",
    "properties_names = ['A', 'B', 'C', 'mu', 'alfa', 'homo', 'lumo', 'gap', 'R²', 'zpve', 'U0', 'U', 'H', 'G', 'Cv']\n",
    "\n",
    "x_smiles = df.smiles.values\n",
    "targetTensor = torch.tensor(df.loc[:, properties_names].values, dtype=torch.float32)  # shape = (n_samples, n_properties)\n"
   ]
  },
  {
   "cell_type": "code",
   "execution_count": 6,
   "metadata": {},
   "outputs": [
    {
     "name": "stdout",
     "output_type": "stream",
     "text": [
      "Longest word (max amount of tokens): 22\n"
     ]
    }
   ],
   "source": [
    "# tokenize all smiles\n",
    "#import atomInSmiles\n",
    "\n",
    "tokenList = []\n",
    "for smile in x_smiles:\n",
    "    tokenList.append(atomInSmiles.encode(smile).split())\n",
    "#tokenList is target\n",
    "\n",
    "# find longest word (max tokens from one smile+1)\n",
    "maxTokenLength = 0\n",
    "for token in tokenList:\n",
    "    if len(token)>maxTokenLength:\n",
    "        maxTokenLength = len(token)\n",
    "print('Longest word (max amount of tokens):', maxTokenLength)"
   ]
  },
  {
   "cell_type": "code",
   "execution_count": 7,
   "metadata": {},
   "outputs": [],
   "source": [
    "\n",
    "# Give each token a index in a dictionary\n",
    "tokenDict = {}\n",
    "count = 1\n",
    "\n",
    "dictList = []\n",
    "for itokens in tokenList:\n",
    "    for itoke in itokens:\n",
    "        #print(itoke)\n",
    "        if tokenDict.get(itoke) == None:\n",
    "            tokenDict[itoke] = count\n",
    "        \n",
    "            # current = [itoke, count]\n",
    "            # dictList.append(current)\n",
    "            count+=1"
   ]
  },
  {
   "cell_type": "code",
   "execution_count": 8,
   "metadata": {},
   "outputs": [],
   "source": [
    "\n",
    "\n",
    "from torch_geometric.loader import DataLoader\n",
    "from sklearn.preprocessing import MinMaxScaler, StandardScaler\n",
    "\n",
    "def scale_and_split_data(dataset, input_scaler):\n",
    "    # split the dataset into test and validation:\n",
    "    num_samples = len(dataset)\n",
    "\n",
    "    # Want to divide data randomly\n",
    "    random.seed(42)\n",
    "    random_indexes = np.array(random.sample(range(num_samples), num_samples)) # random.sample ensures no duplicates\n",
    "\n",
    "    train_data = [dataset[index] for index in random_indexes[int(.2 * num_samples ) :]] # 80%\n",
    "    test_data = [dataset[index] for index in random_indexes[: int(.2 * num_samples )]] # 20%\n",
    "    print(np.shape(train_data))\n",
    "    print(np.shape(test_data))\n",
    "\n",
    "    input_scaler = StandardScaler()\n",
    "    train_data = input_scaler.fit_transform(train_data)\n",
    "    test_data = input_scaler.transform(test_data)\n",
    "\n",
    "    # print(\"Example train data target\", train_data_targets[0].reshape(1,-1).shape)\n",
    "    train_data = torch.tensor(train_data, dtype=torch.float)\n",
    "    test_data = torch.tensor(test_data, dtype=torch.float)\n",
    "\n",
    "\n",
    "    return train_data, test_data, input_scaler"
   ]
  },
  {
   "cell_type": "code",
   "execution_count": 9,
   "metadata": {},
   "outputs": [],
   "source": [
    "encodedTensors = torch.tensor([],dtype=int)\n",
    "for token in tokenList:\n",
    "    encodedTensors = torch.cat((encodedTensors,create_encoded_tensor(token,tokenDict,maxTokenLength)),dim=0)\n"
   ]
  },
  {
   "cell_type": "code",
   "execution_count": 10,
   "metadata": {},
   "outputs": [
    {
     "name": "stdout",
     "output_type": "stream",
     "text": [
      "torch.Size([132820, 22])\n",
      "torch.Size([132820])\n",
      "0\n",
      "tensor(3.3658)\n",
      "tensor(-1.8749e-07)\n",
      "1\n",
      "tensor(1.3958)\n",
      "tensor(-9.5583e-08)\n",
      "2\n",
      "tensor(1.1171)\n",
      "tensor(2.4999e-07)\n",
      "3\n",
      "tensor(2.6836)\n",
      "tensor(7.3410e-08)\n",
      "4\n",
      "tensor(75.2409)\n",
      "tensor(2.0955e-07)\n",
      "5\n",
      "tensor(-0.2400)\n",
      "tensor(-9.9259e-08)\n",
      "6\n",
      "tensor(0.0113)\n",
      "tensor(-1.1029e-08)\n",
      "7\n",
      "tensor(0.2513)\n",
      "tensor(-8.4554e-08)\n",
      "8\n",
      "tensor(1188.4229)\n",
      "tensor(-1.1764e-07)\n",
      "9\n",
      "tensor(0.1487)\n",
      "tensor(3.6763e-08)\n",
      "10\n",
      "tensor(-411.9466)\n",
      "tensor(1.1764e-07)\n",
      "11\n",
      "tensor(-411.9381)\n",
      "tensor(-1.1764e-07)\n",
      "12\n",
      "tensor(-411.9372)\n",
      "tensor(-1.6911e-07)\n",
      "13\n",
      "tensor(-411.9800)\n",
      "tensor(1.6911e-07)\n",
      "14\n",
      "tensor(31.6310)\n",
      "tensor(-3.0145e-07)\n"
     ]
    }
   ],
   "source": [
    "print(encodedTensors.shape)\n",
    "print(targetTensor[:,0].shape)\n",
    "#trainTarget, testTarget = scale_and_split_data(targetTensor,input_scaler=StandardScaler())\n",
    "for i in range(len(targetTensor[0])):\n",
    "    print(i)\n",
    "    print(targetTensor[:,i].mean())\n",
    "    targetTensor[:,i] = (targetTensor[:,i]-targetTensor[:,i].mean())/targetTensor[:,i].std()\n",
    "    print(targetTensor[:,i].mean())\n",
    "\n",
    "\n",
    "\n"
   ]
  },
  {
   "cell_type": "code",
   "execution_count": 11,
   "metadata": {},
   "outputs": [],
   "source": [
    "# From attention is all you need\n",
    "class PositionalEncoding(nn.Module):\n",
    "    \"Implement the PE function.\"\n",
    "    def __init__(self, d_model, max_len,dropout):\n",
    "        super(PositionalEncoding, self).__init__()\n",
    "        self.dropout = nn.Dropout(p=dropout)\n",
    "        \n",
    "        # Compute the positional encodings once in log space.\n",
    "        pe = torch.zeros(max_len, d_model)\n",
    "        position = torch.arange(0, max_len).unsqueeze(1)\n",
    "        div_term = torch.exp(torch.arange(0, d_model, 2) *\n",
    "                             -(math.log(10000.0) / d_model))\n",
    "        pe[:, 0::2] = torch.sin(position * div_term)\n",
    "        pe[:, 1::2] = torch.cos(position * div_term)\n",
    "        pe = pe.unsqueeze(0)\n",
    "        self.register_buffer('pe', pe)\n",
    "        \n",
    "    def forward(self, x):\n",
    "        # x = x + torch.tensor(self.pe[:, :x.size(1)], \n",
    "        #                  requires_grad=False)\n",
    "        x = x + self.pe[:x.size(0), :].detach()\n",
    "        return self.dropout(x)"
   ]
  },
  {
   "cell_type": "code",
   "execution_count": 50,
   "metadata": {},
   "outputs": [],
   "source": [
    "\n",
    "class TransformerLayer(torch.nn.Module):\n",
    "    def __init__(self, embedding_dim, hidden_channels):\n",
    "        super().__init__()\n",
    "        self.Attention = torch.nn.MultiheadAttention(embedding_dim,num_heads=16,dropout=0.15)\n",
    "        self.Norm1 = torch.nn.LayerNorm(embedding_dim)\n",
    "        self.Dense1 = torch.nn.Linear(embedding_dim,hidden_channels)\n",
    "        self.relu = torch.nn.ReLU()\n",
    "        self.Dense2 = torch.nn.Linear(hidden_channels,embedding_dim)\n",
    "        \n",
    "\n",
    "        self.Norm2 = torch.nn.LayerNorm(embedding_dim)\n",
    "        \n",
    "\n",
    "    def forward(self, x):\n",
    "        addNormX = x\n",
    "        #print(x.shape)\n",
    "        x, _ = self.Attention(x,x,x)\n",
    "        #print('attention output',x.shape)\n",
    "        x = self.Norm1(x + addNormX)\n",
    "        #print('norm + input',x.shape)\n",
    "        addNormX = x\n",
    "        x = self.Dense1(x)\n",
    "        #x = self.relu(x)\n",
    "        #print('first dense output',x.shape)\n",
    "        x = self.Dense2(x)\n",
    "       # x = self.relu(x)\n",
    "        #print('second dense output',x.shape)\n",
    "        x = self.Norm2(x + addNormX)\n",
    "        #print(x.shape)\n",
    "\n",
    " \n",
    "        return x"
   ]
  },
  {
   "cell_type": "code",
   "execution_count": 51,
   "metadata": {},
   "outputs": [],
   "source": [
    "class TransformerNetwork(torch.nn.Module):\n",
    "    def __init__(self,hidden_channels,output_dim, vocab_size, embedding_dim,maxTokenLength):\n",
    "        super().__init__()\n",
    "        # Embedd and add pos encoding to input\n",
    "        self.EmbeddingLayer = torch.nn.Embedding(num_embeddings=vocab_size,embedding_dim = embedding_dim , max_norm=True)\n",
    "        self.PositionalEncoding = PositionalEncoding(embedding_dim, maxTokenLength, dropout = 0.15)\n",
    "\n",
    "        \n",
    "        self.TransEnc1 = TransformerLayer(embedding_dim,hidden_channels)\n",
    "        self.TransEnc2 = TransformerLayer(embedding_dim,hidden_channels)\n",
    "        self.TransEnc3 = TransformerLayer(embedding_dim,hidden_channels)\n",
    "    \n",
    "        self.Pooling = torch.nn.AvgPool1d(kernel_size= 22)\n",
    "\n",
    "        self.DenseOut1 = torch.nn.Linear(embedding_dim,hidden_channels)\n",
    "        self.DenseOut2 = torch.nn.Linear(hidden_channels,output_dim)\n",
    "        self.relu = torch.nn.ReLU()\n",
    "\n",
    "\n",
    "    def forward(self,x):\n",
    "        x = self.EmbeddingLayer(x)\n",
    "        x = self.PositionalEncoding(x)\n",
    "        x = self.TransEnc1(x)\n",
    "        x = self.TransEnc2(x)\n",
    "        x = self.TransEnc3(x)\n",
    "        x = self.Pooling(x.permute((0,2,1))).permute((0,2,1))\n",
    "        x = torch.squeeze(x,axis=1)\n",
    "        #x = x[:,-1,:]\n",
    "        x = self.DenseOut1(x)\n",
    "        #x = self.relu(x)\n",
    "        x = self.DenseOut2(x)\n",
    "        #x = self.relu(x)\n",
    "        \n",
    "        return x"
   ]
  },
  {
   "cell_type": "code",
   "execution_count": 19,
   "metadata": {},
   "outputs": [
    {
     "name": "stdout",
     "output_type": "stream",
     "text": [
      "tensor([[-0.1937, -0.2581, -0.0928, -0.3730,  0.2592,  0.3904, -0.1182, -0.0021,\n",
      "         -0.0515, -0.0663,  0.2828, -0.1052, -0.1116, -0.2553,  0.2034],\n",
      "        [-0.2092, -0.3052, -0.1118, -0.3320,  0.2300,  0.4025, -0.1373, -0.0146,\n",
      "         -0.0958, -0.0466,  0.2861, -0.1041, -0.0884, -0.1992,  0.2353]],\n",
      "       grad_fn=<AddmmBackward0>) torch.Size([2, 15])\n"
     ]
    }
   ],
   "source": [
    "transformer = TransformerNetwork(64,15,len(tokenDict),maxTokenLength)\n",
    "input_sentence\n",
    "output = transformer.forward(input_sentence)\n",
    "print(output, output.shape)"
   ]
  },
  {
   "cell_type": "code",
   "execution_count": 20,
   "metadata": {},
   "outputs": [
    {
     "name": "stdout",
     "output_type": "stream",
     "text": [
      "torch.Size([132820, 22])\n"
     ]
    }
   ],
   "source": [
    "from torch.utils.data import Dataset, DataLoader\n",
    "batch_size = 25\n",
    "## Create iterable dataset class:\n",
    "\n",
    "class datasetObject(Dataset):\n",
    "    def __init__(self,data,targets):\n",
    "        self.data = data\n",
    "        self.targets = targets\n",
    "    def __len__(self):\n",
    "        return len(self.data)\n",
    "    def __getitem__(self, index):\n",
    "        sample = self.data[index]\n",
    "        target = self.targets[index]\n",
    "        return (sample), (target)\n",
    "\n",
    "\n",
    "print(encodedTensors.shape)\n",
    "data = DataLoader(datasetObject(encodedTensors,targetTensor),batch_size,shuffle=True)"
   ]
  },
  {
   "cell_type": "code",
   "execution_count": 53,
   "metadata": {},
   "outputs": [
    {
     "ename": "KeyboardInterrupt",
     "evalue": "",
     "output_type": "error",
     "traceback": [
      "\u001b[0;31m---------------------------------------------------------------------------\u001b[0m",
      "\u001b[0;31mKeyboardInterrupt\u001b[0m                         Traceback (most recent call last)",
      "Cell \u001b[0;32mIn[53], line 35\u001b[0m\n\u001b[1;32m     32\u001b[0m loss \u001b[39m=\u001b[39m []\n\u001b[1;32m     33\u001b[0m \u001b[39mfor\u001b[39;00m \u001b[39minput\u001b[39m,targets \u001b[39min\u001b[39;00m data:\n\u001b[1;32m     34\u001b[0m       \u001b[39m#print(input)\u001b[39;00m\n\u001b[0;32m---> 35\u001b[0m       loss\u001b[39m.\u001b[39mappend(train(\u001b[39minput\u001b[39;49m,targets)\u001b[39m.\u001b[39mdetach())\n\u001b[1;32m     36\u001b[0m lr_scheduler\u001b[39m.\u001b[39mstep()\n\u001b[1;32m     38\u001b[0m \u001b[39mprint\u001b[39m(np\u001b[39m.\u001b[39mmean(loss))\n",
      "Cell \u001b[0;32mIn[53], line 21\u001b[0m, in \u001b[0;36mtrain\u001b[0;34m(data_in, targets)\u001b[0m\n\u001b[1;32m     18\u001b[0m out \u001b[39m=\u001b[39m model(data_in)\n\u001b[1;32m     19\u001b[0m loss \u001b[39m=\u001b[39m criterion(out, targets)\n\u001b[0;32m---> 21\u001b[0m loss\u001b[39m.\u001b[39;49mbackward()  \u001b[39m# Derive gradients.\u001b[39;00m\n\u001b[1;32m     22\u001b[0m optimizer\u001b[39m.\u001b[39mstep()  \u001b[39m# Update parameters based on gradients.\u001b[39;00m\n\u001b[1;32m     24\u001b[0m \u001b[39mreturn\u001b[39;00m loss\n",
      "File \u001b[0;32m~/.local/lib/python3.10/site-packages/torch/_tensor.py:487\u001b[0m, in \u001b[0;36mTensor.backward\u001b[0;34m(self, gradient, retain_graph, create_graph, inputs)\u001b[0m\n\u001b[1;32m    477\u001b[0m \u001b[39mif\u001b[39;00m has_torch_function_unary(\u001b[39mself\u001b[39m):\n\u001b[1;32m    478\u001b[0m     \u001b[39mreturn\u001b[39;00m handle_torch_function(\n\u001b[1;32m    479\u001b[0m         Tensor\u001b[39m.\u001b[39mbackward,\n\u001b[1;32m    480\u001b[0m         (\u001b[39mself\u001b[39m,),\n\u001b[0;32m   (...)\u001b[0m\n\u001b[1;32m    485\u001b[0m         inputs\u001b[39m=\u001b[39minputs,\n\u001b[1;32m    486\u001b[0m     )\n\u001b[0;32m--> 487\u001b[0m torch\u001b[39m.\u001b[39;49mautograd\u001b[39m.\u001b[39;49mbackward(\n\u001b[1;32m    488\u001b[0m     \u001b[39mself\u001b[39;49m, gradient, retain_graph, create_graph, inputs\u001b[39m=\u001b[39;49minputs\n\u001b[1;32m    489\u001b[0m )\n",
      "File \u001b[0;32m~/.local/lib/python3.10/site-packages/torch/autograd/__init__.py:200\u001b[0m, in \u001b[0;36mbackward\u001b[0;34m(tensors, grad_tensors, retain_graph, create_graph, grad_variables, inputs)\u001b[0m\n\u001b[1;32m    195\u001b[0m     retain_graph \u001b[39m=\u001b[39m create_graph\n\u001b[1;32m    197\u001b[0m \u001b[39m# The reason we repeat same the comment below is that\u001b[39;00m\n\u001b[1;32m    198\u001b[0m \u001b[39m# some Python versions print out the first line of a multi-line function\u001b[39;00m\n\u001b[1;32m    199\u001b[0m \u001b[39m# calls in the traceback and some print out the last line\u001b[39;00m\n\u001b[0;32m--> 200\u001b[0m Variable\u001b[39m.\u001b[39;49m_execution_engine\u001b[39m.\u001b[39;49mrun_backward(  \u001b[39m# Calls into the C++ engine to run the backward pass\u001b[39;49;00m\n\u001b[1;32m    201\u001b[0m     tensors, grad_tensors_, retain_graph, create_graph, inputs,\n\u001b[1;32m    202\u001b[0m     allow_unreachable\u001b[39m=\u001b[39;49m\u001b[39mTrue\u001b[39;49;00m, accumulate_grad\u001b[39m=\u001b[39;49m\u001b[39mTrue\u001b[39;49;00m)\n",
      "\u001b[0;31mKeyboardInterrupt\u001b[0m: "
     ]
    }
   ],
   "source": [
    "\n",
    "hidden_channels = 64\n",
    "embedding_dim = 32\n",
    "d_target = 15\n",
    "vocab_size = len(tokenDict)+1\n",
    "embedding_dim = 64\n",
    "torch.manual_seed(12345)\n",
    "\n",
    "model = TransformerNetwork(hidden_channels,d_target,vocab_size, embedding_dim, maxTokenLength) \n",
    "optimizer = torch.optim.Adam(model.parameters(), lr=0.0005, weight_decay=5e-4)\n",
    "# decay learning rate\n",
    "decayRate = 0.92\n",
    "lr_scheduler = torch.optim.lr_scheduler.ExponentialLR(optimizer=optimizer, gamma=decayRate)\n",
    "criterion = torch.nn.MSELoss()\n",
    "\n",
    "def train(data_in, targets):\n",
    "      model.train()\n",
    "      optimizer.zero_grad()  # Clear gradients.\n",
    "      out = model(data_in)\n",
    "      loss = criterion(out, targets)\n",
    "\n",
    "      loss.backward()  # Derive gradients.\n",
    "      optimizer.step()  # Update parameters based on gradients.\n",
    "\n",
    "      return loss\n",
    "\n",
    "\n",
    "\n",
    "testTensors = encodedTensors[:100]\n",
    "testTargets = targetTensor[:100]\n",
    "\n",
    "for epoch in range(1000):\n",
    "      loss = []\n",
    "      for input,targets in data:\n",
    "            #print(input)\n",
    "            loss.append(train(input,targets).detach())\n",
    "      lr_scheduler.step()\n",
    "\n",
    "      print(np.mean(loss))"
   ]
  },
  {
   "cell_type": "code",
   "execution_count": 124,
   "metadata": {},
   "outputs": [
    {
     "name": "stdout",
     "output_type": "stream",
     "text": [
      "tensor([[ 6.4858,  6.5508,  7.1296, -1.1955, -6.6019, -1.4614,  0.4762,  1.1594,\n",
      "         -6.1393, -3.0303,  8.7178,  8.7233,  8.7187,  8.7145, -5.6774]],\n",
      "       grad_fn=<AddmmBackward0>)\n",
      "tensor([-2.8462,  6.9271, 10.4219, -1.8652, -4.5817, -0.9100, -0.6975, -0.2690,\n",
      "        -3.3279, -3.3636,  6.5917,  6.5916,  6.5916,  6.5919, -4.0631]) \n",
      "\n",
      "tensor([[ 5.3248,  5.5519,  6.3477, -1.0306, -6.1503, -1.6785,  0.4770,  1.2614,\n",
      "         -5.4162, -3.0018,  7.3534,  7.3462,  7.3466,  7.3442, -4.7522]],\n",
      "       grad_fn=<AddmmBackward0>)\n",
      "tensor([ 4.3917,  5.7236,  5.6744, -0.9212, -3.8942, -1.2120,  0.4761,  1.0338,\n",
      "        -2.7206, -1.8069,  4.6116,  4.6115,  4.6115,  4.6116, -2.5707]) \n",
      "\n",
      "tensor([[ 4.5141,  5.0823,  6.0408, -1.8171, -4.2379, -0.8721,  1.9609,  2.3628,\n",
      "         -3.9469, -0.6333,  7.5464,  7.5443,  7.5426,  7.5410, -3.7141]],\n",
      "       grad_fn=<AddmmBackward0>)\n",
      "tensor([ 3.2974,  4.4188,  4.4971, -1.8223, -2.3683, -3.1334,  1.5729,  3.0102,\n",
      "        -2.2773,  0.3286,  5.4653,  5.4653,  5.4653,  5.4653, -1.6089]) \n",
      "\n",
      "tensor([[ 5.3413,  4.8872,  5.9127, -0.9885, -5.9713, -1.0100,  0.7267,  1.1962,\n",
      "         -4.9306, -2.3508,  6.7583,  6.7500,  6.7539,  6.7534, -4.2054]],\n",
      "       grad_fn=<AddmmBackward0>)\n",
      "tensor([ 1.9900,  2.9110,  2.3449, -0.4769, -3.2579, -0.4663, -0.1001,  0.1144,\n",
      "        -2.0073, -1.3027,  2.2533,  2.2533,  2.2533,  2.2533, -1.6246]) \n",
      "\n"
     ]
    }
   ],
   "source": [
    "print(model(testTensors[0]))\n",
    "print(testTargets[0],'\\n')\n",
    "print(model(testTensors[10]))\n",
    "print(testTargets[10],'\\n')\n",
    "print(model(testTensors[20]))\n",
    "print(testTargets[20],'\\n')\n",
    "print(model(testTensors[30]))\n",
    "print(testTargets[30],'\\n')"
   ]
  }
 ],
 "metadata": {
  "kernelspec": {
   "display_name": "Python 3",
   "language": "python",
   "name": "python3"
  },
  "language_info": {
   "codemirror_mode": {
    "name": "ipython",
    "version": 3
   },
   "file_extension": ".py",
   "mimetype": "text/x-python",
   "name": "python",
   "nbconvert_exporter": "python",
   "pygments_lexer": "ipython3",
   "version": "3.10.6"
  },
  "orig_nbformat": 4
 },
 "nbformat": 4,
 "nbformat_minor": 2
}
