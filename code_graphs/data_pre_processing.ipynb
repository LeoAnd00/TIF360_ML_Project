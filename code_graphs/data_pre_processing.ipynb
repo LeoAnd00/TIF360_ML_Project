{
 "cells": [
  {
   "attachments": {},
   "cell_type": "markdown",
   "metadata": {},
   "source": [
    "# TIF360 Project"
   ]
  },
  {
   "attachments": {},
   "cell_type": "markdown",
   "metadata": {},
   "source": [
    "# Data Pre-processing"
   ]
  },
  {
   "attachments": {},
   "cell_type": "markdown",
   "metadata": {},
   "source": [
    "Main source: https://www.kaggle.com/code/rmonge/predicting-molecule-properties-based-on-its-smiles/notebook"
   ]
  },
  {
   "attachments": {},
   "cell_type": "markdown",
   "metadata": {},
   "source": [
    "### Import packages"
   ]
  },
  {
   "cell_type": "code",
   "execution_count": 25,
   "metadata": {},
   "outputs": [],
   "source": [
    "import os\n",
    "import rdkit\n",
    "from rdkit import Chem  # To extract information of the molecules\n",
    "from rdkit.Chem import Draw  # To draw the molecules\n",
    "import numpy as np\n",
    "import pandas as pd\n",
    "import matplotlib.pyplot as plt\n",
    "import random\n",
    "\n",
    "import torch\n",
    "import torch_geometric\n",
    "from torch_geometric.loader import DataLoader\n",
    "import torch_geometric.utils as utils\n",
    "import networkx as nx\n",
    "from torch.nn import Linear\n",
    "from torch_geometric.nn import global_mean_pool, GraphConv, GATConv, GCNConv\n",
    "import torch.nn.functional as F\n",
    "\n",
    "from sklearn.metrics import r2_score"
   ]
  },
  {
   "attachments": {},
   "cell_type": "markdown",
   "metadata": {},
   "source": [
    "### Define function to read xyz files"
   ]
  },
  {
   "cell_type": "code",
   "execution_count": 26,
   "metadata": {},
   "outputs": [],
   "source": [
    "def read_xyz(path):\n",
    "    \"\"\"\n",
    "    Reads the xyz files in the directory on 'path'\n",
    "    Input\n",
    "    path: the path to the folder to be read\n",
    "    \n",
    "    Output\n",
    "    atoms: list with the characters representing the atoms of a molecule\n",
    "    coordinates: list with the cartesian coordinates of each atom\n",
    "    smile: list with the SMILE representation of a molecule\n",
    "    prop: list with the scalar properties\n",
    "    \"\"\"\n",
    "    atoms = []\n",
    "    coordinates = []\n",
    "\n",
    "    with open(path, 'r') as file:\n",
    "        lines = file.readlines()\n",
    "        n_atoms = int(lines[0])  # the number of atoms\n",
    "        smile = lines[n_atoms + 3].split()[0]  # smiles string\n",
    "        prop = lines[1].split()[2:]  # scalar properties\n",
    "\n",
    "        # to retrieve each atmos and its cartesian coordenates\n",
    "        for atom in lines[2:n_atoms + 2]:\n",
    "            line = atom.split()\n",
    "            # which atom\n",
    "            atoms.append(line[0])\n",
    "\n",
    "            # its coordinate\n",
    "            # Some properties have '*^' indicading exponentiation \n",
    "            try:\n",
    "                coordinates.append(\n",
    "                    (float(line[1]),\n",
    "                     float(line[2]),\n",
    "                     float(line[3]))\n",
    "                    )\n",
    "            except:\n",
    "                coordinates.append(\n",
    "                    (float(line[1].replace('*^', 'e')),\n",
    "                     float(line[2].replace('*^', 'e')),\n",
    "                     float(line[3].replace('*^', 'e')))\n",
    "                    )\n",
    "                    \n",
    "    return atoms, coordinates, smile, prop"
   ]
  },
  {
   "attachments": {},
   "cell_type": "markdown",
   "metadata": {},
   "source": [
    "#### Select which data to process:"
   ]
  },
  {
   "cell_type": "code",
   "execution_count": 27,
   "metadata": {},
   "outputs": [],
   "source": [
    "read_and_write_xyz = False  # Set to 'True' if you need to generate smiles_and_targets.csv\n",
    "read_and_write_morgan_fingerprints = False  # Set to 'True' if you need to generate mol_morgan_fingerprints.npy\n",
    "read_and_write_rdkit_descriptors = False  # Set to 'True' if you need to generate mol_descriptors.npy\n",
    "read_and_write_mordred_descriptors = True # Set to 'True' if you need to generate mordred_descriptors.npy"
   ]
  },
  {
   "attachments": {},
   "cell_type": "markdown",
   "metadata": {},
   "source": [
    "### Read xyz files"
   ]
  },
  {
   "cell_type": "code",
   "execution_count": 28,
   "metadata": {},
   "outputs": [],
   "source": [
    "directory = '../data/dsgdb9nsd.xyz/'\n",
    "\n",
    "if read_and_write_xyz:\n",
    "    # Reads the xyz files and return the properties, smiles and coordinates\n",
    "    data = []\n",
    "    smiles = []\n",
    "    properties = []\n",
    "    for file in os.listdir(directory):\n",
    "        path = os.path.join(directory, file)\n",
    "        atoms, coordinates, smile, prop = read_xyz(path)\n",
    "        data.append((atoms, coordinates)) # A tuple with the atoms and its coordinates \n",
    "        smiles.append(smile) # The SMILES representation\n",
    "        properties.append(prop) # The molecules properties\n",
    "\n",
    "    properties_names = ['A', 'B', 'C', 'mu', 'alfa', 'homo', 'lumo', 'gap', 'R²', 'zpve', 'U0', 'U', 'H', 'G', 'Cv']\n",
    "    df = pd.DataFrame(properties, columns = properties_names).astype('float32')\n",
    "    df['smiles'] = smiles\n",
    "    df.head()"
   ]
  },
  {
   "attachments": {},
   "cell_type": "markdown",
   "metadata": {},
   "source": [
    "### Investigate how coordinates are specified"
   ]
  },
  {
   "cell_type": "code",
   "execution_count": 29,
   "metadata": {},
   "outputs": [],
   "source": [
    "# Print cordinates of first molecule in data\n",
    "if read_and_write_xyz:\n",
    "    print(data[0][1])"
   ]
  },
  {
   "attachments": {},
   "cell_type": "markdown",
   "metadata": {},
   "source": [
    "### Draw a few of the molecules"
   ]
  },
  {
   "cell_type": "code",
   "execution_count": 30,
   "metadata": {},
   "outputs": [],
   "source": [
    "if read_and_write_xyz:\n",
    "    # Reading each molecule by its SMILES string\n",
    "    df['mol'] = df['smiles'].apply(lambda x: Chem.MolFromSmiles(x))\n",
    "\n",
    "    # Checking if there are None values\n",
    "    print(\"Number of NaNs: \", df['mol'].isnull().sum())\n",
    "\n",
    "    # Reads and prints the 20 first molecules\n",
    "    mol = df['mol'][:20]\n",
    "\n",
    "    Draw.MolsToGridImage(mol, molsPerRow=5, useSVG=True, legends=list(df['smiles'][:20].values))"
   ]
  },
  {
   "attachments": {},
   "cell_type": "markdown",
   "metadata": {},
   "source": [
    "### Add Hydrogens"
   ]
  },
  {
   "cell_type": "code",
   "execution_count": 31,
   "metadata": {},
   "outputs": [],
   "source": [
    "if read_and_write_xyz:\n",
    "    df['mol'] = df['mol'].apply(lambda x: Chem.AddHs(x))"
   ]
  },
  {
   "attachments": {},
   "cell_type": "markdown",
   "metadata": {},
   "source": [
    "### Count the number of atoms and heavy atoms"
   ]
  },
  {
   "cell_type": "code",
   "execution_count": 32,
   "metadata": {},
   "outputs": [],
   "source": [
    "if read_and_write_xyz:\n",
    "    df['num_of_atoms'] = df['mol'].apply(lambda x: x.GetNumAtoms())\n",
    "    df['num_of_heavy_atoms'] = df['mol'].apply(lambda x: x.GetNumHeavyAtoms())\n",
    "\n",
    "    df.head()"
   ]
  },
  {
   "attachments": {},
   "cell_type": "markdown",
   "metadata": {},
   "source": [
    "### Make canonical SMILE"
   ]
  },
  {
   "cell_type": "code",
   "execution_count": 33,
   "metadata": {},
   "outputs": [],
   "source": [
    "if read_and_write_xyz:\n",
    "    def canonize(mol):\n",
    "        return Chem.MolToSmiles(Chem.MolFromSmiles(mol), isomericSmiles=True, canonical=True)\n",
    "\n",
    "    canon_smile = []\n",
    "    for molecule in smiles:\n",
    "        canon_smile.append(canonize(molecule))\n",
    "        \n",
    "    df['canon_smiles'] = canon_smile\n",
    "\n",
    "    df.head()"
   ]
  },
  {
   "attachments": {},
   "cell_type": "markdown",
   "metadata": {},
   "source": [
    "### Next we want to remove duplicates"
   ]
  },
  {
   "cell_type": "code",
   "execution_count": 34,
   "metadata": {},
   "outputs": [],
   "source": [
    "if read_and_write_xyz:\n",
    "    print(df['canon_smiles'][df['canon_smiles'].duplicated()])\n",
    "\n",
    "    # Can see there are 87 duplicates\n",
    "    print(\"Number of rows: \", len(df['canon_smiles']))\n",
    "    # Drop duplicates:\n",
    "    ind = df.index[df['canon_smiles'].duplicated()]\n",
    "    df = df.drop(ind)\n",
    "    print(\"Number of rows: \", len(df['canon_smiles']))"
   ]
  },
  {
   "attachments": {},
   "cell_type": "markdown",
   "metadata": {},
   "source": [
    "### Remake mol based on the canonical SMILEs"
   ]
  },
  {
   "cell_type": "code",
   "execution_count": 35,
   "metadata": {},
   "outputs": [],
   "source": [
    "if read_and_write_xyz:\n",
    "    df['mol'] = df['canon_smiles'].apply(lambda x: Chem.MolFromSmiles(x))"
   ]
  },
  {
   "attachments": {},
   "cell_type": "markdown",
   "metadata": {},
   "source": [
    "### Investigate data and remove outliers"
   ]
  },
  {
   "cell_type": "code",
   "execution_count": 36,
   "metadata": {},
   "outputs": [],
   "source": [
    "if read_and_write_xyz:\n",
    "    df.describe() # A has very high std, need to investigate further"
   ]
  },
  {
   "cell_type": "code",
   "execution_count": 37,
   "metadata": {},
   "outputs": [],
   "source": [
    "if read_and_write_xyz:\n",
    "    # drop outliers\n",
    "    large_indices_A = df[df['A'] > 10].index\n",
    "    print(\"Outliers in A:\", len(large_indices_A))\n",
    "    large_indices_B = df[df['B'] > 5].index\n",
    "    print(\"Outliers in B:\", len(large_indices_B))\n",
    "    large_indices_C = df[df['C'] > 5].index\n",
    "    print(\"Outliers in C:\", len(large_indices_C))\n",
    "    large_indices_mu = df[df['mu'] > 10].index\n",
    "    print(\"Outliers in mu:\", len(large_indices_mu))\n",
    "    large_indices_temp1 = np.union1d(large_indices_A, large_indices_B)\n",
    "    large_indices_temp2 = np.union1d(large_indices_C, large_indices_mu)\n",
    "    large_indices = np.union1d(large_indices_temp1, large_indices_temp2)\n",
    "    print(\"Total unique outliers:\", len(large_indices))\n",
    "\n",
    "    df = df.drop(large_indices)\n",
    "    print(\"Number of samples in final dataset:\", len(df))"
   ]
  },
  {
   "cell_type": "code",
   "execution_count": 38,
   "metadata": {},
   "outputs": [],
   "source": [
    "if read_and_write_xyz:\n",
    "    df.describe() "
   ]
  },
  {
   "attachments": {},
   "cell_type": "markdown",
   "metadata": {},
   "source": [
    "Write dataframe to csv file"
   ]
  },
  {
   "cell_type": "code",
   "execution_count": 39,
   "metadata": {},
   "outputs": [],
   "source": [
    "if read_and_write_xyz:\n",
    "    df.to_csv(\"../data/smiles_and_targets.csv\")\n",
    "else:\n",
    "    df = pd.read_csv(\"../data/smiles_and_targets.csv\")"
   ]
  },
  {
   "attachments": {},
   "cell_type": "markdown",
   "metadata": {},
   "source": [
    "### Molecular descriptors"
   ]
  },
  {
   "cell_type": "code",
   "execution_count": 40,
   "metadata": {},
   "outputs": [],
   "source": [
    "from rdkit.Chem import Descriptors\n",
    "from rdkit.ML.Descriptors import MoleculeDescriptors\n",
    "\n",
    "if read_and_write_rdkit_descriptors:\n",
    "    calc = MoleculeDescriptors.MolecularDescriptorCalculator([x[0] for x in Descriptors._descList])\n",
    "\n",
    "    mol_descriptors = np.zeros(shape=(len(df), len([x[0] for x in Descriptors._descList])))\n",
    "\n",
    "    counter = -1\n",
    "    for molecule in df.smiles.values:\n",
    "        counter += 1\n",
    "        if counter % 1000 == 0:\n",
    "            print(\"Iteration: \", counter)\n",
    "        mol_descriptors[counter,:] = calc.CalcDescriptors(Chem.MolFromSmiles(molecule))\n",
    "\n",
    "    print(df.smiles.values[1000])\n",
    "    print(mol_descriptors[1000,:])\n",
    "    descriptors_list = [x[0] for x in Descriptors._descList]\n",
    "    print(descriptors_list)"
   ]
  },
  {
   "attachments": {},
   "cell_type": "markdown",
   "metadata": {},
   "source": [
    "Investigate descriptors"
   ]
  },
  {
   "cell_type": "code",
   "execution_count": 41,
   "metadata": {},
   "outputs": [],
   "source": [
    "if read_and_write_rdkit_descriptors:\n",
    "    df_mol_descriptors = pd.DataFrame(mol_descriptors)\n",
    "    print(\"Shape of mol_descriptors:\", np.shape(df_mol_descriptors))\n",
    "    df_mol_descriptors.describe()"
   ]
  },
  {
   "cell_type": "code",
   "execution_count": 42,
   "metadata": {},
   "outputs": [],
   "source": [
    "if read_and_write_rdkit_descriptors:\n",
    "    df_mol_descriptors.describe().loc['std'].sort_values(ascending=False)"
   ]
  },
  {
   "attachments": {},
   "cell_type": "markdown",
   "metadata": {},
   "source": [
    "Remove descriptors where std. dev is zero"
   ]
  },
  {
   "cell_type": "code",
   "execution_count": 43,
   "metadata": {},
   "outputs": [],
   "source": [
    "if read_and_write_rdkit_descriptors:\n",
    "    col_info = df_mol_descriptors.describe().loc['std']\n",
    "    zero_std_cols = col_info[col_info == 0].index\n",
    "\n",
    "    df_mol_descriptors = df_mol_descriptors.drop(zero_std_cols, axis=1)\n",
    "\n",
    "    mol_descriptors = df_mol_descriptors.to_numpy()\n",
    "    print(\"Shape of mol_descriptors after dropping columns with zero std.dev:\", np.shape(mol_descriptors))"
   ]
  },
  {
   "attachments": {},
   "cell_type": "markdown",
   "metadata": {},
   "source": [
    "Save descriptors to file"
   ]
  },
  {
   "cell_type": "code",
   "execution_count": 44,
   "metadata": {},
   "outputs": [],
   "source": [
    "if read_and_write_rdkit_descriptors:\n",
    "    np.save(\"../data/mol_descriptors.npy\", mol_descriptors)\n",
    "else:\n",
    "    mol_rdkit_descriptors = np.load(\"../data/mol_descriptors.npy\")"
   ]
  },
  {
   "attachments": {},
   "cell_type": "markdown",
   "metadata": {},
   "source": [
    "### Mordred descriptors"
   ]
  },
  {
   "cell_type": "code",
   "execution_count": 45,
   "metadata": {},
   "outputs": [
    {
     "name": "stdout",
     "output_type": "stream",
     "text": [
      "Iteration:  0\n",
      "Iteration:  1000\n",
      "Iteration:  2000\n",
      "Iteration:  3000\n",
      "Iteration:  4000\n",
      "Iteration:  5000\n",
      "Iteration:  6000\n"
     ]
    }
   ],
   "source": [
    "from mordred import Calculator, descriptors\n",
    "\n",
    "if read_and_write_mordred_descriptors:\n",
    "    calc = Calculator(descriptors, ignore_3D=True)\n",
    "\n",
    "    mol_descriptors = np.zeros(shape=(len(df), len(calc.descriptors)))\n",
    "\n",
    "    counter = -1\n",
    "    for molecule in df.smiles.values:\n",
    "        counter += 1\n",
    "        if counter % 1000 == 0:\n",
    "            print(\"Iteration: \", counter)\n",
    "        mol_descriptors[counter,:] = calc(Chem.MolFromSmiles(molecule))\n",
    "\n",
    "    print(df.smiles.values[1000])\n",
    "    print(mol_descriptors[1000,:])\n",
    "    descriptors_list = [x[0] for x in Descriptors._descList]\n",
    "    print(descriptors_list)"
   ]
  },
  {
   "attachments": {},
   "cell_type": "markdown",
   "metadata": {},
   "source": [
    "Investigate descriptors"
   ]
  },
  {
   "cell_type": "code",
   "execution_count": null,
   "metadata": {},
   "outputs": [
    {
     "name": "stdout",
     "output_type": "stream",
     "text": [
      "Shape of mol_descriptors: (132820, 1613)\n"
     ]
    },
    {
     "data": {
      "text/html": [
       "<div>\n",
       "<style scoped>\n",
       "    .dataframe tbody tr th:only-of-type {\n",
       "        vertical-align: middle;\n",
       "    }\n",
       "\n",
       "    .dataframe tbody tr th {\n",
       "        vertical-align: top;\n",
       "    }\n",
       "\n",
       "    .dataframe thead th {\n",
       "        text-align: right;\n",
       "    }\n",
       "</style>\n",
       "<table border=\"1\" class=\"dataframe\">\n",
       "  <thead>\n",
       "    <tr style=\"text-align: right;\">\n",
       "      <th></th>\n",
       "      <th>0</th>\n",
       "      <th>1</th>\n",
       "      <th>2</th>\n",
       "      <th>3</th>\n",
       "      <th>4</th>\n",
       "      <th>5</th>\n",
       "      <th>6</th>\n",
       "      <th>7</th>\n",
       "      <th>8</th>\n",
       "      <th>9</th>\n",
       "      <th>...</th>\n",
       "      <th>1603</th>\n",
       "      <th>1604</th>\n",
       "      <th>1605</th>\n",
       "      <th>1606</th>\n",
       "      <th>1607</th>\n",
       "      <th>1608</th>\n",
       "      <th>1609</th>\n",
       "      <th>1610</th>\n",
       "      <th>1611</th>\n",
       "      <th>1612</th>\n",
       "    </tr>\n",
       "  </thead>\n",
       "  <tbody>\n",
       "    <tr>\n",
       "      <th>count</th>\n",
       "      <td>132820.000000</td>\n",
       "      <td>132820.000000</td>\n",
       "      <td>132820.000000</td>\n",
       "      <td>132820.000000</td>\n",
       "      <td>132820.000000</td>\n",
       "      <td>132820.000000</td>\n",
       "      <td>132820.000000</td>\n",
       "      <td>132820.000000</td>\n",
       "      <td>132820.000000</td>\n",
       "      <td>132820.000000</td>\n",
       "      <td>...</td>\n",
       "      <td>132820.000000</td>\n",
       "      <td>132820.000000</td>\n",
       "      <td>132820.000000</td>\n",
       "      <td>132820.000000</td>\n",
       "      <td>132820.000000</td>\n",
       "      <td>132820.000000</td>\n",
       "      <td>132820.000000</td>\n",
       "      <td>132820.000000</td>\n",
       "      <td>132820.000000</td>\n",
       "      <td>132820.000000</td>\n",
       "    </tr>\n",
       "    <tr>\n",
       "      <th>mean</th>\n",
       "      <td>6.735972</td>\n",
       "      <td>6.847627</td>\n",
       "      <td>0.015721</td>\n",
       "      <td>0.326984</td>\n",
       "      <td>10.917307</td>\n",
       "      <td>2.436739</td>\n",
       "      <td>4.638144</td>\n",
       "      <td>10.917307</td>\n",
       "      <td>1.239390</td>\n",
       "      <td>3.168396</td>\n",
       "      <td>...</td>\n",
       "      <td>9.286528</td>\n",
       "      <td>51.493736</td>\n",
       "      <td>122.816519</td>\n",
       "      <td>6.989967</td>\n",
       "      <td>80.649556</td>\n",
       "      <td>8.266451</td>\n",
       "      <td>46.556738</td>\n",
       "      <td>56.353847</td>\n",
       "      <td>3.369080</td>\n",
       "      <td>1.982333</td>\n",
       "    </tr>\n",
       "    <tr>\n",
       "      <th>std</th>\n",
       "      <td>0.727112</td>\n",
       "      <td>0.717053</td>\n",
       "      <td>0.144445</td>\n",
       "      <td>0.607757</td>\n",
       "      <td>0.925713</td>\n",
       "      <td>0.235529</td>\n",
       "      <td>0.386182</td>\n",
       "      <td>0.925713</td>\n",
       "      <td>0.075483</td>\n",
       "      <td>0.132125</td>\n",
       "      <td>...</td>\n",
       "      <td>0.843958</td>\n",
       "      <td>10.298563</td>\n",
       "      <td>7.154271</td>\n",
       "      <td>1.148384</td>\n",
       "      <td>13.490274</td>\n",
       "      <td>1.676465</td>\n",
       "      <td>9.598229</td>\n",
       "      <td>17.181715</td>\n",
       "      <td>0.881233</td>\n",
       "      <td>0.210510</td>\n",
       "    </tr>\n",
       "    <tr>\n",
       "      <th>min</th>\n",
       "      <td>2.121320</td>\n",
       "      <td>2.340100</td>\n",
       "      <td>0.000000</td>\n",
       "      <td>0.000000</td>\n",
       "      <td>4.000000</td>\n",
       "      <td>1.618034</td>\n",
       "      <td>3.236068</td>\n",
       "      <td>4.000000</td>\n",
       "      <td>0.800000</td>\n",
       "      <td>2.155909</td>\n",
       "      <td>...</td>\n",
       "      <td>5.509388</td>\n",
       "      <td>22.328143</td>\n",
       "      <td>50.015650</td>\n",
       "      <td>4.240818</td>\n",
       "      <td>10.000000</td>\n",
       "      <td>0.000000</td>\n",
       "      <td>10.000000</td>\n",
       "      <td>8.000000</td>\n",
       "      <td>0.888889</td>\n",
       "      <td>1.000000</td>\n",
       "    </tr>\n",
       "    <tr>\n",
       "      <th>25%</th>\n",
       "      <td>6.363961</td>\n",
       "      <td>6.371088</td>\n",
       "      <td>0.000000</td>\n",
       "      <td>0.000000</td>\n",
       "      <td>10.472136</td>\n",
       "      <td>2.246980</td>\n",
       "      <td>4.354483</td>\n",
       "      <td>10.472136</td>\n",
       "      <td>1.192231</td>\n",
       "      <td>3.093038</td>\n",
       "      <td>...</td>\n",
       "      <td>8.635687</td>\n",
       "      <td>40.201478</td>\n",
       "      <td>122.022861</td>\n",
       "      <td>6.254203</td>\n",
       "      <td>75.000000</td>\n",
       "      <td>7.000000</td>\n",
       "      <td>40.000000</td>\n",
       "      <td>44.000000</td>\n",
       "      <td>2.673611</td>\n",
       "      <td>1.833333</td>\n",
       "    </tr>\n",
       "    <tr>\n",
       "      <th>50%</th>\n",
       "      <td>6.651690</td>\n",
       "      <td>6.817889</td>\n",
       "      <td>0.000000</td>\n",
       "      <td>0.000000</td>\n",
       "      <td>11.014901</td>\n",
       "      <td>2.414214</td>\n",
       "      <td>4.573236</td>\n",
       "      <td>11.014901</td>\n",
       "      <td>1.240597</td>\n",
       "      <td>3.165884</td>\n",
       "      <td>...</td>\n",
       "      <td>9.247347</td>\n",
       "      <td>53.765429</td>\n",
       "      <td>125.047678</td>\n",
       "      <td>6.837134</td>\n",
       "      <td>82.000000</td>\n",
       "      <td>8.000000</td>\n",
       "      <td>46.000000</td>\n",
       "      <td>53.000000</td>\n",
       "      <td>3.284722</td>\n",
       "      <td>2.000000</td>\n",
       "    </tr>\n",
       "    <tr>\n",
       "      <th>75%</th>\n",
       "      <td>7.168527</td>\n",
       "      <td>7.357998</td>\n",
       "      <td>0.000000</td>\n",
       "      <td>1.000000</td>\n",
       "      <td>11.481605</td>\n",
       "      <td>2.619137</td>\n",
       "      <td>4.913497</td>\n",
       "      <td>11.481605</td>\n",
       "      <td>1.288360</td>\n",
       "      <td>3.261450</td>\n",
       "      <td>...</td>\n",
       "      <td>9.936003</td>\n",
       "      <td>60.467132</td>\n",
       "      <td>127.063329</td>\n",
       "      <td>7.565798</td>\n",
       "      <td>88.000000</td>\n",
       "      <td>9.000000</td>\n",
       "      <td>52.000000</td>\n",
       "      <td>67.000000</td>\n",
       "      <td>4.083333</td>\n",
       "      <td>2.138889</td>\n",
       "    </tr>\n",
       "    <tr>\n",
       "      <th>max</th>\n",
       "      <td>8.802517</td>\n",
       "      <td>8.986688</td>\n",
       "      <td>3.000000</td>\n",
       "      <td>5.000000</td>\n",
       "      <td>13.875004</td>\n",
       "      <td>3.170086</td>\n",
       "      <td>6.090950</td>\n",
       "      <td>13.875004</td>\n",
       "      <td>1.541667</td>\n",
       "      <td>3.603798</td>\n",
       "      <td>...</td>\n",
       "      <td>11.829975</td>\n",
       "      <td>71.467221</td>\n",
       "      <td>152.006069</td>\n",
       "      <td>17.248802</td>\n",
       "      <td>120.000000</td>\n",
       "      <td>13.000000</td>\n",
       "      <td>80.000000</td>\n",
       "      <td>124.000000</td>\n",
       "      <td>6.375000</td>\n",
       "      <td>2.500000</td>\n",
       "    </tr>\n",
       "  </tbody>\n",
       "</table>\n",
       "<p>8 rows × 1613 columns</p>\n",
       "</div>"
      ],
      "text/plain": [
       "                0              1              2              3     \\\n",
       "count  132820.000000  132820.000000  132820.000000  132820.000000   \n",
       "mean        6.735972       6.847627       0.015721       0.326984   \n",
       "std         0.727112       0.717053       0.144445       0.607757   \n",
       "min         2.121320       2.340100       0.000000       0.000000   \n",
       "25%         6.363961       6.371088       0.000000       0.000000   \n",
       "50%         6.651690       6.817889       0.000000       0.000000   \n",
       "75%         7.168527       7.357998       0.000000       1.000000   \n",
       "max         8.802517       8.986688       3.000000       5.000000   \n",
       "\n",
       "                4              5              6              7     \\\n",
       "count  132820.000000  132820.000000  132820.000000  132820.000000   \n",
       "mean       10.917307       2.436739       4.638144      10.917307   \n",
       "std         0.925713       0.235529       0.386182       0.925713   \n",
       "min         4.000000       1.618034       3.236068       4.000000   \n",
       "25%        10.472136       2.246980       4.354483      10.472136   \n",
       "50%        11.014901       2.414214       4.573236      11.014901   \n",
       "75%        11.481605       2.619137       4.913497      11.481605   \n",
       "max        13.875004       3.170086       6.090950      13.875004   \n",
       "\n",
       "                8              9     ...           1603           1604  \\\n",
       "count  132820.000000  132820.000000  ...  132820.000000  132820.000000   \n",
       "mean        1.239390       3.168396  ...       9.286528      51.493736   \n",
       "std         0.075483       0.132125  ...       0.843958      10.298563   \n",
       "min         0.800000       2.155909  ...       5.509388      22.328143   \n",
       "25%         1.192231       3.093038  ...       8.635687      40.201478   \n",
       "50%         1.240597       3.165884  ...       9.247347      53.765429   \n",
       "75%         1.288360       3.261450  ...       9.936003      60.467132   \n",
       "max         1.541667       3.603798  ...      11.829975      71.467221   \n",
       "\n",
       "                1605           1606           1607           1608  \\\n",
       "count  132820.000000  132820.000000  132820.000000  132820.000000   \n",
       "mean      122.816519       6.989967      80.649556       8.266451   \n",
       "std         7.154271       1.148384      13.490274       1.676465   \n",
       "min        50.015650       4.240818      10.000000       0.000000   \n",
       "25%       122.022861       6.254203      75.000000       7.000000   \n",
       "50%       125.047678       6.837134      82.000000       8.000000   \n",
       "75%       127.063329       7.565798      88.000000       9.000000   \n",
       "max       152.006069      17.248802     120.000000      13.000000   \n",
       "\n",
       "                1609           1610           1611           1612  \n",
       "count  132820.000000  132820.000000  132820.000000  132820.000000  \n",
       "mean       46.556738      56.353847       3.369080       1.982333  \n",
       "std         9.598229      17.181715       0.881233       0.210510  \n",
       "min        10.000000       8.000000       0.888889       1.000000  \n",
       "25%        40.000000      44.000000       2.673611       1.833333  \n",
       "50%        46.000000      53.000000       3.284722       2.000000  \n",
       "75%        52.000000      67.000000       4.083333       2.138889  \n",
       "max        80.000000     124.000000       6.375000       2.500000  \n",
       "\n",
       "[8 rows x 1613 columns]"
      ]
     },
     "execution_count": 37,
     "metadata": {},
     "output_type": "execute_result"
    }
   ],
   "source": [
    "if read_and_write_mordred_descriptors:\n",
    "    df_mol_descriptors = pd.DataFrame(mol_descriptors)\n",
    "    print(\"Shape of mol_descriptors:\", np.shape(df_mol_descriptors))\n",
    "    df_mol_descriptors.describe()"
   ]
  },
  {
   "cell_type": "code",
   "execution_count": null,
   "metadata": {},
   "outputs": [
    {
     "data": {
      "text/plain": [
       "123     2326.593630\n",
       "124     2012.301079\n",
       "122     1836.680328\n",
       "125     1482.071068\n",
       "77      1393.626711\n",
       "           ...     \n",
       "339        0.006295\n",
       "338        0.006166\n",
       "1381       0.002381\n",
       "1388       0.001403\n",
       "1145       0.000054\n",
       "Name: std, Length: 1311, dtype: float64"
      ]
     },
     "execution_count": 71,
     "metadata": {},
     "output_type": "execute_result"
    }
   ],
   "source": [
    "if read_and_write_mordred_descriptors:\n",
    "    df_mol_descriptors.describe().loc['std'].sort_values(ascending=False)"
   ]
  },
  {
   "attachments": {},
   "cell_type": "markdown",
   "metadata": {},
   "source": [
    "Remove descriptors where std. dev is zero"
   ]
  },
  {
   "cell_type": "code",
   "execution_count": null,
   "metadata": {},
   "outputs": [
    {
     "name": "stdout",
     "output_type": "stream",
     "text": [
      "Shape of mol_descriptors after dropping columns with zero std.dev: (132820, 1425)\n"
     ]
    }
   ],
   "source": [
    "if read_and_write_mordred_descriptors:\n",
    "    col_info = df_mol_descriptors.describe().loc['std']\n",
    "    zero_std_cols = col_info[col_info == 0].index\n",
    "\n",
    "    df_mol_descriptors = df_mol_descriptors.drop(zero_std_cols, axis=1)\n",
    "\n",
    "    mol_descriptors = df_mol_descriptors.to_numpy()\n",
    "    print(\"Shape of mol_descriptors after dropping columns with zero std.dev:\", np.shape(mol_descriptors))"
   ]
  },
  {
   "attachments": {},
   "cell_type": "markdown",
   "metadata": {},
   "source": [
    "Remove where std.dev is NaN"
   ]
  },
  {
   "cell_type": "code",
   "execution_count": null,
   "metadata": {},
   "outputs": [
    {
     "name": "stdout",
     "output_type": "stream",
     "text": [
      "Shape of mol_descriptors after dropping columns with zero std.dev: (132820, 987)\n"
     ]
    }
   ],
   "source": [
    "if read_and_write_mordred_descriptors:\n",
    "    # Reset index\n",
    "    df_mol_descriptors.columns = range(0,len(df_mol_descriptors.columns))\n",
    "\n",
    "    col_info = df_mol_descriptors.describe().loc['std']\n",
    "    NaN_std_cols=np.argwhere(np.isnan(col_info.to_numpy()))\n",
    "    NaN_std_cols = [int(i) for i in NaN_std_cols]\n",
    "\n",
    "    df_mol_descriptors = df_mol_descriptors.drop(NaN_std_cols, axis=1)\n",
    "\n",
    "    # Remove any columns/features that have nan elements\n",
    "    df_mol_descriptors = df_mol_descriptors.dropna(axis=1)\n",
    "\n",
    "    mol_descriptors = df_mol_descriptors.to_numpy()\n",
    "    print(\"Shape of mol_descriptors after dropping columns with zero std.dev:\", np.shape(mol_descriptors))"
   ]
  },
  {
   "attachments": {},
   "cell_type": "markdown",
   "metadata": {},
   "source": [
    "Save descriptor"
   ]
  },
  {
   "cell_type": "code",
   "execution_count": null,
   "metadata": {},
   "outputs": [],
   "source": [
    "if read_and_write_mordred_descriptors:\n",
    "    np.save(\"../data/Mordred_mol_descriptors.npy\", mol_descriptors)\n",
    "else:\n",
    "    mol_mordred_descriptors = np.load(\"../data/Mordred_mol_descriptors.npy\")"
   ]
  },
  {
   "attachments": {},
   "cell_type": "markdown",
   "metadata": {},
   "source": [
    "### Morgan Fingerprints"
   ]
  },
  {
   "attachments": {},
   "cell_type": "markdown",
   "metadata": {},
   "source": [
    "Load data"
   ]
  },
  {
   "cell_type": "code",
   "execution_count": null,
   "metadata": {},
   "outputs": [],
   "source": [
    "df = pd.read_csv(\"../data/smiles_and_targets.csv\")"
   ]
  },
  {
   "cell_type": "code",
   "execution_count": null,
   "metadata": {},
   "outputs": [
    {
     "name": "stdout",
     "output_type": "stream",
     "text": [
      "0                      C#CC#C\n",
      "1                      C#CC#N\n",
      "2                      N#CC#N\n",
      "3                    CC(C)=NO\n",
      "4                   CC(C)(C)C\n",
      "                 ...         \n",
      "132815    C1C2C3C4C5OC14C5N23\n",
      "132816    C1N2C3C2C2C4OC12C34\n",
      "132817    C1N2C3C4C5C2C13CN45\n",
      "132818    C1N2C3C4C5CC13C2C45\n",
      "132819    C1N2C3C4C5OC13C2C45\n",
      "Name: smiles, Length: 132820, dtype: object\n"
     ]
    }
   ],
   "source": [
    "print(df.smiles)"
   ]
  },
  {
   "attachments": {},
   "cell_type": "markdown",
   "metadata": {},
   "source": [
    "Generate fingerprints"
   ]
  },
  {
   "cell_type": "code",
   "execution_count": null,
   "metadata": {},
   "outputs": [],
   "source": [
    "from rdkit.Chem import AllChem\n",
    "from rdkit.DataStructs import cDataStructs\n",
    "\n",
    "if read_and_write_morgan_fingerprints:\n",
    "    n_features = 1024*2 # Number of features\n",
    "    radius = 2 # How far from current atom one can go to define a feature\n",
    "\n",
    "    mol_fingerprint = np.zeros(shape=(len(df), n_features))\n",
    "\n",
    "    key_list = []\n",
    "\n",
    "    counter = -1\n",
    "    for smile in df.smiles:\n",
    "        counter += 1\n",
    "\n",
    "        mol = Chem.MolFromSmiles(smile) # Convert to molecule\n",
    "        fp = AllChem.GetHashedMorganFingerprint(mol, radius, nBits=n_features) # Calculate morgan fingerprint that includes counts\n",
    "        fp_dict = cDataStructs.UIntSparseIntVect.GetNonzeroElements(fp) # Get all non-zero elements to a dictionary\n",
    "        arr = np.zeros((n_features,)) # A vector that will be the morgan fingerprint\n",
    "        for key, val in fp_dict.items():\n",
    "            key_list.append(int(key))\n",
    "            arr[key] = val\n",
    "\n",
    "        mol_fingerprint[counter] = arr\n"
   ]
  },
  {
   "cell_type": "code",
   "execution_count": null,
   "metadata": {},
   "outputs": [
    {
     "name": "stdout",
     "output_type": "stream",
     "text": [
      "2048\n"
     ]
    }
   ],
   "source": [
    "if read_and_write_morgan_fingerprints\n",
    "    print(len(np.unique(key_list))) # Check for redundance (So we don't have features that are never used)"
   ]
  },
  {
   "attachments": {},
   "cell_type": "markdown",
   "metadata": {},
   "source": [
    "Check min number of occurenses of any feature in fingerprint"
   ]
  },
  {
   "cell_type": "code",
   "execution_count": null,
   "metadata": {},
   "outputs": [
    {
     "name": "stdout",
     "output_type": "stream",
     "text": [
      "2048\n",
      "Min number of occurenses of any feature:  163.0\n",
      "Max number of occurenses of any feature:  87155.0\n"
     ]
    }
   ],
   "source": [
    "if read_and_write_morgan_fingerprints:\n",
    "    mol_fingerprint[mol_fingerprint!=0] = 1 # Convert non-zero elements into ones\n",
    "\n",
    "    mol_fingerprint_feature_occurence = np.sum(mol_fingerprint,axis=0)\n",
    "\n",
    "    print(len(mol_fingerprint_feature_occurence))\n",
    "    print(\"Min number of occurenses of any feature: \", np.min(mol_fingerprint_feature_occurence))\n",
    "    print(\"Max number of occurenses of any feature: \", np.max(mol_fingerprint_feature_occurence))"
   ]
  },
  {
   "attachments": {},
   "cell_type": "markdown",
   "metadata": {},
   "source": [
    "Save fingerprints"
   ]
  },
  {
   "cell_type": "code",
   "execution_count": null,
   "metadata": {},
   "outputs": [],
   "source": [
    "if read_and_write_morgan_fingerprints:\n",
    "    np.save(\"../data/mol_morgan_fingerprints.npy\", mol_fingerprint)\n",
    "else:\n",
    "    mol_morgan_fingerprints = np.load(\"../data/mol_morgan_fingerprints.npy\")"
   ]
  }
 ],
 "metadata": {
  "kernelspec": {
   "display_name": "Python 3",
   "language": "python",
   "name": "python3"
  },
  "language_info": {
   "codemirror_mode": {
    "name": "ipython",
    "version": 3
   },
   "file_extension": ".py",
   "mimetype": "text/x-python",
   "name": "python",
   "nbconvert_exporter": "python",
   "pygments_lexer": "ipython3",
   "version": "3.10.10"
  },
  "orig_nbformat": 4
 },
 "nbformat": 4,
 "nbformat_minor": 2
}
