{
 "cells": [
  {
   "attachments": {},
   "cell_type": "markdown",
   "metadata": {},
   "source": [
    "# TIF360 Project"
   ]
  },
  {
   "attachments": {},
   "cell_type": "markdown",
   "metadata": {},
   "source": [
    "# Data Pre-processing"
   ]
  },
  {
   "attachments": {},
   "cell_type": "markdown",
   "metadata": {},
   "source": [
    "Main source: https://www.kaggle.com/code/rmonge/predicting-molecule-properties-based-on-its-smiles/notebook"
   ]
  },
  {
   "attachments": {},
   "cell_type": "markdown",
   "metadata": {},
   "source": [
    "### Import packages"
   ]
  },
  {
   "cell_type": "code",
   "execution_count": 23,
   "metadata": {},
   "outputs": [],
   "source": [
    "import os\n",
    "from rdkit import Chem  # To extract information of the molecules\n",
    "from rdkit.Chem import Draw  # To draw the molecules\n",
    "import numpy as np\n",
    "import pandas as pd\n",
    "\n",
    "import matplotlib.pyplot as plt\n",
    "%matplotlib inline"
   ]
  },
  {
   "attachments": {},
   "cell_type": "markdown",
   "metadata": {},
   "source": [
    "### Define function to read xyz files"
   ]
  },
  {
   "cell_type": "code",
   "execution_count": 8,
   "metadata": {},
   "outputs": [],
   "source": [
    "def read_xyz(path):\n",
    "    \"\"\"\n",
    "    Reads the xyz files in the directory on 'path'\n",
    "    Input\n",
    "    path: the path to the folder to be read\n",
    "    \n",
    "    Output\n",
    "    atoms: list with the characters representing the atoms of a molecule\n",
    "    coordinates: list with the cartesian coordinates of each atom\n",
    "    smile: list with the SMILE representation of a molecule\n",
    "    prop: list with the scalar properties\n",
    "    \"\"\"\n",
    "    atoms = []\n",
    "    coordinates = []\n",
    "\n",
    "    with open(path, 'r') as file:\n",
    "        lines = file.readlines()\n",
    "        n_atoms = int(lines[0])  # the number of atoms\n",
    "        smile = lines[n_atoms + 3].split()[0]  # smiles string\n",
    "        prop = lines[1].split()[2:]  # scalar properties\n",
    "\n",
    "        # to retrieve each atmos and its cartesian coordenates\n",
    "        for atom in lines[2:n_atoms + 2]:\n",
    "            line = atom.split()\n",
    "            # which atom\n",
    "            atoms.append(line[0])\n",
    "\n",
    "            # its coordinate\n",
    "            # Some properties have '*^' indicading exponentiation \n",
    "            try:\n",
    "                coordinates.append(\n",
    "                    (float(line[1]),\n",
    "                     float(line[2]),\n",
    "                     float(line[3]))\n",
    "                    )\n",
    "            except:\n",
    "                coordinates.append(\n",
    "                    (float(line[1].replace('*^', 'e')),\n",
    "                     float(line[2].replace('*^', 'e')),\n",
    "                     float(line[3].replace('*^', 'e')))\n",
    "                    )\n",
    "                    \n",
    "    return atoms, coordinates, smile, prop"
   ]
  },
  {
   "attachments": {},
   "cell_type": "markdown",
   "metadata": {},
   "source": [
    "#### Select which data to process:"
   ]
  },
  {
   "cell_type": "code",
   "execution_count": 9,
   "metadata": {},
   "outputs": [],
   "source": [
    "read_and_write_xyz = True  # Set to 'True' if you need to generate smiles_and_targets.csv\n",
    "read_and_write_morgan_fingerprints = False  # Set to 'True' if you need to generate mol_morgan_fingerprints.npy\n",
    "read_and_write_rdkit_descriptors = False  # Set to 'True' if you need to generate mol_descriptors.npy\n",
    "read_and_write_mordred_descriptors = False # Set to 'True' if you need to generate mordred_descriptors.npy"
   ]
  },
  {
   "attachments": {},
   "cell_type": "markdown",
   "metadata": {},
   "source": [
    "### Read xyz files"
   ]
  },
  {
   "cell_type": "code",
   "execution_count": 10,
   "metadata": {},
   "outputs": [],
   "source": [
    "directory = '../data/dsgdb9nsd.xyz/'\n",
    "\n",
    "properties_names = ['A', 'B', 'C', 'mu', 'alfa', 'homo', 'lumo', 'gap', 'R²', 'zpve', 'U0', 'U', 'H', 'G', 'Cv']\n",
    "\n",
    "if read_and_write_xyz:\n",
    "    # Reads the xyz files and return the properties, smiles and coordinates\n",
    "    data = []\n",
    "    smiles = []\n",
    "    properties = []\n",
    "    for file in os.listdir(directory):\n",
    "        path = os.path.join(directory, file)\n",
    "        atoms, coordinates, smile, prop = read_xyz(path)\n",
    "        data.append((atoms, coordinates)) # A tuple with the atoms and its coordinates \n",
    "        smiles.append(smile) # The SMILES representation\n",
    "        properties.append(prop) # The molecules properties\n",
    "\n",
    "    df = pd.DataFrame(properties, columns = properties_names).astype('float32')\n",
    "    df['smiles'] = smiles\n",
    "    df.head()"
   ]
  },
  {
   "attachments": {},
   "cell_type": "markdown",
   "metadata": {},
   "source": [
    "### Investigate how coordinates are specified"
   ]
  },
  {
   "cell_type": "code",
   "execution_count": 11,
   "metadata": {},
   "outputs": [
    {
     "name": "stdout",
     "output_type": "stream",
     "text": [
      "[(-0.0126981359, 1.0858041578, 0.0080009958), (0.002150416, -0.0060313176, 0.0019761204), (1.0117308433, 1.4637511618, 0.0002765748), (-0.540815069, 1.4475266138, -0.8766437152), (-0.5238136345, 1.4379326443, 0.9063972942)]\n"
     ]
    }
   ],
   "source": [
    "# Print cordinates of first molecule in data\n",
    "if read_and_write_xyz:\n",
    "    print(data[0][1])"
   ]
  },
  {
   "attachments": {},
   "cell_type": "markdown",
   "metadata": {},
   "source": [
    "### Draw a few of the molecules"
   ]
  },
  {
   "cell_type": "code",
   "execution_count": 12,
   "metadata": {},
   "outputs": [
    {
     "name": "stdout",
     "output_type": "stream",
     "text": [
      "Number of NaNs:  0\n"
     ]
    }
   ],
   "source": [
    "if read_and_write_xyz:\n",
    "    # Reading each molecule by its SMILES string\n",
    "    df['mol'] = df['smiles'].apply(lambda x: Chem.MolFromSmiles(x))\n",
    "\n",
    "    # Checking if there are None values\n",
    "    print(\"Number of NaNs: \", df['mol'].isnull().sum())\n",
    "\n",
    "    # Reads and prints the 20 first molecules\n",
    "    mol = df['mol'][:20]\n",
    "\n",
    "    Draw.MolsToGridImage(mol, molsPerRow=5, useSVG=True, legends=list(df['smiles'][:20].values))"
   ]
  },
  {
   "attachments": {},
   "cell_type": "markdown",
   "metadata": {},
   "source": [
    "### Add Hydrogens"
   ]
  },
  {
   "cell_type": "code",
   "execution_count": 13,
   "metadata": {},
   "outputs": [],
   "source": [
    "if read_and_write_xyz:\n",
    "    df['mol'] = df['mol'].apply(lambda x: Chem.AddHs(x))"
   ]
  },
  {
   "attachments": {},
   "cell_type": "markdown",
   "metadata": {},
   "source": [
    "### Count the number of atoms and heavy atoms"
   ]
  },
  {
   "cell_type": "code",
   "execution_count": 14,
   "metadata": {},
   "outputs": [],
   "source": [
    "if read_and_write_xyz:\n",
    "    df['num_of_atoms'] = df['mol'].apply(lambda x: x.GetNumAtoms())\n",
    "    df['num_of_heavy_atoms'] = df['mol'].apply(lambda x: x.GetNumHeavyAtoms())\n",
    "\n",
    "    df.head()"
   ]
  },
  {
   "attachments": {},
   "cell_type": "markdown",
   "metadata": {},
   "source": [
    "### Make canonical SMILE"
   ]
  },
  {
   "cell_type": "code",
   "execution_count": 15,
   "metadata": {},
   "outputs": [],
   "source": [
    "if read_and_write_xyz:\n",
    "    def canonize(mol):\n",
    "        return Chem.MolToSmiles(Chem.MolFromSmiles(mol), isomericSmiles=True, canonical=True)\n",
    "\n",
    "    canon_smile = []\n",
    "    for molecule in smiles:\n",
    "        canon_smile.append(canonize(molecule))\n",
    "        \n",
    "    df['canon_smiles'] = canon_smile\n",
    "\n",
    "    df.head()"
   ]
  },
  {
   "attachments": {},
   "cell_type": "markdown",
   "metadata": {},
   "source": [
    "### Next we want to remove duplicates"
   ]
  },
  {
   "cell_type": "code",
   "execution_count": 16,
   "metadata": {},
   "outputs": [
    {
     "name": "stdout",
     "output_type": "stream",
     "text": [
      "936           Cc1cnccn1\n",
      "945           Nc1cnccn1\n",
      "955           Oc1cnccn1\n",
      "4214          Fc1cnccn1\n",
      "4576       Cc1cnc(N)cn1\n",
      "              ...      \n",
      "133327    Nc1c(F)cnnc1F\n",
      "133363    Nc1nncc(F)c1N\n",
      "133364    Nc1nncc(O)c1F\n",
      "133365    Nc1nncc(F)c1O\n",
      "133366    Nc1nncc(F)c1F\n",
      "Name: canon_smiles, Length: 87, dtype: object\n",
      "Number of rows:  133885\n",
      "Number of rows:  133798\n"
     ]
    }
   ],
   "source": [
    "if read_and_write_xyz:\n",
    "    print(df['canon_smiles'][df['canon_smiles'].duplicated()])\n",
    "\n",
    "    # Can see there are 87 duplicates\n",
    "    print(\"Number of rows: \", len(df['canon_smiles']))\n",
    "    # Drop duplicates:\n",
    "    ind = df.index[df['canon_smiles'].duplicated()]\n",
    "    df = df.drop(ind)\n",
    "    print(\"Number of rows: \", len(df['canon_smiles']))"
   ]
  },
  {
   "attachments": {},
   "cell_type": "markdown",
   "metadata": {},
   "source": [
    "### Remake mol based on the canonical SMILEs"
   ]
  },
  {
   "cell_type": "code",
   "execution_count": 18,
   "metadata": {},
   "outputs": [],
   "source": [
    "if read_and_write_xyz:\n",
    "    df['mol'] = df['canon_smiles'].apply(lambda x: Chem.MolFromSmiles(x))"
   ]
  },
  {
   "attachments": {},
   "cell_type": "markdown",
   "metadata": {},
   "source": [
    "### Investigate data and remove outliers"
   ]
  },
  {
   "cell_type": "code",
   "execution_count": 41,
   "metadata": {},
   "outputs": [
    {
     "data": {
      "text/html": [
       "<div>\n",
       "<style scoped>\n",
       "    .dataframe tbody tr th:only-of-type {\n",
       "        vertical-align: middle;\n",
       "    }\n",
       "\n",
       "    .dataframe tbody tr th {\n",
       "        vertical-align: top;\n",
       "    }\n",
       "\n",
       "    .dataframe thead th {\n",
       "        text-align: right;\n",
       "    }\n",
       "</style>\n",
       "<table border=\"1\" class=\"dataframe\">\n",
       "  <thead>\n",
       "    <tr style=\"text-align: right;\">\n",
       "      <th></th>\n",
       "      <th>A</th>\n",
       "      <th>B</th>\n",
       "      <th>C</th>\n",
       "      <th>mu</th>\n",
       "      <th>alfa</th>\n",
       "      <th>homo</th>\n",
       "      <th>lumo</th>\n",
       "      <th>gap</th>\n",
       "      <th>R²</th>\n",
       "      <th>zpve</th>\n",
       "      <th>U0</th>\n",
       "      <th>U</th>\n",
       "      <th>H</th>\n",
       "      <th>G</th>\n",
       "      <th>Cv</th>\n",
       "    </tr>\n",
       "  </thead>\n",
       "  <tbody>\n",
       "    <tr>\n",
       "      <th>count</th>\n",
       "      <td>133798.000000</td>\n",
       "      <td>133798.000000</td>\n",
       "      <td>133798.000000</td>\n",
       "      <td>133798.000000</td>\n",
       "      <td>133798.000000</td>\n",
       "      <td>133798.000000</td>\n",
       "      <td>133798.000000</td>\n",
       "      <td>133798.000000</td>\n",
       "      <td>133798.000000</td>\n",
       "      <td>133798.000000</td>\n",
       "      <td>133798.000000</td>\n",
       "      <td>133798.000000</td>\n",
       "      <td>133798.000000</td>\n",
       "      <td>133798.000000</td>\n",
       "      <td>133798.000000</td>\n",
       "    </tr>\n",
       "    <tr>\n",
       "      <th>mean</th>\n",
       "      <td>9.817750</td>\n",
       "      <td>1.406112</td>\n",
       "      <td>1.124983</td>\n",
       "      <td>2.706031</td>\n",
       "      <td>75.192818</td>\n",
       "      <td>-0.239977</td>\n",
       "      <td>0.011164</td>\n",
       "      <td>0.251141</td>\n",
       "      <td>1189.569580</td>\n",
       "      <td>0.148550</td>\n",
       "      <td>-411.537872</td>\n",
       "      <td>-411.529480</td>\n",
       "      <td>-411.528473</td>\n",
       "      <td>-411.571289</td>\n",
       "      <td>31.603432</td>\n",
       "    </tr>\n",
       "    <tr>\n",
       "      <th>std</th>\n",
       "      <td>1810.053833</td>\n",
       "      <td>1.584265</td>\n",
       "      <td>1.095953</td>\n",
       "      <td>1.530345</td>\n",
       "      <td>8.187229</td>\n",
       "      <td>0.022133</td>\n",
       "      <td>0.046923</td>\n",
       "      <td>0.047507</td>\n",
       "      <td>279.796112</td>\n",
       "      <td>0.033264</td>\n",
       "      <td>40.056843</td>\n",
       "      <td>40.056622</td>\n",
       "      <td>40.056622</td>\n",
       "      <td>40.057354</td>\n",
       "      <td>4.061662</td>\n",
       "    </tr>\n",
       "    <tr>\n",
       "      <th>min</th>\n",
       "      <td>0.000000</td>\n",
       "      <td>0.337120</td>\n",
       "      <td>0.331180</td>\n",
       "      <td>0.000000</td>\n",
       "      <td>6.310000</td>\n",
       "      <td>-0.428600</td>\n",
       "      <td>-0.175000</td>\n",
       "      <td>0.024600</td>\n",
       "      <td>19.000200</td>\n",
       "      <td>0.015951</td>\n",
       "      <td>-714.568054</td>\n",
       "      <td>-714.560181</td>\n",
       "      <td>-714.559204</td>\n",
       "      <td>-714.602112</td>\n",
       "      <td>6.002000</td>\n",
       "    </tr>\n",
       "    <tr>\n",
       "      <th>25%</th>\n",
       "      <td>2.554310</td>\n",
       "      <td>1.091790</td>\n",
       "      <td>0.910563</td>\n",
       "      <td>1.588800</td>\n",
       "      <td>70.379997</td>\n",
       "      <td>-0.252500</td>\n",
       "      <td>-0.023800</td>\n",
       "      <td>0.216300</td>\n",
       "      <td>1018.340546</td>\n",
       "      <td>0.125308</td>\n",
       "      <td>-437.913811</td>\n",
       "      <td>-437.905693</td>\n",
       "      <td>-437.904755</td>\n",
       "      <td>-437.947525</td>\n",
       "      <td>28.945000</td>\n",
       "    </tr>\n",
       "    <tr>\n",
       "      <th>50%</th>\n",
       "      <td>3.089935</td>\n",
       "      <td>1.370030</td>\n",
       "      <td>1.078720</td>\n",
       "      <td>2.500050</td>\n",
       "      <td>75.500000</td>\n",
       "      <td>-0.241000</td>\n",
       "      <td>0.012000</td>\n",
       "      <td>0.249500</td>\n",
       "      <td>1147.573181</td>\n",
       "      <td>0.148341</td>\n",
       "      <td>-417.864075</td>\n",
       "      <td>-417.856445</td>\n",
       "      <td>-417.855499</td>\n",
       "      <td>-417.895630</td>\n",
       "      <td>31.556999</td>\n",
       "    </tr>\n",
       "    <tr>\n",
       "      <th>75%</th>\n",
       "      <td>3.834450</td>\n",
       "      <td>1.653957</td>\n",
       "      <td>1.279640</td>\n",
       "      <td>3.635900</td>\n",
       "      <td>80.519997</td>\n",
       "      <td>-0.228700</td>\n",
       "      <td>0.049200</td>\n",
       "      <td>0.288200</td>\n",
       "      <td>1308.888245</td>\n",
       "      <td>0.171158</td>\n",
       "      <td>-387.049057</td>\n",
       "      <td>-387.039703</td>\n",
       "      <td>-387.038757</td>\n",
       "      <td>-387.083221</td>\n",
       "      <td>34.278000</td>\n",
       "    </tr>\n",
       "    <tr>\n",
       "      <th>max</th>\n",
       "      <td>619867.687500</td>\n",
       "      <td>437.903870</td>\n",
       "      <td>282.945465</td>\n",
       "      <td>29.556400</td>\n",
       "      <td>196.619995</td>\n",
       "      <td>-0.101700</td>\n",
       "      <td>0.193500</td>\n",
       "      <td>0.622100</td>\n",
       "      <td>3374.753174</td>\n",
       "      <td>0.273944</td>\n",
       "      <td>-40.478931</td>\n",
       "      <td>-40.476063</td>\n",
       "      <td>-40.475117</td>\n",
       "      <td>-40.498596</td>\n",
       "      <td>46.969002</td>\n",
       "    </tr>\n",
       "  </tbody>\n",
       "</table>\n",
       "</div>"
      ],
      "text/plain": [
       "                   A              B              C             mu  \\\n",
       "count  133798.000000  133798.000000  133798.000000  133798.000000   \n",
       "mean        9.817750       1.406112       1.124983       2.706031   \n",
       "std      1810.053833       1.584265       1.095953       1.530345   \n",
       "min         0.000000       0.337120       0.331180       0.000000   \n",
       "25%         2.554310       1.091790       0.910563       1.588800   \n",
       "50%         3.089935       1.370030       1.078720       2.500050   \n",
       "75%         3.834450       1.653957       1.279640       3.635900   \n",
       "max    619867.687500     437.903870     282.945465      29.556400   \n",
       "\n",
       "                alfa           homo           lumo            gap  \\\n",
       "count  133798.000000  133798.000000  133798.000000  133798.000000   \n",
       "mean       75.192818      -0.239977       0.011164       0.251141   \n",
       "std         8.187229       0.022133       0.046923       0.047507   \n",
       "min         6.310000      -0.428600      -0.175000       0.024600   \n",
       "25%        70.379997      -0.252500      -0.023800       0.216300   \n",
       "50%        75.500000      -0.241000       0.012000       0.249500   \n",
       "75%        80.519997      -0.228700       0.049200       0.288200   \n",
       "max       196.619995      -0.101700       0.193500       0.622100   \n",
       "\n",
       "                  R²           zpve             U0              U  \\\n",
       "count  133798.000000  133798.000000  133798.000000  133798.000000   \n",
       "mean     1189.569580       0.148550    -411.537872    -411.529480   \n",
       "std       279.796112       0.033264      40.056843      40.056622   \n",
       "min        19.000200       0.015951    -714.568054    -714.560181   \n",
       "25%      1018.340546       0.125308    -437.913811    -437.905693   \n",
       "50%      1147.573181       0.148341    -417.864075    -417.856445   \n",
       "75%      1308.888245       0.171158    -387.049057    -387.039703   \n",
       "max      3374.753174       0.273944     -40.478931     -40.476063   \n",
       "\n",
       "                   H              G             Cv  \n",
       "count  133798.000000  133798.000000  133798.000000  \n",
       "mean     -411.528473    -411.571289      31.603432  \n",
       "std        40.056622      40.057354       4.061662  \n",
       "min      -714.559204    -714.602112       6.002000  \n",
       "25%      -437.904755    -437.947525      28.945000  \n",
       "50%      -417.855499    -417.895630      31.556999  \n",
       "75%      -387.038757    -387.083221      34.278000  \n",
       "max       -40.475117     -40.498596      46.969002  "
      ]
     },
     "execution_count": 41,
     "metadata": {},
     "output_type": "execute_result"
    }
   ],
   "source": [
    "df = pd.read_csv('../data/smiles_and_targets_raw.csv') if not read_and_write_xyz else df\n",
    "df[properties_names].describe() # A has very high std, need to investigate further"
   ]
  },
  {
   "cell_type": "code",
   "execution_count": 34,
   "metadata": {},
   "outputs": [
    {
     "name": "stderr",
     "output_type": "stream",
     "text": [
      "C:\\Users\\Jesper\\AppData\\Local\\Temp\\ipykernel_14456\\2225897551.py:6: UserWarning: To output multiple subplots, the figure containing the passed axes is being cleared.\n",
      "  hist = targets.hist(bins=25, ax=ax)\n",
      "C:\\Users\\Jesper\\AppData\\Local\\Temp\\ipykernel_14456\\2225897551.py:8: UserWarning: Matplotlib is currently using module://matplotlib_inline.backend_inline, which is a non-GUI backend, so cannot show the figure.\n",
      "  ax.show()\n"
     ]
    },
    {
     "data": {
      "image/png": "[encoded data removed]",
      "text/plain": [
       "<Figure size 1500x1500 with 16 Axes>"
      ]
     },
     "metadata": {},
     "output_type": "display_data"
    }
   ],
   "source": [
    "if read_and_write_xyz:\n",
    "    targets = df[properties_names]\n",
    "    \n",
    "    # plot histograms of values in each column\n",
    "    ax = plt.figure(figsize=(15, 15))\n",
    "    hist = targets.hist(bins=25, ax=ax)\n",
    "    ax.savefig('targets_before_scaling.png', dpi=300, bbox_inches='tight')\n",
    "    ax.show()"
   ]
  },
  {
   "cell_type": "code",
   "execution_count": 42,
   "metadata": {},
   "outputs": [
    {
     "name": "stdout",
     "output_type": "stream",
     "text": [
      "Outliers in A: 654\n",
      "Outliers in B: 85\n",
      "Outliers in C: 41\n",
      "Outliers in mu: 281\n",
      "Total unique outliers: 978\n",
      "Number of samples in final dataset: 132820\n",
      "\n",
      "Saved to smiles_and_targets.csv\n"
     ]
    }
   ],
   "source": [
    "if read_and_write_xyz:\n",
    "    # write the raw data to csv\n",
    "    df.to_csv('../data/smiles_and_targets_raw.csv', index=False)\n",
    "    df_scaled = df.copy()\n",
    "    \n",
    "    # drop outliers\n",
    "    large_indices_A = df_scaled[df_scaled['A'] > 10].index\n",
    "    print(\"Outliers in A:\", len(large_indices_A))\n",
    "    large_indices_B = df_scaled[df_scaled['B'] > 5].index\n",
    "    print(\"Outliers in B:\", len(large_indices_B))\n",
    "    large_indices_C = df_scaled[df_scaled['C'] > 5].index\n",
    "    print(\"Outliers in C:\", len(large_indices_C))\n",
    "    large_indices_mu = df_scaled[df_scaled['mu'] > 10].index\n",
    "    print(\"Outliers in mu:\", len(large_indices_mu))\n",
    "    large_indices_temp1 = np.union1d(large_indices_A, large_indices_B)\n",
    "    large_indices_temp2 = np.union1d(large_indices_C, large_indices_mu)\n",
    "    large_indices = np.union1d(large_indices_temp1, large_indices_temp2)\n",
    "    print(\"Total unique outliers:\", len(large_indices))\n",
    "\n",
    "    df_scaled = df_scaled.drop(large_indices)\n",
    "    print(\"Number of samples in final dataset:\", len(df_scaled))\n",
    "    \n",
    "    df_scaled.to_csv(\"../data/smiles_and_targets.csv\")\n",
    "    print(\"\\nSaved to smiles_and_targets.csv\")\n",
    "else:\n",
    "    df_scaled = pd.read_csv('../data/smiles_and_targets.csv')"
   ]
  },
  {
   "cell_type": "code",
   "execution_count": 43,
   "metadata": {},
   "outputs": [
    {
     "data": {
      "text/html": [
       "<div>\n",
       "<style scoped>\n",
       "    .dataframe tbody tr th:only-of-type {\n",
       "        vertical-align: middle;\n",
       "    }\n",
       "\n",
       "    .dataframe tbody tr th {\n",
       "        vertical-align: top;\n",
       "    }\n",
       "\n",
       "    .dataframe thead th {\n",
       "        text-align: right;\n",
       "    }\n",
       "</style>\n",
       "<table border=\"1\" class=\"dataframe\">\n",
       "  <thead>\n",
       "    <tr style=\"text-align: right;\">\n",
       "      <th></th>\n",
       "      <th>A</th>\n",
       "      <th>B</th>\n",
       "      <th>C</th>\n",
       "      <th>mu</th>\n",
       "      <th>alfa</th>\n",
       "      <th>homo</th>\n",
       "      <th>lumo</th>\n",
       "      <th>gap</th>\n",
       "      <th>R²</th>\n",
       "      <th>zpve</th>\n",
       "      <th>U0</th>\n",
       "      <th>U</th>\n",
       "      <th>H</th>\n",
       "      <th>G</th>\n",
       "      <th>Cv</th>\n",
       "      <th>num_of_atoms</th>\n",
       "      <th>num_of_heavy_atoms</th>\n",
       "    </tr>\n",
       "  </thead>\n",
       "  <tbody>\n",
       "    <tr>\n",
       "      <th>count</th>\n",
       "      <td>132820.000000</td>\n",
       "      <td>132820.000000</td>\n",
       "      <td>132820.000000</td>\n",
       "      <td>132820.000000</td>\n",
       "      <td>132820.000000</td>\n",
       "      <td>132820.000000</td>\n",
       "      <td>132820.000000</td>\n",
       "      <td>132820.000000</td>\n",
       "      <td>132820.000000</td>\n",
       "      <td>132820.000000</td>\n",
       "      <td>132820.000000</td>\n",
       "      <td>132820.000000</td>\n",
       "      <td>132820.000000</td>\n",
       "      <td>132820.000000</td>\n",
       "      <td>132820.000000</td>\n",
       "      <td>132820.000000</td>\n",
       "      <td>132820.000000</td>\n",
       "    </tr>\n",
       "    <tr>\n",
       "      <th>mean</th>\n",
       "      <td>3.365779</td>\n",
       "      <td>1.395758</td>\n",
       "      <td>1.117132</td>\n",
       "      <td>2.683599</td>\n",
       "      <td>75.240860</td>\n",
       "      <td>-0.240008</td>\n",
       "      <td>0.011289</td>\n",
       "      <td>0.251298</td>\n",
       "      <td>1188.422852</td>\n",
       "      <td>0.148748</td>\n",
       "      <td>-411.946533</td>\n",
       "      <td>-411.938141</td>\n",
       "      <td>-411.937134</td>\n",
       "      <td>-411.980011</td>\n",
       "      <td>31.631031</td>\n",
       "      <td>18.007627</td>\n",
       "      <td>8.805511</td>\n",
       "    </tr>\n",
       "    <tr>\n",
       "      <th>std</th>\n",
       "      <td>1.182539</td>\n",
       "      <td>0.437445</td>\n",
       "      <td>0.317488</td>\n",
       "      <td>1.438735</td>\n",
       "      <td>8.014609</td>\n",
       "      <td>0.021858</td>\n",
       "      <td>0.046864</td>\n",
       "      <td>0.047207</td>\n",
       "      <td>273.383331</td>\n",
       "      <td>0.033118</td>\n",
       "      <td>39.214153</td>\n",
       "      <td>39.213955</td>\n",
       "      <td>39.213955</td>\n",
       "      <td>39.214634</td>\n",
       "      <td>4.016353</td>\n",
       "      <td>2.931949</td>\n",
       "      <td>0.477235</td>\n",
       "    </tr>\n",
       "    <tr>\n",
       "      <th>min</th>\n",
       "      <td>0.000000</td>\n",
       "      <td>0.340580</td>\n",
       "      <td>0.334610</td>\n",
       "      <td>0.000000</td>\n",
       "      <td>26.440001</td>\n",
       "      <td>-0.396300</td>\n",
       "      <td>-0.175000</td>\n",
       "      <td>0.037600</td>\n",
       "      <td>242.930801</td>\n",
       "      <td>0.015951</td>\n",
       "      <td>-714.568054</td>\n",
       "      <td>-714.560181</td>\n",
       "      <td>-714.559204</td>\n",
       "      <td>-714.602112</td>\n",
       "      <td>10.398000</td>\n",
       "      <td>4.000000</td>\n",
       "      <td>4.000000</td>\n",
       "    </tr>\n",
       "    <tr>\n",
       "      <th>25%</th>\n",
       "      <td>2.551298</td>\n",
       "      <td>1.094427</td>\n",
       "      <td>0.911947</td>\n",
       "      <td>1.588400</td>\n",
       "      <td>70.427500</td>\n",
       "      <td>-0.252500</td>\n",
       "      <td>-0.023600</td>\n",
       "      <td>0.216500</td>\n",
       "      <td>1018.592453</td>\n",
       "      <td>0.125422</td>\n",
       "      <td>-437.914589</td>\n",
       "      <td>-437.906357</td>\n",
       "      <td>-437.905411</td>\n",
       "      <td>-437.948212</td>\n",
       "      <td>28.962000</td>\n",
       "      <td>16.000000</td>\n",
       "      <td>9.000000</td>\n",
       "    </tr>\n",
       "    <tr>\n",
       "      <th>50%</th>\n",
       "      <td>3.083955</td>\n",
       "      <td>1.371380</td>\n",
       "      <td>1.079445</td>\n",
       "      <td>2.495500</td>\n",
       "      <td>75.519997</td>\n",
       "      <td>-0.241000</td>\n",
       "      <td>0.012200</td>\n",
       "      <td>0.249600</td>\n",
       "      <td>1147.332886</td>\n",
       "      <td>0.148420</td>\n",
       "      <td>-417.922684</td>\n",
       "      <td>-417.915756</td>\n",
       "      <td>-417.914810</td>\n",
       "      <td>-417.954559</td>\n",
       "      <td>31.569000</td>\n",
       "      <td>18.000000</td>\n",
       "      <td>9.000000</td>\n",
       "    </tr>\n",
       "    <tr>\n",
       "      <th>75%</th>\n",
       "      <td>3.815260</td>\n",
       "      <td>1.654020</td>\n",
       "      <td>1.279423</td>\n",
       "      <td>3.626825</td>\n",
       "      <td>80.519997</td>\n",
       "      <td>-0.228700</td>\n",
       "      <td>0.049400</td>\n",
       "      <td>0.288300</td>\n",
       "      <td>1307.602325</td>\n",
       "      <td>0.171211</td>\n",
       "      <td>-387.055267</td>\n",
       "      <td>-387.046196</td>\n",
       "      <td>-387.045250</td>\n",
       "      <td>-387.089294</td>\n",
       "      <td>34.285000</td>\n",
       "      <td>20.000000</td>\n",
       "      <td>9.000000</td>\n",
       "    </tr>\n",
       "    <tr>\n",
       "      <th>max</th>\n",
       "      <td>9.992530</td>\n",
       "      <td>4.850850</td>\n",
       "      <td>4.732690</td>\n",
       "      <td>9.971700</td>\n",
       "      <td>119.230003</td>\n",
       "      <td>-0.125300</td>\n",
       "      <td>0.108200</td>\n",
       "      <td>0.480200</td>\n",
       "      <td>3374.753174</td>\n",
       "      <td>0.273944</td>\n",
       "      <td>-153.459839</td>\n",
       "      <td>-153.455444</td>\n",
       "      <td>-153.454498</td>\n",
       "      <td>-153.482620</td>\n",
       "      <td>46.969002</td>\n",
       "      <td>29.000000</td>\n",
       "      <td>9.000000</td>\n",
       "    </tr>\n",
       "  </tbody>\n",
       "</table>\n",
       "</div>"
      ],
      "text/plain": [
       "                   A              B              C             mu  \\\n",
       "count  132820.000000  132820.000000  132820.000000  132820.000000   \n",
       "mean        3.365779       1.395758       1.117132       2.683599   \n",
       "std         1.182539       0.437445       0.317488       1.438735   \n",
       "min         0.000000       0.340580       0.334610       0.000000   \n",
       "25%         2.551298       1.094427       0.911947       1.588400   \n",
       "50%         3.083955       1.371380       1.079445       2.495500   \n",
       "75%         3.815260       1.654020       1.279423       3.626825   \n",
       "max         9.992530       4.850850       4.732690       9.971700   \n",
       "\n",
       "                alfa           homo           lumo            gap  \\\n",
       "count  132820.000000  132820.000000  132820.000000  132820.000000   \n",
       "mean       75.240860      -0.240008       0.011289       0.251298   \n",
       "std         8.014609       0.021858       0.046864       0.047207   \n",
       "min        26.440001      -0.396300      -0.175000       0.037600   \n",
       "25%        70.427500      -0.252500      -0.023600       0.216500   \n",
       "50%        75.519997      -0.241000       0.012200       0.249600   \n",
       "75%        80.519997      -0.228700       0.049400       0.288300   \n",
       "max       119.230003      -0.125300       0.108200       0.480200   \n",
       "\n",
       "                  R²           zpve             U0              U  \\\n",
       "count  132820.000000  132820.000000  132820.000000  132820.000000   \n",
       "mean     1188.422852       0.148748    -411.946533    -411.938141   \n",
       "std       273.383331       0.033118      39.214153      39.213955   \n",
       "min       242.930801       0.015951    -714.568054    -714.560181   \n",
       "25%      1018.592453       0.125422    -437.914589    -437.906357   \n",
       "50%      1147.332886       0.148420    -417.922684    -417.915756   \n",
       "75%      1307.602325       0.171211    -387.055267    -387.046196   \n",
       "max      3374.753174       0.273944    -153.459839    -153.455444   \n",
       "\n",
       "                   H              G             Cv   num_of_atoms  \\\n",
       "count  132820.000000  132820.000000  132820.000000  132820.000000   \n",
       "mean     -411.937134    -411.980011      31.631031      18.007627   \n",
       "std        39.213955      39.214634       4.016353       2.931949   \n",
       "min      -714.559204    -714.602112      10.398000       4.000000   \n",
       "25%      -437.905411    -437.948212      28.962000      16.000000   \n",
       "50%      -417.914810    -417.954559      31.569000      18.000000   \n",
       "75%      -387.045250    -387.089294      34.285000      20.000000   \n",
       "max      -153.454498    -153.482620      46.969002      29.000000   \n",
       "\n",
       "       num_of_heavy_atoms  \n",
       "count       132820.000000  \n",
       "mean             8.805511  \n",
       "std              0.477235  \n",
       "min              4.000000  \n",
       "25%              9.000000  \n",
       "50%              9.000000  \n",
       "75%              9.000000  \n",
       "max              9.000000  "
      ]
     },
     "execution_count": 43,
     "metadata": {},
     "output_type": "execute_result"
    }
   ],
   "source": [
    "df_scaled.describe()"
   ]
  },
  {
   "cell_type": "code",
   "execution_count": 44,
   "metadata": {},
   "outputs": [
    {
     "name": "stderr",
     "output_type": "stream",
     "text": [
      "C:\\Users\\Jesper\\AppData\\Local\\Temp\\ipykernel_14456\\2017336719.py:6: UserWarning: To output multiple subplots, the figure containing the passed axes is being cleared.\n",
      "  hist = targets_scaled.hist(bins=25, ax=ax)\n",
      "C:\\Users\\Jesper\\AppData\\Local\\Temp\\ipykernel_14456\\2017336719.py:8: UserWarning: Matplotlib is currently using module://matplotlib_inline.backend_inline, which is a non-GUI backend, so cannot show the figure.\n",
      "  ax.show()\n"
     ]
    },
    {
     "data": {
      "image/png": "[encoded data removed]",
      "text/plain": [
       "<Figure size 1500x1500 with 16 Axes>"
      ]
     },
     "metadata": {},
     "output_type": "display_data"
    }
   ],
   "source": [
    "if read_and_write_xyz:\n",
    "    targets_scaled = df_scaled[properties_names]\n",
    "    \n",
    "    # plot histograms of values in each column\n",
    "    ax = plt.figure(figsize=(15, 15))\n",
    "    hist = targets_scaled.hist(bins=25, ax=ax)\n",
    "    ax.savefig('targets_after_scaling.png', dpi=300, bbox_inches='tight')\n",
    "    ax.show()"
   ]
  },
  {
   "attachments": {},
   "cell_type": "markdown",
   "metadata": {},
   "source": [
    "### Molecular descriptors"
   ]
  },
  {
   "cell_type": "code",
   "execution_count": null,
   "metadata": {},
   "outputs": [],
   "source": [
    "from rdkit.Chem import Descriptors\n",
    "from rdkit.ML.Descriptors import MoleculeDescriptors\n",
    "\n",
    "if read_and_write_rdkit_descriptors:\n",
    "    calc = MoleculeDescriptors.MolecularDescriptorCalculator([x[0] for x in Descriptors._descList])\n",
    "\n",
    "    mol_descriptors = np.zeros(shape=(len(df_scaled), len([x[0] for x in Descriptors._descList])))\n",
    "\n",
    "    counter = -1\n",
    "    for molecule in df_scaled.smiles.values:\n",
    "        counter += 1\n",
    "        if counter % 1000 == 0:\n",
    "            print(\"Iteration: \", counter)\n",
    "        mol_descriptors[counter,:] = calc.CalcDescriptors(Chem.MolFromSmiles(molecule))\n",
    "\n",
    "    print(df_scaled.smiles.values[1000])\n",
    "    print(mol_descriptors[1000,:])\n",
    "    descriptors_list = [x[0] for x in Descriptors._descList]\n",
    "    print(descriptors_list)"
   ]
  },
  {
   "attachments": {},
   "cell_type": "markdown",
   "metadata": {},
   "source": [
    "Investigate descriptors"
   ]
  },
  {
   "cell_type": "code",
   "execution_count": null,
   "metadata": {},
   "outputs": [],
   "source": [
    "if read_and_write_rdkit_descriptors:\n",
    "    df_mol_descriptors = pd.DataFrame(mol_descriptors)\n",
    "    print(\"Shape of mol_descriptors:\", np.shape(df_mol_descriptors))\n",
    "    df_mol_descriptors.describe()"
   ]
  },
  {
   "cell_type": "code",
   "execution_count": null,
   "metadata": {},
   "outputs": [],
   "source": [
    "if read_and_write_rdkit_descriptors:\n",
    "    df_mol_descriptors.describe().loc['std'].sort_values(ascending=False)"
   ]
  },
  {
   "attachments": {},
   "cell_type": "markdown",
   "metadata": {},
   "source": [
    "Remove descriptors where std. dev is zero"
   ]
  },
  {
   "cell_type": "code",
   "execution_count": null,
   "metadata": {},
   "outputs": [],
   "source": [
    "if read_and_write_rdkit_descriptors:\n",
    "    col_info = df_mol_descriptors.describe().loc['std']\n",
    "    zero_std_cols = col_info[col_info == 0].index\n",
    "\n",
    "    df_mol_descriptors = df_mol_descriptors.drop(zero_std_cols, axis=1)\n",
    "\n",
    "    mol_descriptors = df_mol_descriptors.to_numpy()\n",
    "    print(\"Shape of mol_descriptors after dropping columns with zero std.dev:\", np.shape(mol_descriptors))"
   ]
  },
  {
   "attachments": {},
   "cell_type": "markdown",
   "metadata": {},
   "source": [
    "Save descriptors to file"
   ]
  },
  {
   "cell_type": "code",
   "execution_count": null,
   "metadata": {},
   "outputs": [],
   "source": [
    "if read_and_write_rdkit_descriptors:\n",
    "    np.save(\"../data/mol_descriptors.npy\", mol_descriptors)\n",
    "else:\n",
    "    mol_rdkit_descriptors = np.load(\"../data/mol_descriptors.npy\")"
   ]
  },
  {
   "attachments": {},
   "cell_type": "markdown",
   "metadata": {},
   "source": [
    "### Mordred descriptors"
   ]
  },
  {
   "cell_type": "code",
   "execution_count": null,
   "metadata": {},
   "outputs": [
    {
     "name": "stdout",
     "output_type": "stream",
     "text": [
      "Iteration:  0\n",
      "Iteration:  1000\n",
      "Iteration:  2000\n",
      "Iteration:  3000\n",
      "Iteration:  4000\n",
      "Iteration:  5000\n",
      "Iteration:  6000\n"
     ]
    }
   ],
   "source": [
    "from mordred import Calculator, descriptors\n",
    "\n",
    "if read_and_write_mordred_descriptors:\n",
    "    calc = Calculator(descriptors, ignore_3D=True)\n",
    "\n",
    "    mol_descriptors = np.zeros(shape=(len(df_scaled), len(calc.descriptors)))\n",
    "\n",
    "    counter = -1\n",
    "    for molecule in df_scaled.smiles.values:\n",
    "        counter += 1\n",
    "        if counter % 1000 == 0:\n",
    "            print(\"Iteration: \", counter)\n",
    "        mol_descriptors[counter,:] = calc(Chem.MolFromSmiles(molecule))\n",
    "\n",
    "    print(df_scaled.smiles.values[1000])\n",
    "    print(mol_descriptors[1000,:])\n",
    "    descriptors_list = [x[0] for x in Descriptors._descList]\n",
    "    print(descriptors_list)"
   ]
  },
  {
   "attachments": {},
   "cell_type": "markdown",
   "metadata": {},
   "source": [
    "Investigate descriptors"
   ]
  },
  {
   "cell_type": "code",
   "execution_count": null,
   "metadata": {},
   "outputs": [
    {
     "name": "stdout",
     "output_type": "stream",
     "text": [
      "Shape of mol_descriptors: (132820, 1613)\n"
     ]
    },
    {
     "data": {
      "text/html": [
       "<div>\n",
       "<style scoped>\n",
       "    .dataframe tbody tr th:only-of-type {\n",
       "        vertical-align: middle;\n",
       "    }\n",
       "\n",
       "    .dataframe tbody tr th {\n",
       "        vertical-align: top;\n",
       "    }\n",
       "\n",
       "    .dataframe thead th {\n",
       "        text-align: right;\n",
       "    }\n",
       "</style>\n",
       "<table border=\"1\" class=\"dataframe\">\n",
       "  <thead>\n",
       "    <tr style=\"text-align: right;\">\n",
       "      <th></th>\n",
       "      <th>0</th>\n",
       "      <th>1</th>\n",
       "      <th>2</th>\n",
       "      <th>3</th>\n",
       "      <th>4</th>\n",
       "      <th>5</th>\n",
       "      <th>6</th>\n",
       "      <th>7</th>\n",
       "      <th>8</th>\n",
       "      <th>9</th>\n",
       "      <th>...</th>\n",
       "      <th>1603</th>\n",
       "      <th>1604</th>\n",
       "      <th>1605</th>\n",
       "      <th>1606</th>\n",
       "      <th>1607</th>\n",
       "      <th>1608</th>\n",
       "      <th>1609</th>\n",
       "      <th>1610</th>\n",
       "      <th>1611</th>\n",
       "      <th>1612</th>\n",
       "    </tr>\n",
       "  </thead>\n",
       "  <tbody>\n",
       "    <tr>\n",
       "      <th>count</th>\n",
       "      <td>132820.000000</td>\n",
       "      <td>132820.000000</td>\n",
       "      <td>132820.000000</td>\n",
       "      <td>132820.000000</td>\n",
       "      <td>132820.000000</td>\n",
       "      <td>132820.000000</td>\n",
       "      <td>132820.000000</td>\n",
       "      <td>132820.000000</td>\n",
       "      <td>132820.000000</td>\n",
       "      <td>132820.000000</td>\n",
       "      <td>...</td>\n",
       "      <td>132820.000000</td>\n",
       "      <td>132820.000000</td>\n",
       "      <td>132820.000000</td>\n",
       "      <td>132820.000000</td>\n",
       "      <td>132820.000000</td>\n",
       "      <td>132820.000000</td>\n",
       "      <td>132820.000000</td>\n",
       "      <td>132820.000000</td>\n",
       "      <td>132820.000000</td>\n",
       "      <td>132820.000000</td>\n",
       "    </tr>\n",
       "    <tr>\n",
       "      <th>mean</th>\n",
       "      <td>6.735972</td>\n",
       "      <td>6.847627</td>\n",
       "      <td>0.015721</td>\n",
       "      <td>0.326984</td>\n",
       "      <td>10.917307</td>\n",
       "      <td>2.436739</td>\n",
       "      <td>4.638144</td>\n",
       "      <td>10.917307</td>\n",
       "      <td>1.239390</td>\n",
       "      <td>3.168396</td>\n",
       "      <td>...</td>\n",
       "      <td>9.286528</td>\n",
       "      <td>51.493736</td>\n",
       "      <td>122.816519</td>\n",
       "      <td>6.989967</td>\n",
       "      <td>80.649556</td>\n",
       "      <td>8.266451</td>\n",
       "      <td>46.556738</td>\n",
       "      <td>56.353847</td>\n",
       "      <td>3.369080</td>\n",
       "      <td>1.982333</td>\n",
       "    </tr>\n",
       "    <tr>\n",
       "      <th>std</th>\n",
       "      <td>0.727112</td>\n",
       "      <td>0.717053</td>\n",
       "      <td>0.144445</td>\n",
       "      <td>0.607757</td>\n",
       "      <td>0.925713</td>\n",
       "      <td>0.235529</td>\n",
       "      <td>0.386182</td>\n",
       "      <td>0.925713</td>\n",
       "      <td>0.075483</td>\n",
       "      <td>0.132125</td>\n",
       "      <td>...</td>\n",
       "      <td>0.843958</td>\n",
       "      <td>10.298563</td>\n",
       "      <td>7.154271</td>\n",
       "      <td>1.148384</td>\n",
       "      <td>13.490274</td>\n",
       "      <td>1.676465</td>\n",
       "      <td>9.598229</td>\n",
       "      <td>17.181715</td>\n",
       "      <td>0.881233</td>\n",
       "      <td>0.210510</td>\n",
       "    </tr>\n",
       "    <tr>\n",
       "      <th>min</th>\n",
       "      <td>2.121320</td>\n",
       "      <td>2.340100</td>\n",
       "      <td>0.000000</td>\n",
       "      <td>0.000000</td>\n",
       "      <td>4.000000</td>\n",
       "      <td>1.618034</td>\n",
       "      <td>3.236068</td>\n",
       "      <td>4.000000</td>\n",
       "      <td>0.800000</td>\n",
       "      <td>2.155909</td>\n",
       "      <td>...</td>\n",
       "      <td>5.509388</td>\n",
       "      <td>22.328143</td>\n",
       "      <td>50.015650</td>\n",
       "      <td>4.240818</td>\n",
       "      <td>10.000000</td>\n",
       "      <td>0.000000</td>\n",
       "      <td>10.000000</td>\n",
       "      <td>8.000000</td>\n",
       "      <td>0.888889</td>\n",
       "      <td>1.000000</td>\n",
       "    </tr>\n",
       "    <tr>\n",
       "      <th>25%</th>\n",
       "      <td>6.363961</td>\n",
       "      <td>6.371088</td>\n",
       "      <td>0.000000</td>\n",
       "      <td>0.000000</td>\n",
       "      <td>10.472136</td>\n",
       "      <td>2.246980</td>\n",
       "      <td>4.354483</td>\n",
       "      <td>10.472136</td>\n",
       "      <td>1.192231</td>\n",
       "      <td>3.093038</td>\n",
       "      <td>...</td>\n",
       "      <td>8.635687</td>\n",
       "      <td>40.201478</td>\n",
       "      <td>122.022861</td>\n",
       "      <td>6.254203</td>\n",
       "      <td>75.000000</td>\n",
       "      <td>7.000000</td>\n",
       "      <td>40.000000</td>\n",
       "      <td>44.000000</td>\n",
       "      <td>2.673611</td>\n",
       "      <td>1.833333</td>\n",
       "    </tr>\n",
       "    <tr>\n",
       "      <th>50%</th>\n",
       "      <td>6.651690</td>\n",
       "      <td>6.817889</td>\n",
       "      <td>0.000000</td>\n",
       "      <td>0.000000</td>\n",
       "      <td>11.014901</td>\n",
       "      <td>2.414214</td>\n",
       "      <td>4.573236</td>\n",
       "      <td>11.014901</td>\n",
       "      <td>1.240597</td>\n",
       "      <td>3.165884</td>\n",
       "      <td>...</td>\n",
       "      <td>9.247347</td>\n",
       "      <td>53.765429</td>\n",
       "      <td>125.047678</td>\n",
       "      <td>6.837134</td>\n",
       "      <td>82.000000</td>\n",
       "      <td>8.000000</td>\n",
       "      <td>46.000000</td>\n",
       "      <td>53.000000</td>\n",
       "      <td>3.284722</td>\n",
       "      <td>2.000000</td>\n",
       "    </tr>\n",
       "    <tr>\n",
       "      <th>75%</th>\n",
       "      <td>7.168527</td>\n",
       "      <td>7.357998</td>\n",
       "      <td>0.000000</td>\n",
       "      <td>1.000000</td>\n",
       "      <td>11.481605</td>\n",
       "      <td>2.619137</td>\n",
       "      <td>4.913497</td>\n",
       "      <td>11.481605</td>\n",
       "      <td>1.288360</td>\n",
       "      <td>3.261450</td>\n",
       "      <td>...</td>\n",
       "      <td>9.936003</td>\n",
       "      <td>60.467132</td>\n",
       "      <td>127.063329</td>\n",
       "      <td>7.565798</td>\n",
       "      <td>88.000000</td>\n",
       "      <td>9.000000</td>\n",
       "      <td>52.000000</td>\n",
       "      <td>67.000000</td>\n",
       "      <td>4.083333</td>\n",
       "      <td>2.138889</td>\n",
       "    </tr>\n",
       "    <tr>\n",
       "      <th>max</th>\n",
       "      <td>8.802517</td>\n",
       "      <td>8.986688</td>\n",
       "      <td>3.000000</td>\n",
       "      <td>5.000000</td>\n",
       "      <td>13.875004</td>\n",
       "      <td>3.170086</td>\n",
       "      <td>6.090950</td>\n",
       "      <td>13.875004</td>\n",
       "      <td>1.541667</td>\n",
       "      <td>3.603798</td>\n",
       "      <td>...</td>\n",
       "      <td>11.829975</td>\n",
       "      <td>71.467221</td>\n",
       "      <td>152.006069</td>\n",
       "      <td>17.248802</td>\n",
       "      <td>120.000000</td>\n",
       "      <td>13.000000</td>\n",
       "      <td>80.000000</td>\n",
       "      <td>124.000000</td>\n",
       "      <td>6.375000</td>\n",
       "      <td>2.500000</td>\n",
       "    </tr>\n",
       "  </tbody>\n",
       "</table>\n",
       "<p>8 rows × 1613 columns</p>\n",
       "</div>"
      ],
      "text/plain": [
       "                0              1              2              3     \\\n",
       "count  132820.000000  132820.000000  132820.000000  132820.000000   \n",
       "mean        6.735972       6.847627       0.015721       0.326984   \n",
       "std         0.727112       0.717053       0.144445       0.607757   \n",
       "min         2.121320       2.340100       0.000000       0.000000   \n",
       "25%         6.363961       6.371088       0.000000       0.000000   \n",
       "50%         6.651690       6.817889       0.000000       0.000000   \n",
       "75%         7.168527       7.357998       0.000000       1.000000   \n",
       "max         8.802517       8.986688       3.000000       5.000000   \n",
       "\n",
       "                4              5              6              7     \\\n",
       "count  132820.000000  132820.000000  132820.000000  132820.000000   \n",
       "mean       10.917307       2.436739       4.638144      10.917307   \n",
       "std         0.925713       0.235529       0.386182       0.925713   \n",
       "min         4.000000       1.618034       3.236068       4.000000   \n",
       "25%        10.472136       2.246980       4.354483      10.472136   \n",
       "50%        11.014901       2.414214       4.573236      11.014901   \n",
       "75%        11.481605       2.619137       4.913497      11.481605   \n",
       "max        13.875004       3.170086       6.090950      13.875004   \n",
       "\n",
       "                8              9     ...           1603           1604  \\\n",
       "count  132820.000000  132820.000000  ...  132820.000000  132820.000000   \n",
       "mean        1.239390       3.168396  ...       9.286528      51.493736   \n",
       "std         0.075483       0.132125  ...       0.843958      10.298563   \n",
       "min         0.800000       2.155909  ...       5.509388      22.328143   \n",
       "25%         1.192231       3.093038  ...       8.635687      40.201478   \n",
       "50%         1.240597       3.165884  ...       9.247347      53.765429   \n",
       "75%         1.288360       3.261450  ...       9.936003      60.467132   \n",
       "max         1.541667       3.603798  ...      11.829975      71.467221   \n",
       "\n",
       "                1605           1606           1607           1608  \\\n",
       "count  132820.000000  132820.000000  132820.000000  132820.000000   \n",
       "mean      122.816519       6.989967      80.649556       8.266451   \n",
       "std         7.154271       1.148384      13.490274       1.676465   \n",
       "min        50.015650       4.240818      10.000000       0.000000   \n",
       "25%       122.022861       6.254203      75.000000       7.000000   \n",
       "50%       125.047678       6.837134      82.000000       8.000000   \n",
       "75%       127.063329       7.565798      88.000000       9.000000   \n",
       "max       152.006069      17.248802     120.000000      13.000000   \n",
       "\n",
       "                1609           1610           1611           1612  \n",
       "count  132820.000000  132820.000000  132820.000000  132820.000000  \n",
       "mean       46.556738      56.353847       3.369080       1.982333  \n",
       "std         9.598229      17.181715       0.881233       0.210510  \n",
       "min        10.000000       8.000000       0.888889       1.000000  \n",
       "25%        40.000000      44.000000       2.673611       1.833333  \n",
       "50%        46.000000      53.000000       3.284722       2.000000  \n",
       "75%        52.000000      67.000000       4.083333       2.138889  \n",
       "max        80.000000     124.000000       6.375000       2.500000  \n",
       "\n",
       "[8 rows x 1613 columns]"
      ]
     },
     "execution_count": 37,
     "metadata": {},
     "output_type": "execute_result"
    }
   ],
   "source": [
    "if read_and_write_mordred_descriptors:\n",
    "    df_mol_descriptors = pd.DataFrame(mol_descriptors)\n",
    "    print(\"Shape of mol_descriptors:\", np.shape(df_mol_descriptors))\n",
    "    df_mol_descriptors.describe()"
   ]
  },
  {
   "cell_type": "code",
   "execution_count": null,
   "metadata": {},
   "outputs": [
    {
     "data": {
      "text/plain": [
       "123     2326.593630\n",
       "124     2012.301079\n",
       "122     1836.680328\n",
       "125     1482.071068\n",
       "77      1393.626711\n",
       "           ...     \n",
       "339        0.006295\n",
       "338        0.006166\n",
       "1381       0.002381\n",
       "1388       0.001403\n",
       "1145       0.000054\n",
       "Name: std, Length: 1311, dtype: float64"
      ]
     },
     "execution_count": 71,
     "metadata": {},
     "output_type": "execute_result"
    }
   ],
   "source": [
    "if read_and_write_mordred_descriptors:\n",
    "    df_mol_descriptors.describe().loc['std'].sort_values(ascending=False)"
   ]
  },
  {
   "attachments": {},
   "cell_type": "markdown",
   "metadata": {},
   "source": [
    "Remove descriptors where std. dev is zero"
   ]
  },
  {
   "cell_type": "code",
   "execution_count": null,
   "metadata": {},
   "outputs": [
    {
     "name": "stdout",
     "output_type": "stream",
     "text": [
      "Shape of mol_descriptors after dropping columns with zero std.dev: (132820, 1425)\n"
     ]
    }
   ],
   "source": [
    "if read_and_write_mordred_descriptors:\n",
    "    col_info = df_mol_descriptors.describe().loc['std']\n",
    "    zero_std_cols = col_info[col_info == 0].index\n",
    "\n",
    "    df_mol_descriptors = df_mol_descriptors.drop(zero_std_cols, axis=1)\n",
    "\n",
    "    mol_descriptors = df_mol_descriptors.to_numpy()\n",
    "    print(\"Shape of mol_descriptors after dropping columns with zero std.dev:\", np.shape(mol_descriptors))"
   ]
  },
  {
   "attachments": {},
   "cell_type": "markdown",
   "metadata": {},
   "source": [
    "Remove where std.dev is NaN"
   ]
  },
  {
   "cell_type": "code",
   "execution_count": null,
   "metadata": {},
   "outputs": [
    {
     "name": "stdout",
     "output_type": "stream",
     "text": [
      "Shape of mol_descriptors after dropping columns with zero std.dev: (132820, 987)\n"
     ]
    }
   ],
   "source": [
    "if read_and_write_mordred_descriptors:\n",
    "    # Reset index\n",
    "    df_mol_descriptors.columns = range(0,len(df_mol_descriptors.columns))\n",
    "\n",
    "    col_info = df_mol_descriptors.describe().loc['std']\n",
    "    NaN_std_cols=np.argwhere(np.isnan(col_info.to_numpy()))\n",
    "    NaN_std_cols = [int(i) for i in NaN_std_cols]\n",
    "\n",
    "    df_mol_descriptors = df_mol_descriptors.drop(NaN_std_cols, axis=1)\n",
    "\n",
    "    # Remove any columns/features that have nan elements\n",
    "    df_mol_descriptors = df_mol_descriptors.dropna(axis=1)\n",
    "\n",
    "    mol_descriptors = df_mol_descriptors.to_numpy()\n",
    "    print(\"Shape of mol_descriptors after dropping columns with zero std.dev:\", np.shape(mol_descriptors))"
   ]
  },
  {
   "attachments": {},
   "cell_type": "markdown",
   "metadata": {},
   "source": [
    "Save descriptor"
   ]
  },
  {
   "cell_type": "code",
   "execution_count": null,
   "metadata": {},
   "outputs": [],
   "source": [
    "if read_and_write_mordred_descriptors:\n",
    "    np.save(\"../data/Mordred_mol_descriptors.npy\", mol_descriptors)\n",
    "else:\n",
    "    mol_mordred_descriptors = np.load(\"../data/Mordred_mol_descriptors.npy\")"
   ]
  },
  {
   "attachments": {},
   "cell_type": "markdown",
   "metadata": {},
   "source": [
    "### Morgan Fingerprints"
   ]
  },
  {
   "attachments": {},
   "cell_type": "markdown",
   "metadata": {},
   "source": [
    "Generate fingerprints"
   ]
  },
  {
   "cell_type": "code",
   "execution_count": null,
   "metadata": {},
   "outputs": [],
   "source": [
    "from rdkit.Chem import AllChem\n",
    "from rdkit.DataStructs import cDataStructs\n",
    "\n",
    "if read_and_write_morgan_fingerprints:\n",
    "    n_features = 1024*2 # Number of features\n",
    "    radius = 2 # How far from current atom one can go to define a feature\n",
    "\n",
    "    mol_fingerprint = np.zeros(shape=(len(df_scaled), n_features))\n",
    "\n",
    "    key_list = []\n",
    "\n",
    "    counter = -1\n",
    "    for smile in df.smiles:\n",
    "        counter += 1\n",
    "\n",
    "        mol = Chem.MolFromSmiles(smile) # Convert to molecule\n",
    "        fp = AllChem.GetHashedMorganFingerprint(mol, radius, nBits=n_features) # Calculate morgan fingerprint that includes counts\n",
    "        fp_dict = cDataStructs.UIntSparseIntVect.GetNonzeroElements(fp) # Get all non-zero elements to a dictionary\n",
    "        arr = np.zeros((n_features,)) # A vector that will be the morgan fingerprint\n",
    "        for key, val in fp_dict.items():\n",
    "            key_list.append(int(key))\n",
    "            arr[key] = val\n",
    "\n",
    "        mol_fingerprint[counter] = arr\n"
   ]
  },
  {
   "cell_type": "code",
   "execution_count": null,
   "metadata": {},
   "outputs": [
    {
     "name": "stdout",
     "output_type": "stream",
     "text": [
      "2048\n"
     ]
    }
   ],
   "source": [
    "if read_and_write_morgan_fingerprints:\n",
    "    print(len(np.unique(key_list))) # Check for redundance (So we don't have features that are never used)"
   ]
  },
  {
   "attachments": {},
   "cell_type": "markdown",
   "metadata": {},
   "source": [
    "Check min number of occurenses of any feature in fingerprint"
   ]
  },
  {
   "cell_type": "code",
   "execution_count": null,
   "metadata": {},
   "outputs": [
    {
     "name": "stdout",
     "output_type": "stream",
     "text": [
      "2048\n",
      "Min number of occurenses of any feature:  163.0\n",
      "Max number of occurenses of any feature:  87155.0\n"
     ]
    }
   ],
   "source": [
    "if read_and_write_morgan_fingerprints:\n",
    "    mol_fingerprint[mol_fingerprint!=0] = 1 # Convert non-zero elements into ones\n",
    "\n",
    "    mol_fingerprint_feature_occurence = np.sum(mol_fingerprint,axis=0)\n",
    "\n",
    "    print(len(mol_fingerprint_feature_occurence))\n",
    "    print(\"Min number of occurenses of any feature: \", np.min(mol_fingerprint_feature_occurence))\n",
    "    print(\"Max number of occurenses of any feature: \", np.max(mol_fingerprint_feature_occurence))"
   ]
  },
  {
   "attachments": {},
   "cell_type": "markdown",
   "metadata": {},
   "source": [
    "Save fingerprints"
   ]
  },
  {
   "cell_type": "code",
   "execution_count": null,
   "metadata": {},
   "outputs": [],
   "source": [
    "if read_and_write_morgan_fingerprints:\n",
    "    np.save(\"../data/mol_morgan_fingerprints.npy\", mol_fingerprint)\n",
    "else:\n",
    "    mol_morgan_fingerprints = np.load(\"../data/mol_morgan_fingerprints.npy\")"
   ]
  }
 ],
 "metadata": {
  "kernelspec": {
   "display_name": "Python 3",
   "language": "python",
   "name": "python3"
  },
  "language_info": {
   "codemirror_mode": {
    "name": "ipython",
    "version": 3
   },
   "file_extension": ".py",
   "mimetype": "text/x-python",
   "name": "python",
   "nbconvert_exporter": "python",
   "pygments_lexer": "ipython3",
   "version": "3.11.0"
  },
  "orig_nbformat": 4
 },
 "nbformat": 4,
 "nbformat_minor": 2
}
