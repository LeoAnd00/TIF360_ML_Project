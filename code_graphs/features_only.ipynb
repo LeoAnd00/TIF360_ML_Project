{
 "cells": [
  {
   "attachments": {},
   "cell_type": "markdown",
   "metadata": {},
   "source": [
    "# TIF360 Project"
   ]
  },
  {
   "attachments": {},
   "cell_type": "markdown",
   "metadata": {},
   "source": [
    "Main source: https://www.kaggle.com/code/rmonge/predicting-molecule-properties-based-on-its-smiles/notebook"
   ]
  },
  {
   "attachments": {},
   "cell_type": "markdown",
   "metadata": {},
   "source": [
    "### Import packages"
   ]
  },
  {
   "cell_type": "code",
   "execution_count": 1,
   "metadata": {},
   "outputs": [],
   "source": [
    "import numpy as np\n",
    "import pandas as pd\n",
    "import matplotlib.pyplot as plt\n",
    "import time as time\n",
    "\n",
    "import torch\n",
    "from torch.utils.data import TensorDataset, DataLoader, random_split\n",
    "from torch.nn import Linear, BatchNorm1d as BatchNorm\n",
    "import torch.nn.functional as F\n",
    "\n",
    "from sklearn.metrics import r2_score\n",
    "import utility_functions as uf"
   ]
  },
  {
   "cell_type": "code",
   "execution_count": 2,
   "metadata": {},
   "outputs": [
    {
     "name": "stdout",
     "output_type": "stream",
     "text": [
      "cuda available: True\n",
      "device: cuda\n",
      "NVIDIA GeForce RTX 3080\n"
     ]
    }
   ],
   "source": [
    "print(\"cuda available:\", torch.cuda.is_available())\n",
    "device = torch.device('cuda' if torch.cuda.is_available() else 'cpu')\n",
    "print(\"device:\", \"cuda\" if torch.cuda.is_available() else \"cpu\")\n",
    "if torch.cuda.is_available():\n",
    "    print(torch.cuda.get_device_name(0))"
   ]
  },
  {
   "attachments": {},
   "cell_type": "markdown",
   "metadata": {},
   "source": [
    "### Load data"
   ]
  },
  {
   "attachments": {},
   "cell_type": "markdown",
   "metadata": {},
   "source": [
    "Load smiles data and targets"
   ]
  },
  {
   "cell_type": "code",
   "execution_count": 3,
   "metadata": {},
   "outputs": [
    {
     "name": "stdout",
     "output_type": "stream",
     "text": [
      "(132820, 21)\n"
     ]
    }
   ],
   "source": [
    "df = pd.read_csv(\"../data/smiles_and_targets.csv\")\n",
    "print(np.shape(df))"
   ]
  },
  {
   "attachments": {},
   "cell_type": "markdown",
   "metadata": {},
   "source": [
    "Choose mode: Which features to include"
   ]
  },
  {
   "cell_type": "code",
   "execution_count": 4,
   "metadata": {},
   "outputs": [],
   "source": [
    "# singles\n",
    "# mode = \"rdkit_descriptors\"\n",
    "# mode = \"morgan_fingerprints\"\n",
    "# mode = \"mordred_descriptors\"\n",
    "\n",
    "# combinations\n",
    "# mode = \"rdkit+morgan\"\n",
    "mode = \"mordred+morgan\"\n",
    "\n",
    "# excessive\n",
    "# mode = \"rdkit+mordred\"\n",
    "# mode = \"rdkit+mordred+morgan\""
   ]
  },
  {
   "attachments": {},
   "cell_type": "markdown",
   "metadata": {},
   "source": [
    "Load the features"
   ]
  },
  {
   "cell_type": "code",
   "execution_count": 5,
   "metadata": {},
   "outputs": [
    {
     "name": "stdout",
     "output_type": "stream",
     "text": [
      "features: (132820, 3033)\n"
     ]
    }
   ],
   "source": [
    "features = uf.load_molecular_features(mode)\n",
    "print(\"features:\", np.shape(features))"
   ]
  },
  {
   "cell_type": "code",
   "execution_count": 6,
   "metadata": {},
   "outputs": [],
   "source": [
    "def create_scale_and_split_dataset(features:np.ndarray, targets:np.ndarray, val_share, test_share):\n",
    "    \n",
    "    num_samples = features.shape[0]\n",
    "    print(\"num_samples:\", num_samples)\n",
    "    train_indices, val_indices, test_indices = uf.get_data_split_indices(num_samples, val_share, test_share)\n",
    "    \n",
    "    X_train, y_train = features[train_indices], targets[train_indices]\n",
    "    X_val, y_val = features[val_indices], targets[val_indices]\n",
    "    X_test, y_test = features[test_indices], targets[test_indices]\n",
    "    \n",
    "    X_train, X_val, X_test, scaler_features = uf.scale_features(X_train, X_val, X_test)\n",
    "    y_train, y_val, y_test, scaler_targets = uf.scale_targets(y_train, y_val, y_test)\n",
    "    \n",
    "    scalers = {\"features\": scaler_features, \"targets\": scaler_targets}\n",
    "    \n",
    "    train_data = TensorDataset(torch.tensor(X_train, dtype=torch.float, device=device),\n",
    "                               torch.tensor(y_train, dtype=torch.float, device=device))\n",
    "    val_data = TensorDataset(torch.tensor(X_val, dtype=torch.float, device=device),   \n",
    "                             torch.tensor(y_val, dtype=torch.float, device=device))\n",
    "    test_data = TensorDataset(torch.tensor(X_test, dtype=torch.float, device=device),\n",
    "                              torch.tensor(y_test, dtype=torch.float, device=device))\n",
    "\n",
    "    return train_data, val_data, test_data, scalers\n",
    "\n",
    "def create_data_loaders(train_data, val_data, test_data, batch_size):\n",
    "    \n",
    "    train_loader = DataLoader(train_data, batch_size=batch_size, shuffle=True)\n",
    "    val_loader = DataLoader(val_data, batch_size=batch_size, shuffle=False)\n",
    "    test_loader = DataLoader(test_data, batch_size=batch_size, shuffle=False)\n",
    "    \n",
    "    return train_loader, val_loader, test_loader  "
   ]
  },
  {
   "attachments": {},
   "cell_type": "markdown",
   "metadata": {},
   "source": [
    "Load data"
   ]
  },
  {
   "cell_type": "code",
   "execution_count": 7,
   "metadata": {},
   "outputs": [
    {
     "name": "stdout",
     "output_type": "stream",
     "text": [
      "...Loading data...\n",
      "num_samples: 132820\n",
      "...Data loading done...\n"
     ]
    }
   ],
   "source": [
    "print(\"...Loading data...\")\n",
    "properties_names = ['A', 'B', 'C', 'mu', 'alfa', 'homo', 'lumo', 'gap', 'R²', 'zpve', 'U0', 'U', 'H', 'G', 'Cv']\n",
    "x_smiles = df.smiles.values\n",
    "targets = df.loc[:, properties_names].values\n",
    "\n",
    "train_data, val_data, test_data, scalers = create_scale_and_split_dataset(features, targets, 0.15, 0.2)\n",
    "train_loader, val_loader, test_loader = create_data_loaders(train_data, val_data, test_data, 64)\n",
    "print(\"...Data loading done...\")"
   ]
  },
  {
   "attachments": {},
   "cell_type": "markdown",
   "metadata": {},
   "source": [
    "### Dense network "
   ]
  },
  {
   "attachments": {},
   "cell_type": "markdown",
   "metadata": {},
   "source": [
    "#### Model for all targets at once"
   ]
  },
  {
   "attachments": {},
   "cell_type": "markdown",
   "metadata": {},
   "source": [
    "Define model"
   ]
  },
  {
   "cell_type": "code",
   "execution_count": 8,
   "metadata": {},
   "outputs": [],
   "source": [
    "class DNN(torch.nn.Module):\n",
    "    def __init__(self, hidden_channels, feature_dim, target_dim):\n",
    "        super().__init__()\n",
    "        torch.manual_seed(12345)\n",
    "        \n",
    "        self.input_norm = BatchNorm(feature_dim)\n",
    "        self.lin1 = Linear(feature_dim, hidden_channels)\n",
    "        self.lin2 = Linear(hidden_channels, 512)\n",
    "        self.lin3 = Linear(512, target_dim)\n",
    "\n",
    "    def forward(self, x): \n",
    "                \n",
    "        x = self.input_norm(x)\n",
    "        x = self.lin1(x)\n",
    "        x = F.leaky_relu(x)\n",
    "        x = F.dropout(x, p=0.2, training=self.training)\n",
    "        \n",
    "        x = self.lin2(x)\n",
    "        x = F.leaky_relu(x)\n",
    "\n",
    "        x = self.lin3(x)\n",
    " \n",
    "        return x"
   ]
  },
  {
   "attachments": {},
   "cell_type": "markdown",
   "metadata": {},
   "source": [
    "Train DNN"
   ]
  },
  {
   "cell_type": "code",
   "execution_count": 12,
   "metadata": {},
   "outputs": [
    {
     "name": "stdout",
     "output_type": "stream",
     "text": [
      "Trainable parameters: 3,645,377\n",
      "\n",
      "...Starting training...\n",
      "Device used: cuda\n",
      "Epoch: 01 | Train Loss: 0.12394 | Validation Loss: 0.08419\n",
      "Epoch: 02 | Train Loss: 0.10395 | Validation Loss: 0.07989\n",
      "Epoch: 03 | Train Loss: 0.09852 | Validation Loss: 0.07871\n",
      "Epoch: 04 | Train Loss: 0.09432 | Validation Loss: 0.07257\n",
      "Epoch: 05 | Train Loss: 0.09179 | Validation Loss: 0.07492\n",
      "Epoch: 06 | Train Loss: 0.08955 | Validation Loss: 0.06772\n",
      "Epoch: 07 | Train Loss: 0.08726 | Validation Loss: 0.06839\n",
      "Epoch: 08 | Train Loss: 0.08494 | Validation Loss: 0.06816\n",
      "Epoch: 09 | Train Loss: 0.08486 | Validation Loss: 0.06585\n",
      "Epoch: 10 | Train Loss: 0.08362 | Validation Loss: 0.06643\n",
      "Epoch: 11 | Train Loss: 0.08239 | Validation Loss: 0.06338\n",
      "Epoch: 12 | Train Loss: 0.08128 | Validation Loss: 0.06313\n",
      "Epoch: 13 | Train Loss: 0.08056 | Validation Loss: 0.06261\n",
      "Epoch: 14 | Train Loss: 0.07953 | Validation Loss: 0.06121\n",
      "Epoch: 15 | Train Loss: 0.07820 | Validation Loss: 0.06009\n",
      "Epoch: 16 | Train Loss: 0.07781 | Validation Loss: 0.06047\n",
      "Epoch: 17 | Train Loss: 0.07710 | Validation Loss: 0.06703\n",
      "Epoch: 18 | Train Loss: 0.07740 | Validation Loss: 0.06110\n",
      "Epoch: 19 | Train Loss: 0.07635 | Validation Loss: 0.06961\n",
      "Epoch: 20 | Train Loss: 0.07528 | Validation Loss: 0.05860\n",
      "Epoch: 21 | Train Loss: 0.07431 | Validation Loss: 0.05790\n",
      "Epoch: 22 | Train Loss: 0.07423 | Validation Loss: 0.06228\n",
      "Epoch: 23 | Train Loss: 0.07340 | Validation Loss: 0.05727\n",
      "Epoch: 24 | Train Loss: 0.07334 | Validation Loss: 0.05656\n",
      "Epoch: 25 | Train Loss: 0.07227 | Validation Loss: 0.05828\n",
      "Epoch: 26 | Train Loss: 0.07146 | Validation Loss: 0.05877\n",
      "Epoch: 27 | Train Loss: 0.07168 | Validation Loss: 0.05552\n",
      "Epoch: 28 | Train Loss: 0.07092 | Validation Loss: 0.05740\n",
      "Epoch: 29 | Train Loss: 0.07065 | Validation Loss: 0.05424\n",
      "Epoch: 30 | Train Loss: 0.06964 | Validation Loss: 0.05468\n",
      "Epoch: 31 | Train Loss: 0.06962 | Validation Loss: 0.05735\n",
      "Epoch: 32 | Train Loss: 0.06931 | Validation Loss: 0.05462\n",
      "Epoch: 33 | Train Loss: 0.06878 | Validation Loss: 0.05375\n",
      "Epoch: 34 | Train Loss: 0.06845 | Validation Loss: 0.05647\n",
      "Epoch: 35 | Train Loss: 0.06804 | Validation Loss: 0.05370\n",
      "Epoch: 36 | Train Loss: 0.06756 | Validation Loss: 0.05376\n",
      "Epoch: 37 | Train Loss: 0.06696 | Validation Loss: 0.05224\n",
      "Epoch: 38 | Train Loss: 0.06645 | Validation Loss: 0.05252\n",
      "Epoch: 39 | Train Loss: 0.06639 | Validation Loss: 0.05236\n",
      "Epoch: 40 | Train Loss: 0.06599 | Validation Loss: 0.05360\n",
      "Epoch: 41 | Train Loss: 0.06595 | Validation Loss: 0.05191\n",
      "Epoch: 42 | Train Loss: 0.06562 | Validation Loss: 0.05024\n",
      "Epoch: 43 | Train Loss: 0.06481 | Validation Loss: 0.05068\n",
      "Epoch: 44 | Train Loss: 0.06488 | Validation Loss: 0.05017\n",
      "Epoch: 45 | Train Loss: 0.06423 | Validation Loss: 0.05139\n",
      "Epoch: 46 | Train Loss: 0.06428 | Validation Loss: 0.05056\n",
      "Epoch: 47 | Train Loss: 0.06396 | Validation Loss: 0.05126\n",
      "Epoch: 48 | Train Loss: 0.06357 | Validation Loss: 0.05032\n",
      "Epoch: 49 | Train Loss: 0.06323 | Validation Loss: 0.05215\n",
      "Early stopping at epoch 49 after 5 epochs without improvement.\n",
      "...Training done...\n",
      "...Calculating final results...\n",
      "====================================================\n",
      "Final training R2: [0.88113525 0.93396805 0.94839335 0.73798306 0.98531789 0.91157915\n",
      " 0.9716001  0.95706652 0.964894   0.99597207 0.9971456  0.99714476\n",
      " 0.99714574 0.9971453  0.98975159]\n",
      "Average final training R2:  0.9510828299927361\n",
      "Final training loss: 0.04643438475757417\n",
      "Final validation R2: [0.86342471 0.93185539 0.94599782 0.71127885 0.98511721 0.90573828\n",
      " 0.97077229 0.95348223 0.96358287 0.99600567 0.9971211  0.99712003\n",
      " 0.99712115 0.99712078 0.99032895]\n",
      "Average validation R2:  0.9470711564561242\n",
      "Final validation loss: 0.050166754117713146\n",
      "Final test R2: [0.87089885 0.92963268 0.94433147 0.65941426 0.9842312  0.90352673\n",
      " 0.96835177 0.95205036 0.96129677 0.99594708 0.99688341 0.99688243\n",
      " 0.99688352 0.99688327 0.98923935]\n",
      "Average final test R2:  0.9430968769928321\n",
      "Final test loss: 0.05159299335299203\n"
     ]
    }
   ],
   "source": [
    "def train(model, batch):\n",
    "      features = batch[:][0]\n",
    "      targets = batch[:][1]\n",
    "      \n",
    "      model.train()\n",
    "      optimizer.zero_grad()  # Clear gradients.\n",
    "      out = model(features).to(device)  # Perform a single forward pass.\n",
    "\n",
    "      loss = criterion(out, targets) \n",
    "\n",
    "      loss.backward()  # Derive gradients.\n",
    "      optimizer.step()  # Update parameters based on gradients.\n",
    "      \n",
    "      return loss\n",
    "\n",
    "def test(model, data):\n",
    "      for i, batch in enumerate(data):\n",
    "            features = batch[:][0]\n",
    "            targets = batch[:][1].cpu()\n",
    "            \n",
    "            model.eval()\n",
    "            out = model(features).cpu()\n",
    "            \n",
    "            # Caculate R2 for each target\n",
    "            for target_idx in range(target_dim):\n",
    "                  if target_idx != 0:\n",
    "                        r2_score_var = np.vstack((r2_score_var, r2_score(targets[:,target_idx].detach().numpy(), \n",
    "                                                          out[:,target_idx].detach().numpy())))\n",
    "                  else:\n",
    "                        r2_score_var = np.array([r2_score(targets[:,target_idx].detach().numpy(),\n",
    "                                                          out[:,target_idx].detach().numpy())])        \n",
    "            all_r2 = np.hstack((all_r2, r2_score_var)) if i != 0 else r2_score_var\n",
    "                  \n",
    "            loss = float(criterion(out, targets).detach().numpy())\n",
    "            all_loss = np.hstack((all_loss, loss)) if i != 0 else np.array(loss)\n",
    "\n",
    "      average_test_r2 = np.mean(all_r2, axis=1)\n",
    "      average_test_loss = np.mean(all_loss)\n",
    "      \n",
    "      return average_test_r2, average_test_loss\n",
    "\n",
    "def early_stopping(val_losses, patience): # returns True if there is no improvement in val_loss\n",
    "      if len(val_losses) < patience:\n",
    "            return False\n",
    "      else:\n",
    "            best_loss = np.min(val_losses)\n",
    "            current_loss = val_losses[-1]\n",
    "            \n",
    "            if current_loss > best_loss:\n",
    "                  return True\n",
    "            else:\n",
    "                  return False\n",
    "\n",
    "feature_dim = train_data[:][0].shape[1]\n",
    "target_dim = train_data[:][1].shape[1]\n",
    "\n",
    "model = DNN(hidden_channels=1024, feature_dim=feature_dim, target_dim=target_dim).to(device) \n",
    "optimizer = torch.optim.Adam(model.parameters(), lr=0.001, weight_decay=5e-4)\n",
    "\n",
    "# Decay for learning rate\n",
    "decay_rate = 0.94\n",
    "lr_scheduler = torch.optim.lr_scheduler.ExponentialLR(optimizer=optimizer, gamma=decay_rate)\n",
    "\n",
    "criterion = torch.nn.MSELoss().to(device)\n",
    "\n",
    "train_params, _ = uf.get_num_parameters(model)\n",
    "print(f\"Trainable parameters: {train_params:,}\")\n",
    "\n",
    "# Vectors to append accuracy to:\n",
    "train_r2 = []\n",
    "train_loss = []\n",
    "test_r2 = []\n",
    "test_loss = []\n",
    "val_r2 = []\n",
    "val_loss = []\n",
    "\n",
    "n_epochs = 100\n",
    "print_every_N_epochs = False\n",
    "N = 10 # print R2 every N epochs\n",
    "\n",
    "epoch_times = []\n",
    "train_times = []\n",
    "test_times = []\n",
    "print()\n",
    "print(\"...Starting training...\")\n",
    "print(\"Device used:\", device)\n",
    "\n",
    "val_losses_epoch = [] # for early stopping\n",
    "patience = 5 # how many epochs to wait for the val loss to improve\n",
    "best_val_loss = np.inf  \n",
    "epochs_without_improvement = 0\n",
    "\n",
    "for epoch in np.arange(1, n_epochs+1):\n",
    "      epoch_start = time.time()\n",
    "      losses = []\n",
    "      train_start = time.time()\n",
    "      for batch in train_loader:\n",
    "            loss = train(model, batch)\n",
    "            losses.append(loss.cpu().detach().numpy())  \n",
    "      # Compute validation loss\n",
    "      model.eval()\n",
    "      val_losses = []\n",
    "      for batch in val_loader:\n",
    "            features = batch[:][0]\n",
    "            targets = batch[:][1]\n",
    "            out = model(features)\n",
    "            val_losses.append(criterion(out, targets).cpu().detach().numpy()) \n",
    "\n",
    "      val_loss_epoch = np.mean(val_losses)\n",
    "      val_losses_epoch.append(val_loss_epoch)\n",
    "      print(f\"Epoch: {epoch:02d} | Train Loss: {np.mean(losses):.5f} | Validation Loss: {val_loss_epoch:.5f}\")\n",
    "      train_end = time.time()\n",
    "      train_times.append(train_end - train_start)\n",
    "      lr_scheduler.step() # Decay to learning rate\n",
    "      \n",
    "      # check for early stopping\n",
    "      if early_stopping(val_losses_epoch, patience) and epoch > patience:\n",
    "            epochs_without_improvement += 1\n",
    "            if epochs_without_improvement >= patience:\n",
    "                  print(f\"Early stopping at epoch {epoch} after {patience} epochs without improvement.\")\n",
    "                  break\n",
    "      else:\n",
    "            epochs_without_improvement = 0\n",
    "            best_val_loss = val_loss_epoch\n",
    "            # save the model\n",
    "            torch.save(model.state_dict(), 'best_features_model.pt')\n",
    "            \n",
    "      if print_every_N_epochs and (epoch % N == 0 or epoch == 1) and epoch != n_epochs:\n",
    "            test_start = time.time()\n",
    "                \n",
    "            r2_temp_val, loss_temp_val = test(model, val_loader)\n",
    "            val_r2.append(r2_temp_val)\n",
    "            val_loss.append(loss_temp_val)\n",
    "            \n",
    "            print(f'Validation R2: {r2_temp_val}')\n",
    "            print(f\"Validation loss: {loss_temp_val}\")\n",
    "            test_end = time.time()\n",
    "            test_times.append(test_end - test_start)\n",
    "            \n",
    "            model.load_state_dict(torch.load('best_features_model.pt'))\n",
    "            \n",
    "      epoch_end = time.time()\n",
    "      epoch_times.append(epoch_end - epoch_start)\n",
    "      \n",
    "print(\"...Training done...\")\n",
    "print(\"...Calculating final results...\")\n",
    "model.load_state_dict(torch.load('best_features_model.pt'))\n",
    "\n",
    "r2_temp_train, loss_temp_train = test(model, train_loader) \n",
    "train_r2.append(r2_temp_train)\n",
    "train_loss.append(loss_temp_train)\n",
    "\n",
    "r2_temp_val, loss_temp_val = test(model, val_loader)\n",
    "val_r2.append(r2_temp_val)\n",
    "val_loss.append(loss_temp_val)\n",
    "\n",
    "r2_temp_test, loss_temp_test = test(model, test_loader)\n",
    "test_r2.append(r2_temp_test)\n",
    "test_loss.append(loss_temp_test)\n",
    "\n",
    "print(\"====================================================\")\n",
    "print(\"Final training R2:\", train_r2[-1])\n",
    "print(\"Average final training R2: \", np.mean(train_r2[-1]))\n",
    "print(\"Final training loss:\", train_loss[-1])\n",
    "\n",
    "print(\"Final validation R2:\", val_r2[-1])\n",
    "print(\"Average validation R2: \", np.mean(val_r2[-1]))\n",
    "print(\"Final validation loss:\", val_loss[-1])\n",
    "\n",
    "print(\"Final test R2:\", test_r2[-1])\n",
    "print(\"Average final test R2: \", np.mean(test_r2[-1]))\n",
    "print(\"Final test loss:\", test_loss[-1])\n",
    "            "
   ]
  },
  {
   "cell_type": "code",
   "execution_count": 10,
   "metadata": {},
   "outputs": [
    {
     "name": "stdout",
     "output_type": "stream",
     "text": [
      "Device used: cuda\n",
      "\n",
      "Total number of epochs: 48\n",
      "Total training time: 2.43 minutes\n",
      "Total time in training: 2.48 minutes\n",
      "Total time in testing: 0.00 minutes\n",
      "\n",
      "Average epoch time: 3.0 seconds\n",
      "Average time in training: 3.0 seconds\n",
      "Average time in testing: nan seconds\n"
     ]
    },
    {
     "name": "stderr",
     "output_type": "stream",
     "text": [
      "c:\\Users\\jespe\\anaconda3\\envs\\proj_env\\lib\\site-packages\\numpy\\core\\fromnumeric.py:3464: RuntimeWarning: Mean of empty slice.\n",
      "  return _methods._mean(a, axis=axis, dtype=dtype,\n",
      "c:\\Users\\jespe\\anaconda3\\envs\\proj_env\\lib\\site-packages\\numpy\\core\\_methods.py:192: RuntimeWarning: invalid value encountered in scalar divide\n",
      "  ret = ret.dtype.type(ret / rcount)\n"
     ]
    }
   ],
   "source": [
    "print(\"Device used:\", device)\n",
    "print()\n",
    "print(f\"Total number of epochs: {len(epoch_times)}\")\n",
    "print(f\"Total training time: {np.sum(epoch_times)/60:.2f} minutes\")\n",
    "print(f\"Total time in training: {np.sum(train_times)/60:.2f} minutes\")\n",
    "print(f\"Total time in testing: {np.sum(test_times)/60:.2f} minutes\")\n",
    "print()\n",
    "print(f\"Average epoch time: {np.mean(epoch_times):.1f} seconds\")\n",
    "print(f\"Average time in training: {np.mean(train_times):.1f} seconds\")\n",
    "print(f\"Average time in testing: {np.mean(test_times):.1f} seconds\")"
   ]
  },
  {
   "attachments": {},
   "cell_type": "markdown",
   "metadata": {},
   "source": [
    "#### Model for just one target"
   ]
  },
  {
   "attachments": {},
   "cell_type": "markdown",
   "metadata": {},
   "source": [
    "Train DNN"
   ]
  },
  {
   "cell_type": "code",
   "execution_count": 11,
   "metadata": {},
   "outputs": [
    {
     "name": "stdout",
     "output_type": "stream",
     "text": [
      "Target index: 0\n",
      "Device used: cuda\n",
      "Epoch: 01 | Train Loss: 0.20794 | Validation Loss: 0.18548\n",
      "Epoch: 02 | Train Loss: 0.13513 | Validation Loss: 0.16727\n",
      "Epoch: 03 | Train Loss: 0.11163 | Validation Loss: 0.16146\n",
      "Epoch: 04 | Train Loss: 0.09687 | Validation Loss: 0.17716\n",
      "Epoch: 05 | Train Loss: 0.08728 | Validation Loss: 0.16383\n",
      "Epoch: 06 | Train Loss: 0.08045 | Validation Loss: 0.15189\n"
     ]
    },
    {
     "ename": "KeyboardInterrupt",
     "evalue": "",
     "output_type": "error",
     "traceback": [
      "\u001b[1;31m---------------------------------------------------------------------------\u001b[0m",
      "\u001b[1;31mKeyboardInterrupt\u001b[0m                         Traceback (most recent call last)",
      "Cell \u001b[1;32mIn[11], line 67\u001b[0m\n\u001b[0;32m     65\u001b[0m losses \u001b[39m=\u001b[39m []\n\u001b[0;32m     66\u001b[0m \u001b[39mfor\u001b[39;00m data \u001b[39min\u001b[39;00m train_loader:\n\u001b[1;32m---> 67\u001b[0m       loss \u001b[39m=\u001b[39m train(data, target_index)\n\u001b[0;32m     68\u001b[0m       losses\u001b[39m.\u001b[39mappend(loss\u001b[39m.\u001b[39mcpu()\u001b[39m.\u001b[39mdetach()\u001b[39m.\u001b[39mnumpy())  \n\u001b[0;32m     69\u001b[0m \u001b[39m# Compute validation loss\u001b[39;00m\n",
      "Cell \u001b[1;32mIn[11], line 14\u001b[0m, in \u001b[0;36mtrain\u001b[1;34m(batch, target_idx)\u001b[0m\n\u001b[0;32m     10\u001b[0m out \u001b[39m=\u001b[39m model(features)\u001b[39m.\u001b[39mto(device)  \u001b[39m# Perform a single forward pass.\u001b[39;00m\n\u001b[0;32m     12\u001b[0m loss \u001b[39m=\u001b[39m criterion(out, targets) \n\u001b[1;32m---> 14\u001b[0m loss\u001b[39m.\u001b[39;49mbackward()  \u001b[39m# Derive gradients.\u001b[39;00m\n\u001b[0;32m     15\u001b[0m optimizer\u001b[39m.\u001b[39mstep()  \u001b[39m# Update parameters based on gradients.\u001b[39;00m\n\u001b[0;32m     17\u001b[0m \u001b[39mreturn\u001b[39;00m loss\n",
      "File \u001b[1;32mc:\\Users\\jespe\\anaconda3\\envs\\proj_env\\lib\\site-packages\\torch\\_tensor.py:487\u001b[0m, in \u001b[0;36mTensor.backward\u001b[1;34m(self, gradient, retain_graph, create_graph, inputs)\u001b[0m\n\u001b[0;32m    477\u001b[0m \u001b[39mif\u001b[39;00m has_torch_function_unary(\u001b[39mself\u001b[39m):\n\u001b[0;32m    478\u001b[0m     \u001b[39mreturn\u001b[39;00m handle_torch_function(\n\u001b[0;32m    479\u001b[0m         Tensor\u001b[39m.\u001b[39mbackward,\n\u001b[0;32m    480\u001b[0m         (\u001b[39mself\u001b[39m,),\n\u001b[1;32m   (...)\u001b[0m\n\u001b[0;32m    485\u001b[0m         inputs\u001b[39m=\u001b[39minputs,\n\u001b[0;32m    486\u001b[0m     )\n\u001b[1;32m--> 487\u001b[0m torch\u001b[39m.\u001b[39;49mautograd\u001b[39m.\u001b[39;49mbackward(\n\u001b[0;32m    488\u001b[0m     \u001b[39mself\u001b[39;49m, gradient, retain_graph, create_graph, inputs\u001b[39m=\u001b[39;49minputs\n\u001b[0;32m    489\u001b[0m )\n",
      "File \u001b[1;32mc:\\Users\\jespe\\anaconda3\\envs\\proj_env\\lib\\site-packages\\torch\\autograd\\__init__.py:193\u001b[0m, in \u001b[0;36mbackward\u001b[1;34m(tensors, grad_tensors, retain_graph, create_graph, grad_variables, inputs)\u001b[0m\n\u001b[0;32m    189\u001b[0m inputs \u001b[39m=\u001b[39m (inputs,) \u001b[39mif\u001b[39;00m \u001b[39misinstance\u001b[39m(inputs, torch\u001b[39m.\u001b[39mTensor) \u001b[39melse\u001b[39;00m \\\n\u001b[0;32m    190\u001b[0m     \u001b[39mtuple\u001b[39m(inputs) \u001b[39mif\u001b[39;00m inputs \u001b[39mis\u001b[39;00m \u001b[39mnot\u001b[39;00m \u001b[39mNone\u001b[39;00m \u001b[39melse\u001b[39;00m \u001b[39mtuple\u001b[39m()\n\u001b[0;32m    192\u001b[0m grad_tensors_ \u001b[39m=\u001b[39m _tensor_or_tensors_to_tuple(grad_tensors, \u001b[39mlen\u001b[39m(tensors))\n\u001b[1;32m--> 193\u001b[0m grad_tensors_ \u001b[39m=\u001b[39m _make_grads(tensors, grad_tensors_, is_grads_batched\u001b[39m=\u001b[39;49m\u001b[39mFalse\u001b[39;49;00m)\n\u001b[0;32m    194\u001b[0m \u001b[39mif\u001b[39;00m retain_graph \u001b[39mis\u001b[39;00m \u001b[39mNone\u001b[39;00m:\n\u001b[0;32m    195\u001b[0m     retain_graph \u001b[39m=\u001b[39m create_graph\n",
      "File \u001b[1;32mc:\\Users\\jespe\\anaconda3\\envs\\proj_env\\lib\\site-packages\\torch\\autograd\\__init__.py:89\u001b[0m, in \u001b[0;36m_make_grads\u001b[1;34m(outputs, grads, is_grads_batched)\u001b[0m\n\u001b[0;32m     87\u001b[0m     \u001b[39mif\u001b[39;00m out\u001b[39m.\u001b[39mnumel() \u001b[39m!=\u001b[39m \u001b[39m1\u001b[39m:\n\u001b[0;32m     88\u001b[0m         \u001b[39mraise\u001b[39;00m \u001b[39mRuntimeError\u001b[39;00m(\u001b[39m\"\u001b[39m\u001b[39mgrad can be implicitly created only for scalar outputs\u001b[39m\u001b[39m\"\u001b[39m)\n\u001b[1;32m---> 89\u001b[0m     new_grads\u001b[39m.\u001b[39mappend(torch\u001b[39m.\u001b[39;49mones_like(out, memory_format\u001b[39m=\u001b[39;49mtorch\u001b[39m.\u001b[39;49mpreserve_format))\n\u001b[0;32m     90\u001b[0m \u001b[39melse\u001b[39;00m:\n\u001b[0;32m     91\u001b[0m     new_grads\u001b[39m.\u001b[39mappend(\u001b[39mNone\u001b[39;00m)\n",
      "\u001b[1;31mKeyboardInterrupt\u001b[0m: "
     ]
    }
   ],
   "source": [
    "feature_dim = train_data[:][0].shape[1]\n",
    "target_dim = 1\n",
    "\n",
    "def train(batch, target_idx):\n",
    "      features = batch[:][0]\n",
    "      targets = batch[:][1][:,target_idx].unsqueeze(-1)\n",
    "      \n",
    "      model.train()\n",
    "      optimizer.zero_grad()  # Clear gradients.\n",
    "      out = model(features).to(device)  # Perform a single forward pass.\n",
    "\n",
    "      loss = criterion(out, targets) \n",
    "\n",
    "      loss.backward()  # Derive gradients.\n",
    "      optimizer.step()  # Update parameters based on gradients.\n",
    "      \n",
    "      return loss\n",
    "\n",
    "def test(data, target_idx):\n",
    "      for i, batch in enumerate(data):\n",
    "            features = batch[:][0]\n",
    "            targets = batch[:][1][:,target_idx].cpu().unsqueeze(-1)\n",
    "            \n",
    "            model.eval()\n",
    "            out = model(features).cpu()\n",
    "            \n",
    "            # Caculate R2    \n",
    "            r2_score_var = np.array([r2_score(targets.detach().numpy(), out.detach().numpy())])        \n",
    "            all_r2 = np.hstack((all_r2, r2_score_var)) if i != 0 else r2_score_var\n",
    "                  \n",
    "            loss = float(criterion(out, targets).detach().numpy())\n",
    "            all_loss = np.hstack((all_loss, loss)) if i != 0 else np.array(loss)\n",
    "\n",
    "      average_test_r2 = np.mean(all_r2)\n",
    "      average_test_loss = np.mean(all_loss)\n",
    "      \n",
    "      return average_test_r2, average_test_loss\n",
    "\n",
    "num_targets = train_data[:][1].shape[1]\n",
    "start_time = time.time()\n",
    "for target_index in range(num_targets):\n",
    "      print(\"Target index:\", target_index)\n",
    "\n",
    "      model = DNN(hidden_channels=1024, feature_dim=feature_dim, target_dim=target_dim).to(device) \n",
    "      optimizer = torch.optim.Adam(model.parameters(), lr=0.0001, weight_decay=5e-4)\n",
    "      criterion = torch.nn.MSELoss().to(device)\n",
    "      \n",
    "      # Decay for learning rate\n",
    "      decayRate = 0.9\n",
    "      lr_scheduler = torch.optim.lr_scheduler.ExponentialLR(optimizer=optimizer, gamma=decayRate)\n",
    "\n",
    "      # Vectors to append accuracy to:\n",
    "      train_r2 = []\n",
    "      train_loss = []\n",
    "      test_r2 = []\n",
    "      test_loss = []\n",
    "      val_r2 = []\n",
    "      val_loss = []\n",
    "\n",
    "      n_epochs = 10\n",
    "\n",
    "      print(\"Device used:\", device)\n",
    "\n",
    "      for epoch in np.arange(1, n_epochs+1):\n",
    "            losses = []\n",
    "            for data in train_loader:\n",
    "                  loss = train(data, target_index)\n",
    "                  losses.append(loss.cpu().detach().numpy())  \n",
    "            # Compute validation loss\n",
    "            model.eval()\n",
    "            val_losses = []\n",
    "            for batch in val_loader:\n",
    "                  features = batch[:][0]\n",
    "                  targets = batch[:][1][:, target_index].unsqueeze(-1)\n",
    "                  out = model(features)\n",
    "                  val_losses.append(criterion(out, targets).cpu().detach().numpy())\n",
    "            print(f\"Epoch: {epoch:02d} | Train Loss: {np.mean(losses):.5f} | Validation Loss: {np.mean(val_losses):.5f}\")\n",
    "            \n",
    "            lr_scheduler.step() # Decay to learning rate\n",
    "                  \n",
    "            if epoch == n_epochs:         # calculate results of training: test on all data\n",
    "                  test_start = time.time()\n",
    "                  r2_temp_train, loss_temp_train = test(train_loader, target_index) \n",
    "                  train_r2.append(r2_temp_train)\n",
    "                  train_loss.append(loss_temp_train)\n",
    "                  \n",
    "                  r2_temp_val, loss_temp_val = test(val_loader, target_index)\n",
    "                  val_r2.append(r2_temp_val)\n",
    "                  val_loss.append(loss_temp_val)\n",
    "                  \n",
    "                  r2_temp_test, loss_temp_test = test(test_loader, target_index)\n",
    "                  test_r2.append(r2_temp_test)\n",
    "                  test_loss.append(loss_temp_test)\n",
    "\n",
    "                  print(\"====================================================\")\n",
    "                  print(\"Final training R2:\", train_r2[-1])\n",
    "                  print(\"Average final training R2: \", np.mean(train_r2[-1]))\n",
    "                  print(\"Final training loss:\", train_loss[-1])\n",
    "                  print()\n",
    "                  print(\"Final validation R2:\", val_r2[-1])\n",
    "                  print(\"Average validation test R2: \", np.mean(val_r2[-1]))\n",
    "                  print(\"Final validation loss:\", val_loss[-1])\n",
    "                  print()\n",
    "                  print(\"Final test R2:\", test_r2[-1])\n",
    "                  print(\"Average final test R2: \", np.mean(test_r2[-1]))\n",
    "                  print(\"Final test loss:\", test_loss[-1])\n",
    "                  print(\"====================================================\")\n",
    "                                    \n",
    "print(\"...Done...\")\n",
    "end_time = time.time()\n",
    "print(f\"Time taken: {(end_time - start_time)/60} minutes\")\n",
    "print(f\"Average time per target: {(end_time - start_time)/(num_targets*60)} minutes\")"
   ]
  }
 ],
 "metadata": {
  "kernelspec": {
   "display_name": "Python 3",
   "language": "python",
   "name": "python3"
  },
  "language_info": {
   "codemirror_mode": {
    "name": "ipython",
    "version": 3
   },
   "file_extension": ".py",
   "mimetype": "text/x-python",
   "name": "python",
   "nbconvert_exporter": "python",
   "pygments_lexer": "ipython3",
   "version": "3.10.10"
  },
  "orig_nbformat": 4
 },
 "nbformat": 4,
 "nbformat_minor": 2
}
