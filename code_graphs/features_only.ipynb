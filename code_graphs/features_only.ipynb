{
 "cells": [
  {
   "attachments": {},
   "cell_type": "markdown",
   "metadata": {},
   "source": [
    "# TIF360 Project"
   ]
  },
  {
   "attachments": {},
   "cell_type": "markdown",
   "metadata": {},
   "source": [
    "Main source: https://www.kaggle.com/code/rmonge/predicting-molecule-properties-based-on-its-smiles/notebook"
   ]
  },
  {
   "attachments": {},
   "cell_type": "markdown",
   "metadata": {},
   "source": [
    "### Import packages"
   ]
  },
  {
   "cell_type": "code",
   "execution_count": 1,
   "metadata": {},
   "outputs": [],
   "source": [
    "import numpy as np\n",
    "import pandas as pd\n",
    "import matplotlib.pyplot as plt\n",
    "import time as time\n",
    "\n",
    "import torch\n",
    "from torch.utils.data import TensorDataset, DataLoader, random_split\n",
    "from torch.nn import Linear, BatchNorm1d as BatchNorm\n",
    "import torch.nn.functional as F\n",
    "\n",
    "from sklearn.metrics import r2_score\n",
    "import utility_functions as uf"
   ]
  },
  {
   "cell_type": "code",
   "execution_count": 2,
   "metadata": {},
   "outputs": [
    {
     "name": "stdout",
     "output_type": "stream",
     "text": [
      "cuda available: True\n",
      "device: cuda\n",
      "NVIDIA GeForce RTX 3080\n"
     ]
    }
   ],
   "source": [
    "print(\"cuda available:\", torch.cuda.is_available())\n",
    "device = torch.device('cuda' if torch.cuda.is_available() else 'cpu')\n",
    "print(\"device:\", \"cuda\" if torch.cuda.is_available() else \"cpu\")\n",
    "if torch.cuda.is_available():\n",
    "    print(torch.cuda.get_device_name(0))"
   ]
  },
  {
   "attachments": {},
   "cell_type": "markdown",
   "metadata": {},
   "source": [
    "### Load data"
   ]
  },
  {
   "attachments": {},
   "cell_type": "markdown",
   "metadata": {},
   "source": [
    "Load smiles data and targets"
   ]
  },
  {
   "cell_type": "code",
   "execution_count": 3,
   "metadata": {},
   "outputs": [
    {
     "name": "stdout",
     "output_type": "stream",
     "text": [
      "(132820, 21)\n"
     ]
    }
   ],
   "source": [
    "df = pd.read_csv(\"../data/smiles_and_targets.csv\")\n",
    "print(np.shape(df))"
   ]
  },
  {
   "attachments": {},
   "cell_type": "markdown",
   "metadata": {},
   "source": [
    "Choose mode: Which features to include"
   ]
  },
  {
   "cell_type": "code",
   "execution_count": 16,
   "metadata": {},
   "outputs": [],
   "source": [
    "# singles\n",
    "# mode = \"rdkit_descriptors\"\n",
    "# mode = \"morgan_fingerprints\"\n",
    "# mode = \"mordred_descriptors\"\n",
    "\n",
    "# combinations\n",
    "# mode = \"rdkit+morgan\"\n",
    "mode = \"mordred+morgan\"\n",
    "\n",
    "# excessive\n",
    "# mode = \"rdkit+mordred\"\n",
    "# mode = \"rdkit+mordred+morgan\""
   ]
  },
  {
   "attachments": {},
   "cell_type": "markdown",
   "metadata": {},
   "source": [
    "Load the features"
   ]
  },
  {
   "cell_type": "code",
   "execution_count": 17,
   "metadata": {},
   "outputs": [
    {
     "name": "stdout",
     "output_type": "stream",
     "text": [
      "features: (132820, 3033)\n"
     ]
    }
   ],
   "source": [
    "features = uf.load_molecular_features(mode)\n",
    "print(\"features:\", np.shape(features))"
   ]
  },
  {
   "cell_type": "code",
   "execution_count": 18,
   "metadata": {},
   "outputs": [],
   "source": [
    "def create_scale_and_split_dataset(features:np.ndarray, targets:np.ndarray, val_share, test_share):\n",
    "    \n",
    "    num_samples = features.shape[0]\n",
    "    print(\"num_samples:\", num_samples)\n",
    "    train_indices, val_indices, test_indices = uf.get_data_split_indices(num_samples, val_share, test_share)\n",
    "    \n",
    "    X_train, y_train = features[train_indices], targets[train_indices]\n",
    "    X_val, y_val = features[val_indices], targets[val_indices]\n",
    "    X_test, y_test = features[test_indices], targets[test_indices]\n",
    "    \n",
    "    X_train, X_val, X_test, scaler_features = uf.scale_features(X_train, X_val, X_test)\n",
    "    y_train, y_val, y_test, scaler_targets = uf.scale_targets(y_train, y_val, y_test)\n",
    "        \n",
    "    train_data = TensorDataset(torch.tensor(X_train, dtype=torch.float, device=device),\n",
    "                               torch.tensor(y_train, dtype=torch.float, device=device))\n",
    "    val_data = TensorDataset(torch.tensor(X_val, dtype=torch.float, device=device),   \n",
    "                             torch.tensor(y_val, dtype=torch.float, device=device))\n",
    "    test_data = TensorDataset(torch.tensor(X_test, dtype=torch.float, device=device),\n",
    "                              torch.tensor(y_test, dtype=torch.float, device=device))\n",
    "    \n",
    "    scalers = {\"features\": scaler_features, \"targets\": scaler_targets}\n",
    "    \n",
    "    return train_data, val_data, test_data, scalers\n",
    "\n",
    "def create_data_loaders(train_data, val_data, test_data, batch_size):\n",
    "    \n",
    "    train_loader = DataLoader(train_data, batch_size=batch_size, shuffle=True)\n",
    "    val_loader = DataLoader(val_data, batch_size=batch_size, shuffle=False)\n",
    "    test_loader = DataLoader(test_data, batch_size=batch_size, shuffle=False)\n",
    "    \n",
    "    return train_loader, val_loader, test_loader  "
   ]
  },
  {
   "attachments": {},
   "cell_type": "markdown",
   "metadata": {},
   "source": [
    "Load data"
   ]
  },
  {
   "cell_type": "code",
   "execution_count": 19,
   "metadata": {},
   "outputs": [
    {
     "name": "stdout",
     "output_type": "stream",
     "text": [
      "...Loading data...\n",
      "num_samples: 132820\n",
      "...Data loading done...\n"
     ]
    }
   ],
   "source": [
    "print(\"...Loading data...\")\n",
    "properties_names = ['A', 'B', 'C', 'mu', 'alfa', 'homo', 'lumo', 'gap', 'R²', 'zpve', 'U0', 'U', 'H', 'G', 'Cv']\n",
    "x_smiles = df.smiles.values\n",
    "targets = df.loc[:, properties_names].values\n",
    "\n",
    "train_data, val_data, test_data, scalers = create_scale_and_split_dataset(features, targets, 0.15, 0.2)\n",
    "train_loader, val_loader, test_loader = create_data_loaders(train_data, val_data, test_data, 64)\n",
    "print(\"...Data loading done...\")"
   ]
  },
  {
   "attachments": {},
   "cell_type": "markdown",
   "metadata": {},
   "source": [
    "### Dense network "
   ]
  },
  {
   "attachments": {},
   "cell_type": "markdown",
   "metadata": {},
   "source": [
    "Define model"
   ]
  },
  {
   "cell_type": "code",
   "execution_count": 20,
   "metadata": {},
   "outputs": [],
   "source": [
    "class DNN(torch.nn.Module):\n",
    "    def __init__(self, hidden_channels, feature_dim, target_dim):\n",
    "        super().__init__()\n",
    "        torch.manual_seed(12345)\n",
    "        \n",
    "        self.input_norm = BatchNorm(feature_dim)\n",
    "        self.lin1 = Linear(feature_dim, hidden_channels)\n",
    "        self.lin2 = Linear(hidden_channels, 512)\n",
    "        self.lin3 = Linear(512, target_dim)\n",
    "\n",
    "    def forward(self, x): \n",
    "                \n",
    "        x = self.input_norm(x)\n",
    "        x = self.lin1(x)\n",
    "        x = F.leaky_relu(x)\n",
    "        x = F.dropout(x, p=0.2, training=self.training)\n",
    "        \n",
    "        x = self.lin2(x)\n",
    "        x = F.leaky_relu(x)\n",
    "\n",
    "        x = self.lin3(x)\n",
    " \n",
    "        return x"
   ]
  },
  {
   "attachments": {},
   "cell_type": "markdown",
   "metadata": {},
   "source": [
    "Train DNN"
   ]
  },
  {
   "cell_type": "code",
   "execution_count": 21,
   "metadata": {},
   "outputs": [
    {
     "name": "stdout",
     "output_type": "stream",
     "text": [
      "Trainable parameters: 3,645,377\n",
      "\n",
      "...Starting training...\n",
      "Device used: cuda\n",
      "Epoch: 01 | Train Loss: 0.12394 | Validation Loss: 0.08419\n",
      "Epoch: 02 | Train Loss: 0.10360 | Validation Loss: 0.07950\n",
      "Epoch: 03 | Train Loss: 0.09785 | Validation Loss: 0.07840\n",
      "Epoch: 04 | Train Loss: 0.09345 | Validation Loss: 0.07191\n",
      "Epoch: 05 | Train Loss: 0.09065 | Validation Loss: 0.07356\n",
      "Epoch: 06 | Train Loss: 0.08812 | Validation Loss: 0.06634\n",
      "Epoch: 07 | Train Loss: 0.08567 | Validation Loss: 0.06764\n",
      "Epoch: 08 | Train Loss: 0.08305 | Validation Loss: 0.06633\n",
      "Epoch: 09 | Train Loss: 0.08273 | Validation Loss: 0.06355\n",
      "Epoch: 10 | Train Loss: 0.08125 | Validation Loss: 0.06458\n",
      "Epoch: 11 | Train Loss: 0.07971 | Validation Loss: 0.06172\n",
      "Epoch: 12 | Train Loss: 0.07852 | Validation Loss: 0.06139\n",
      "Epoch: 13 | Train Loss: 0.07770 | Validation Loss: 0.06028\n",
      "Epoch: 14 | Train Loss: 0.07634 | Validation Loss: 0.05873\n",
      "Epoch: 15 | Train Loss: 0.07479 | Validation Loss: 0.05768\n",
      "Epoch: 16 | Train Loss: 0.07425 | Validation Loss: 0.05755\n",
      "Epoch: 17 | Train Loss: 0.07359 | Validation Loss: 0.06651\n",
      "Epoch: 18 | Train Loss: 0.07344 | Validation Loss: 0.05659\n",
      "Epoch: 19 | Train Loss: 0.07240 | Validation Loss: 0.07089\n",
      "Epoch: 20 | Train Loss: 0.07122 | Validation Loss: 0.05671\n",
      "Epoch: 21 | Train Loss: 0.07015 | Validation Loss: 0.05491\n",
      "Epoch: 22 | Train Loss: 0.06990 | Validation Loss: 0.05579\n",
      "Epoch: 23 | Train Loss: 0.06901 | Validation Loss: 0.05452\n",
      "Epoch: 24 | Train Loss: 0.06878 | Validation Loss: 0.05353\n",
      "Epoch: 25 | Train Loss: 0.06764 | Validation Loss: 0.05398\n",
      "Epoch: 26 | Train Loss: 0.06703 | Validation Loss: 0.05638\n",
      "Epoch: 27 | Train Loss: 0.06689 | Validation Loss: 0.05220\n",
      "Epoch: 28 | Train Loss: 0.06616 | Validation Loss: 0.05349\n",
      "Epoch: 29 | Train Loss: 0.06593 | Validation Loss: 0.05180\n",
      "Epoch: 30 | Train Loss: 0.06499 | Validation Loss: 0.05245\n",
      "Epoch: 31 | Train Loss: 0.06480 | Validation Loss: 0.05410\n",
      "Epoch: 32 | Train Loss: 0.06435 | Validation Loss: 0.05153\n",
      "Epoch: 33 | Train Loss: 0.06406 | Validation Loss: 0.05137\n",
      "Epoch: 34 | Train Loss: 0.06351 | Validation Loss: 0.05292\n",
      "Epoch: 35 | Train Loss: 0.06319 | Validation Loss: 0.04982\n",
      "Epoch: 36 | Train Loss: 0.06279 | Validation Loss: 0.05081\n",
      "Epoch: 37 | Train Loss: 0.06219 | Validation Loss: 0.04961\n",
      "Epoch: 38 | Train Loss: 0.06186 | Validation Loss: 0.04902\n",
      "Epoch: 39 | Train Loss: 0.06158 | Validation Loss: 0.04983\n",
      "Epoch: 40 | Train Loss: 0.06131 | Validation Loss: 0.05064\n",
      "Epoch: 41 | Train Loss: 0.06124 | Validation Loss: 0.04978\n",
      "Epoch: 42 | Train Loss: 0.06097 | Validation Loss: 0.04797\n",
      "Epoch: 43 | Train Loss: 0.06041 | Validation Loss: 0.04818\n",
      "Epoch: 44 | Train Loss: 0.06036 | Validation Loss: 0.04765\n",
      "Epoch: 45 | Train Loss: 0.05985 | Validation Loss: 0.04990\n",
      "Epoch: 46 | Train Loss: 0.05971 | Validation Loss: 0.04831\n",
      "Epoch: 47 | Train Loss: 0.05965 | Validation Loss: 0.04907\n",
      "Epoch: 48 | Train Loss: 0.05925 | Validation Loss: 0.04794\n",
      "Epoch: 49 | Train Loss: 0.05900 | Validation Loss: 0.04858\n",
      "Early stopping at epoch 49 after 5 epochs without improvement.\n",
      "...Training done...\n",
      "...Calculating final results...\n",
      "====================================================\n",
      "Final training R2: [0.89161159 0.93799811 0.95227979 0.74935038 0.98641996 0.91842802\n",
      " 0.9745385  0.9616308  0.96969031 0.99637568 0.99706904 0.99706892\n",
      " 0.99706808 0.99706595 0.9907895 ]\n",
      "Average final training R2:  0.9544923088925652\n",
      "Final training loss: 0.04327286117253832\n",
      "Final validation R2: [0.87169609 0.9349665  0.94927343 0.71799741 0.986046   0.91160977\n",
      " 0.97334946 0.95774133 0.96806285 0.99639548 0.99705314 0.99705291\n",
      " 0.99705202 0.99705007 0.99135703]\n",
      "Average validation R2:  0.9497802331056368\n",
      "Final validation loss: 0.0476461296232465\n",
      "Final test R2: [0.87905574 0.93270695 0.94754536 0.66159521 0.98528705 0.90932792\n",
      " 0.97095132 0.95635428 0.96551879 0.99633442 0.99680135 0.99680062\n",
      " 0.99679996 0.99679771 0.99012637]\n",
      "Average final test R2:  0.9454668699809186\n",
      "Final test loss: 0.04924325095579171\n"
     ]
    }
   ],
   "source": [
    "def train(model, batch):\n",
    "      features = batch[:][0]\n",
    "      targets = batch[:][1]\n",
    "      \n",
    "      model.train()\n",
    "      optimizer.zero_grad()  # Clear gradients.\n",
    "      out = model(features).to(device)  # Perform a single forward pass.\n",
    "\n",
    "      loss = criterion(out, targets) \n",
    "\n",
    "      loss.backward()  # Derive gradients.\n",
    "      optimizer.step()  # Update parameters based on gradients.\n",
    "      \n",
    "      return loss\n",
    "\n",
    "def test(model, data):\n",
    "      for i, batch in enumerate(data):\n",
    "            features = batch[:][0]\n",
    "            targets = batch[:][1].cpu()\n",
    "            \n",
    "            model.eval()\n",
    "            out = model(features).cpu()\n",
    "            \n",
    "            # Caculate R2 for each target\n",
    "            for target_idx in range(target_dim):\n",
    "                  if target_idx != 0:\n",
    "                        r2_score_var = np.vstack((r2_score_var, r2_score(targets[:,target_idx].detach().numpy(), \n",
    "                                                          out[:,target_idx].detach().numpy())))\n",
    "                  else:\n",
    "                        r2_score_var = np.array([r2_score(targets[:,target_idx].detach().numpy(),\n",
    "                                                          out[:,target_idx].detach().numpy())])        \n",
    "            all_r2 = np.hstack((all_r2, r2_score_var)) if i != 0 else r2_score_var\n",
    "                  \n",
    "            loss = float(criterion(out, targets).detach().numpy())\n",
    "            all_loss = np.hstack((all_loss, loss)) if i != 0 else np.array(loss)\n",
    "\n",
    "      average_test_r2 = np.mean(all_r2, axis=1)\n",
    "      average_test_loss = np.mean(all_loss)\n",
    "      \n",
    "      return average_test_r2, average_test_loss\n",
    "\n",
    "def early_stopping(val_losses, patience): # returns True if there is no improvement in val_loss\n",
    "      if len(val_losses) < patience:\n",
    "            return False\n",
    "      else:\n",
    "            best_loss = np.min(val_losses)\n",
    "            current_loss = val_losses[-1]\n",
    "            \n",
    "            if current_loss > best_loss:\n",
    "                  return True\n",
    "            else:\n",
    "                  return False\n",
    "\n",
    "feature_dim = train_data[:][0].shape[1]\n",
    "target_dim = train_data[:][1].shape[1]\n",
    "\n",
    "model = DNN(hidden_channels=1024, feature_dim=feature_dim, target_dim=target_dim).to(device) \n",
    "optimizer = torch.optim.Adam(model.parameters(), lr=0.001, weight_decay=5e-4)\n",
    "\n",
    "# Decay for learning rate\n",
    "decay_rate = 0.94\n",
    "lr_scheduler = torch.optim.lr_scheduler.ExponentialLR(optimizer=optimizer, gamma=decay_rate)\n",
    "\n",
    "criterion = torch.nn.MSELoss().to(device)\n",
    "\n",
    "train_params, _ = uf.get_num_parameters(model)\n",
    "print(f\"Trainable parameters: {train_params:,}\")\n",
    "\n",
    "# Vectors to append accuracy to:\n",
    "train_r2 = []\n",
    "train_loss = []\n",
    "test_r2 = []\n",
    "test_loss = []\n",
    "val_r2 = []\n",
    "val_loss = []\n",
    "\n",
    "n_epochs = 100\n",
    "print_every_N_epochs = False\n",
    "N = 10 # print R2 every N epochs\n",
    "\n",
    "epoch_times = []\n",
    "train_times = []\n",
    "test_times = []\n",
    "print()\n",
    "print(\"...Starting training...\")\n",
    "print(\"Device used:\", device)\n",
    "\n",
    "val_losses_epoch = [] # for early stopping\n",
    "patience = 5 # how many epochs to wait for the val loss to improve\n",
    "best_val_loss = np.inf  \n",
    "epochs_without_improvement = 0\n",
    "\n",
    "for epoch in np.arange(1, n_epochs+1):\n",
    "      epoch_start = time.time()\n",
    "      losses = []\n",
    "      train_start = time.time()\n",
    "      for batch in train_loader:\n",
    "            loss = train(model, batch)\n",
    "            losses.append(loss.cpu().detach().numpy())  \n",
    "      # Compute validation loss\n",
    "      model.eval()\n",
    "      val_losses = []\n",
    "      for batch in val_loader:\n",
    "            features = batch[:][0]\n",
    "            targets = batch[:][1]\n",
    "            out = model(features)\n",
    "            val_losses.append(criterion(out, targets).cpu().detach().numpy()) \n",
    "\n",
    "      val_loss_epoch = np.mean(val_losses)\n",
    "      val_losses_epoch.append(val_loss_epoch)\n",
    "      print(f\"Epoch: {epoch:02d} | Train Loss: {np.mean(losses):.5f} | Validation Loss: {val_loss_epoch:.5f}\")\n",
    "      train_end = time.time()\n",
    "      train_times.append(train_end - train_start)\n",
    "      lr_scheduler.step() # Decay to learning rate\n",
    "      \n",
    "      # check for early stopping\n",
    "      if early_stopping(val_losses_epoch, patience) and epoch > patience:\n",
    "            epochs_without_improvement += 1\n",
    "            if epochs_without_improvement >= patience:\n",
    "                  print(f\"Early stopping at epoch {epoch} after {patience} epochs without improvement.\")\n",
    "                  break\n",
    "      else:\n",
    "            epochs_without_improvement = 0\n",
    "            best_val_loss = val_loss_epoch\n",
    "            # save the model\n",
    "            torch.save(model.state_dict(), 'best_features_model.pt')\n",
    "            \n",
    "      if print_every_N_epochs and (epoch % N == 0 or epoch == 1) and epoch != n_epochs:\n",
    "            test_start = time.time()\n",
    "                \n",
    "            r2_temp_val, loss_temp_val = test(model, val_loader)\n",
    "            val_r2.append(r2_temp_val)\n",
    "            val_loss.append(loss_temp_val)\n",
    "            \n",
    "            print(f'Validation R2: {r2_temp_val}')\n",
    "            print(f\"Validation loss: {loss_temp_val}\")\n",
    "            test_end = time.time()\n",
    "            test_times.append(test_end - test_start)\n",
    "            \n",
    "            model.load_state_dict(torch.load('best_features_model.pt'))\n",
    "            \n",
    "      epoch_end = time.time()\n",
    "      epoch_times.append(epoch_end - epoch_start)\n",
    "      \n",
    "print(\"...Training done...\")\n",
    "print(\"...Calculating final results...\")\n",
    "model.load_state_dict(torch.load('best_features_model.pt'))\n",
    "\n",
    "r2_temp_train, loss_temp_train = test(model, train_loader) \n",
    "train_r2.append(r2_temp_train)\n",
    "train_loss.append(loss_temp_train)\n",
    "\n",
    "r2_temp_val, loss_temp_val = test(model, val_loader)\n",
    "val_r2.append(r2_temp_val)\n",
    "val_loss.append(loss_temp_val)\n",
    "\n",
    "r2_temp_test, loss_temp_test = test(model, test_loader)\n",
    "test_r2.append(r2_temp_test)\n",
    "test_loss.append(loss_temp_test)\n",
    "\n",
    "print(\"====================================================\")\n",
    "print(\"Final training R2:\", train_r2[-1])\n",
    "print(\"Average final training R2: \", np.mean(train_r2[-1]))\n",
    "print(\"Final training loss:\", train_loss[-1])\n",
    "\n",
    "print(\"Final validation R2:\", val_r2[-1])\n",
    "print(\"Average validation R2: \", np.mean(val_r2[-1]))\n",
    "print(\"Final validation loss:\", val_loss[-1])\n",
    "\n",
    "print(\"Final test R2:\", test_r2[-1])\n",
    "print(\"Average final test R2: \", np.mean(test_r2[-1]))\n",
    "print(\"Final test loss:\", test_loss[-1])\n",
    "            "
   ]
  },
  {
   "cell_type": "code",
   "execution_count": 22,
   "metadata": {},
   "outputs": [
    {
     "name": "stdout",
     "output_type": "stream",
     "text": [
      "Device used: cuda\n",
      "\n",
      "Total number of epochs: 48\n",
      "Total training time: 2.22 minutes\n",
      "Total time in training: 2.26 minutes\n",
      "Total time in testing: 0.00 minutes\n",
      "\n",
      "Average epoch time: 2.8 seconds\n",
      "Average time in training: 2.8 seconds\n",
      "Average time in testing: nan seconds\n"
     ]
    },
    {
     "name": "stderr",
     "output_type": "stream",
     "text": [
      "c:\\Users\\jespe\\anaconda3\\envs\\proj_env\\lib\\site-packages\\numpy\\core\\fromnumeric.py:3464: RuntimeWarning: Mean of empty slice.\n",
      "  return _methods._mean(a, axis=axis, dtype=dtype,\n",
      "c:\\Users\\jespe\\anaconda3\\envs\\proj_env\\lib\\site-packages\\numpy\\core\\_methods.py:192: RuntimeWarning: invalid value encountered in scalar divide\n",
      "  ret = ret.dtype.type(ret / rcount)\n"
     ]
    }
   ],
   "source": [
    "print(\"Device used:\", device)\n",
    "print()\n",
    "print(f\"Total number of epochs: {len(epoch_times)}\")\n",
    "print(f\"Total training time: {np.sum(epoch_times)/60:.2f} minutes\")\n",
    "print(f\"Total time in training: {np.sum(train_times)/60:.2f} minutes\")\n",
    "print(f\"Total time in testing: {np.sum(test_times)/60:.2f} minutes\")\n",
    "print()\n",
    "print(f\"Average epoch time: {np.mean(epoch_times):.1f} seconds\")\n",
    "print(f\"Average time in training: {np.mean(train_times):.1f} seconds\")\n",
    "print(f\"Average time in testing: {np.mean(test_times):.1f} seconds\")"
   ]
  }
 ],
 "metadata": {
  "kernelspec": {
   "display_name": "Python 3",
   "language": "python",
   "name": "python3"
  },
  "language_info": {
   "codemirror_mode": {
    "name": "ipython",
    "version": 3
   },
   "file_extension": ".py",
   "mimetype": "text/x-python",
   "name": "python",
   "nbconvert_exporter": "python",
   "pygments_lexer": "ipython3",
   "version": "3.10.10"
  },
  "orig_nbformat": 4
 },
 "nbformat": 4,
 "nbformat_minor": 2
}
