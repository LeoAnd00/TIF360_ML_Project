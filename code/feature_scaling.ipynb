{
 "cells": [
  {
   "attachments": {},
   "cell_type": "markdown",
   "metadata": {},
   "source": [
    "# TIF360 Project"
   ]
  },
  {
   "attachments": {},
   "cell_type": "markdown",
   "metadata": {},
   "source": [
    "Main source: https://www.kaggle.com/code/rmonge/predicting-molecule-properties-based-on-its-smiles/notebook"
   ]
  },
  {
   "attachments": {},
   "cell_type": "markdown",
   "metadata": {},
   "source": [
    "### Import packages"
   ]
  },
  {
   "cell_type": "code",
   "execution_count": 72,
   "metadata": {},
   "outputs": [],
   "source": [
    "import os\n",
    "import rdkit\n",
    "from rdkit import Chem  # To extract information of the molecules\n",
    "from rdkit.Chem import Draw  # To draw the molecules\n",
    "import numpy as np\n",
    "import pandas as pd\n",
    "import matplotlib.pyplot as plt\n",
    "import random\n",
    "\n",
    "import torch\n",
    "import torch_geometric\n",
    "from torch_geometric.loader import DataLoader\n",
    "import torch_geometric.utils as utils\n",
    "import networkx as nx\n",
    "from torch.nn import Linear\n",
    "from torch_geometric.nn import global_mean_pool, GraphConv, GATConv, GCNConv\n",
    "import torch.nn.functional as F\n",
    "\n",
    "from sklearn.metrics import r2_score"
   ]
  },
  {
   "attachments": {},
   "cell_type": "markdown",
   "metadata": {},
   "source": [
    "### Load data"
   ]
  },
  {
   "cell_type": "code",
   "execution_count": 73,
   "metadata": {},
   "outputs": [],
   "source": [
    "df = pd.read_csv(\"../data/smiles_and_targets.csv\")\n",
    "print(np.shape(df))"
   ]
  },
  {
   "attachments": {},
   "cell_type": "markdown",
   "metadata": {},
   "source": [
    "### Load descriptors"
   ]
  },
  {
   "cell_type": "code",
   "execution_count": 74,
   "metadata": {},
   "outputs": [],
   "source": [
    "mol_descriptor = np.load(\"../data/mol_descriptors.npy\")\n",
    "print(np.shape(mol_descriptor))"
   ]
  },
  {
   "attachments": {},
   "cell_type": "markdown",
   "metadata": {},
   "source": [
    "### Load Morgan fingerprints"
   ]
  },
  {
   "cell_type": "code",
   "execution_count": 75,
   "metadata": {},
   "outputs": [],
   "source": [
    "mol_fingerprints = np.load(\"../data/mol_morgan_fingerprints.npy\")\n",
    "print(np.shape(mol_fingerprints))"
   ]
  },
  {
   "attachments": {},
   "cell_type": "markdown",
   "metadata": {},
   "source": [
    "# Investigate Neural Networks"
   ]
  },
  {
   "attachments": {},
   "cell_type": "markdown",
   "metadata": {},
   "source": [
    "## Graph Neural Networks"
   ]
  },
  {
   "attachments": {},
   "cell_type": "markdown",
   "metadata": {},
   "source": [
    "#### Convert data to graphs"
   ]
  },
  {
   "cell_type": "code",
   "execution_count": 76,
   "metadata": {},
   "outputs": [],
   "source": [
    "# import packages\n",
    "import torch\n",
    "from torch_geometric.data import Data\n",
    "from torch.utils.data import DataLoader"
   ]
  },
  {
   "attachments": {},
   "cell_type": "markdown",
   "metadata": {},
   "source": [
    "We use the above functions to create a dataset of molecular graphs from the smiles and labels corresponding to chemical properties"
   ]
  },
  {
   "cell_type": "code",
   "execution_count": 98,
   "metadata": {},
   "outputs": [],
   "source": [
    "from graph_dataset_functions import create_graph_dataset_from_smiles\n",
    "\n",
    "properties_names = ['A', 'B', 'C', 'mu', 'alfa', 'homo', 'lumo', 'gap', 'R²', 'zpve', 'U0', 'U', 'H', 'G', 'Cv']\n",
    "\n",
    "x_smiles = df.smiles.values\n",
    "y = df.loc[:, properties_names].values  # shape = (n_samples, n_properties)\n",
    "\n",
    "dataset = create_graph_dataset_from_smiles(x_smiles, y[0:len(x_smiles), :])"
   ]
  },
  {
   "attachments": {},
   "cell_type": "markdown",
   "metadata": {},
   "source": [
    "Information of the graph dataset"
   ]
  },
  {
   "cell_type": "code",
   "execution_count": 99,
   "metadata": {},
   "outputs": [
    {
     "name": "stdout",
     "output_type": "stream",
     "text": [
      "Number of graphs (molecules): 132820\n",
      "=================================================================================\n",
      "Properties of graph 50\n",
      "molecule smiles: {df.smiles.values[50]}\n",
      "Number of nodes: 6\n",
      "Number of edges: 12\n",
      "Number of node features: 81\n",
      "Number of edge features: 10\n",
      "Number of properties: 15\n"
     ]
    }
   ],
   "source": [
    "print(f'Number of graphs (molecules): {len(dataset)}')\n",
    "graph = dataset[50]\n",
    "print('=================================================================================')\n",
    "print(f'Properties of graph 50')\n",
    "print('molecule smiles: {df.smiles.values[50]}')\n",
    "print(f'Number of nodes: {dataset[50].x.shape[0]}')\n",
    "print(f'Number of edges: {dataset[50].edge_index.shape[1]}')\n",
    "print(f'Number of node features: {dataset[50].x.shape[1]}')\n",
    "print(f'Number of edge features: {dataset[50].edge_attr.shape[1]}')\n",
    "print(f'Number of properties: {dataset[50].y.shape[1]}')"
   ]
  },
  {
   "attachments": {},
   "cell_type": "markdown",
   "metadata": {},
   "source": [
    "Filterout data with no edge features defined (Like ex: CH4) (These causes problems down the line)"
   ]
  },
  {
   "cell_type": "code",
   "execution_count": 100,
   "metadata": {},
   "outputs": [
    {
     "name": "stdout",
     "output_type": "stream",
     "text": [
      "Number of none edge feature molecules:  0\n",
      "Before:  132820\n",
      "After:  132820\n"
     ]
    }
   ],
   "source": [
    "indexes_to_delete = []\n",
    "for item in range(0,len(dataset)):\n",
    "    if dataset[item].edge_attr.shape[1] == 0:\n",
    "        indexes_to_delete.append(item)\n",
    "    else:\n",
    "        pass\n",
    "\n",
    "indexes_to_delete.sort()\n",
    "\n",
    "print(\"Number of none edge feature molecules: \", len(indexes_to_delete))\n",
    "\n",
    "print(\"Before: \", len(dataset))\n",
    "\n",
    "for item in range(0,len(indexes_to_delete)):\n",
    "    print(\"Molecule to delete: \", df.smiles.values[indexes_to_delete[item]])\n",
    "    #del dataset[indexes_to_delete[item] - item] \n",
    "    dataset.pop((indexes_to_delete[item] - item)) # -item since all future data points will have its index reduced by 1 for each deleted previous data point\n",
    "print(\"After: \", len(dataset))"
   ]
  },
  {
   "attachments": {},
   "cell_type": "markdown",
   "metadata": {},
   "source": [
    "Split data into train and test set"
   ]
  },
  {
   "cell_type": "code",
   "execution_count": 101,
   "metadata": {},
   "outputs": [
    {
     "name": "stdout",
     "output_type": "stream",
     "text": [
      "Example train data target vector before scaling:\n",
      "[[ 2.9692900e+00  1.9776900e+00  1.8422800e+00  1.2093000e+00\n",
      "   8.4059998e+01 -1.8970001e-01 -7.0400000e-02  1.1930000e-01\n",
      "   8.7338800e+02  1.5987501e-01 -3.4861154e+02 -3.4860477e+02\n",
      "  -3.4860382e+02 -3.4864203e+02  2.9188999e+01]]\n"
     ]
    }
   ],
   "source": [
    "from torch_geometric.loader import DataLoader\n",
    "from sklearn.preprocessing import StandardScaler, MinMaxScaler\n",
    "\n",
    "# split the dataset into test and validation:\n",
    "num_samples = len(dataset)\n",
    "\n",
    "# Want to divide data randomly\n",
    "random.seed(42)\n",
    "random_indexes = np.array(random.sample(range(num_samples), num_samples)) # random.sample ensures no duplicates\n",
    "\n",
    "train_data = [dataset[index] for index in random_indexes[int(.2 * num_samples ) :]] # 80%\n",
    "test_data = [dataset[index] for index in random_indexes[: int(.2 * num_samples )]] # 20%\n",
    "\n",
    "print(\"Example train data target vector before scaling:\")\n",
    "print(train_data[0].y.numpy())"
   ]
  },
  {
   "attachments": {},
   "cell_type": "markdown",
   "metadata": {},
   "source": [
    "Normalize numerical node features"
   ]
  },
  {
   "cell_type": "code",
   "execution_count": 102,
   "metadata": {},
   "outputs": [
    {
     "name": "stdout",
     "output_type": "stream",
     "text": [
      "Feature matrix shape: (935599, 81)\n",
      "Example train data features before scaling:\n",
      "[ 1.     0.     0.     0.     0.     0.     0.     0.     0.     0.\n",
      "  0.     0.     0.     0.     0.     0.     0.     0.     0.     0.\n",
      "  0.     0.     0.     0.     0.     0.     0.     0.     0.     0.\n",
      "  0.     0.     0.     0.     0.     0.     0.     0.     0.     0.\n",
      "  0.     0.     0.     0.     1.     0.     0.     0.     0.     0.\n",
      "  0.     0.     1.     0.     0.     0.     0.     0.     0.     0.\n",
      "  1.     0.     0.     0.     1.     0.     1.     0.     1.     0.\n",
      "  0.     0.     0.     0.     0.     1.     0.     0.    12.011  1.7\n",
      "  0.68 ]\n",
      "The final 3 features are the numerical ones to be scaled\n",
      "[12.011  1.7    0.68 ]\n"
     ]
    }
   ],
   "source": [
    "train_data_features = torch.cat([data.x for data in train_data], axis=0)\n",
    "test_data_features = torch.cat([data.x for data in test_data], axis=0)\n",
    "\n",
    "print(\"Feature matrix shape:\", train_data_features.numpy().shape)\n",
    "print(\"Example train data features before scaling:\")\n",
    "print(train_data_features[0].numpy())\n",
    "print(\"The final 3 features are the numerical ones to be scaled\")\n",
    "print(train_data_features[0][-3:].numpy())\n",
    "\n",
    "train_data_num_features = train_data_features[:, -3:].numpy()\n",
    "test_data_num_features = test_data_features[:, -3:].numpy()\n",
    "\n",
    "df_train_data_num_features = pd.DataFrame(train_data_num_features)\n",
    "df_train_data_num_features.columns = ['atomic_mass', 'VDW_radius', 'covalent_radius']"
   ]
  },
  {
   "cell_type": "code",
   "execution_count": 103,
   "metadata": {},
   "outputs": [
    {
     "data": {
      "text/html": [
       "<div>\n",
       "<style scoped>\n",
       "    .dataframe tbody tr th:only-of-type {\n",
       "        vertical-align: middle;\n",
       "    }\n",
       "\n",
       "    .dataframe tbody tr th {\n",
       "        vertical-align: top;\n",
       "    }\n",
       "\n",
       "    .dataframe thead th {\n",
       "        text-align: right;\n",
       "    }\n",
       "</style>\n",
       "<table border=\"1\" class=\"dataframe\">\n",
       "  <thead>\n",
       "    <tr style=\"text-align: right;\">\n",
       "      <th></th>\n",
       "      <th>atomic_mass</th>\n",
       "      <th>VDW_radius</th>\n",
       "      <th>covalent_radius</th>\n",
       "    </tr>\n",
       "  </thead>\n",
       "  <tbody>\n",
       "    <tr>\n",
       "      <th>count</th>\n",
       "      <td>935599.000000</td>\n",
       "      <td>935599.000000</td>\n",
       "      <td>935599.000000</td>\n",
       "    </tr>\n",
       "    <tr>\n",
       "      <th>mean</th>\n",
       "      <td>12.902596</td>\n",
       "      <td>1.663674</td>\n",
       "      <td>0.679892</td>\n",
       "    </tr>\n",
       "    <tr>\n",
       "      <th>std</th>\n",
       "      <td>1.531384</td>\n",
       "      <td>0.059687</td>\n",
       "      <td>0.002076</td>\n",
       "    </tr>\n",
       "    <tr>\n",
       "      <th>min</th>\n",
       "      <td>12.011000</td>\n",
       "      <td>1.500000</td>\n",
       "      <td>0.640000</td>\n",
       "    </tr>\n",
       "    <tr>\n",
       "      <th>25%</th>\n",
       "      <td>12.011000</td>\n",
       "      <td>1.600000</td>\n",
       "      <td>0.680000</td>\n",
       "    </tr>\n",
       "    <tr>\n",
       "      <th>50%</th>\n",
       "      <td>12.011000</td>\n",
       "      <td>1.700000</td>\n",
       "      <td>0.680000</td>\n",
       "    </tr>\n",
       "    <tr>\n",
       "      <th>75%</th>\n",
       "      <td>14.007000</td>\n",
       "      <td>1.700000</td>\n",
       "      <td>0.680000</td>\n",
       "    </tr>\n",
       "    <tr>\n",
       "      <th>max</th>\n",
       "      <td>18.997999</td>\n",
       "      <td>1.700000</td>\n",
       "      <td>0.680000</td>\n",
       "    </tr>\n",
       "  </tbody>\n",
       "</table>\n",
       "</div>"
      ],
      "text/plain": [
       "         atomic_mass     VDW_radius  covalent_radius\n",
       "count  935599.000000  935599.000000    935599.000000\n",
       "mean       12.902596       1.663674         0.679892\n",
       "std         1.531384       0.059687         0.002076\n",
       "min        12.011000       1.500000         0.640000\n",
       "25%        12.011000       1.600000         0.680000\n",
       "50%        12.011000       1.700000         0.680000\n",
       "75%        14.007000       1.700000         0.680000\n",
       "max        18.997999       1.700000         0.680000"
      ]
     },
     "execution_count": 103,
     "metadata": {},
     "output_type": "execute_result"
    }
   ],
   "source": [
    "df_train_data_num_features.describe()"
   ]
  },
  {
   "cell_type": "code",
   "execution_count": 104,
   "metadata": {},
   "outputs": [
    {
     "data": {
      "text/plain": [
       "atomic_mass  VDW_radius  covalent_radius\n",
       "12.011000    1.70        0.68               672830\n",
       "15.999000    1.55        0.68               149136\n",
       "14.007000    1.60        0.68               111107\n",
       "18.997999    1.50        0.64                 2526\n",
       "dtype: int64"
      ]
     },
     "execution_count": 104,
     "metadata": {},
     "output_type": "execute_result"
    }
   ],
   "source": [
    "df_train_data_num_features.value_counts()"
   ]
  },
  {
   "cell_type": "code",
   "execution_count": 105,
   "metadata": {},
   "outputs": [
    {
     "data": {
      "image/png": "[encoded data removed]",
      "text/plain": [
       "<Figure size 1000x1000 with 4 Axes>"
      ]
     },
     "metadata": {},
     "output_type": "display_data"
    }
   ],
   "source": [
    "hist = df_train_data_num_features.hist(bins=10, figsize=(10,10))\n",
    "plt.ylim(0, 1000)\n",
    "plt.show()"
   ]
  },
  {
   "attachments": {},
   "cell_type": "markdown",
   "metadata": {},
   "source": [
    "Normalize target vectors"
   ]
  },
  {
   "cell_type": "code",
   "execution_count": 106,
   "metadata": {},
   "outputs": [
    {
     "name": "stdout",
     "output_type": "stream",
     "text": [
      "Example train data target after scaling:\n",
      "[[-0.33502066  1.3299793   2.2841105  -1.0263553   1.0990419   2.2975376\n",
      "  -1.7445427  -2.7966008  -1.1526545   0.33569613  1.6154975   1.6154622\n",
      "   1.6154623   1.6155523  -0.606702  ]]\n",
      "Total data size:  132820\n",
      "Train data size:  106256\n",
      "Test data size:  26564\n"
     ]
    }
   ],
   "source": [
    "train_data_targets = torch.cat([data.y for data in train_data], axis=0)\n",
    "test_data_targets = torch.cat([data.y for data in test_data], axis=0)\n",
    "\n",
    "scaler = StandardScaler()\n",
    "train_data_targets = scaler.fit_transform(train_data_targets)\n",
    "test_data_targets = scaler.transform(test_data_targets)\n",
    "\n",
    "# print(\"Example train data target\", train_data_targets[0].reshape(1,-1).shape)\n",
    "train_data_targets = torch.tensor(train_data_targets, dtype=torch.float)\n",
    "test_data_targets = torch.tensor(test_data_targets, dtype=torch.float)\n",
    "\n",
    "train_data = [Data(x=data.x, edge_index=data.edge_index, edge_attr=data.edge_attr, y=train_data_targets[index].reshape(1,-1)) for index, data in enumerate(train_data)]\n",
    "test_data = [Data(x=data.x, edge_index=data.edge_index, edge_attr=data.edge_attr, y=test_data_targets[index].reshape(1,-1)) for index, data in enumerate(test_data)]\n",
    "print(\"Example train data target after scaling:\")\n",
    "print(train_data[0].y.numpy())\n",
    "\n",
    "print(\"Total data size: \", len(dataset))\n",
    "print(\"Train data size: \", len(train_data))\n",
    "print(\"Test data size: \", len(test_data))"
   ]
  },
  {
   "attachments": {},
   "cell_type": "markdown",
   "metadata": {},
   "source": [
    "Scale molecular descriptors"
   ]
  },
  {
   "cell_type": "code",
   "execution_count": 149,
   "metadata": {},
   "outputs": [],
   "source": [
    "mol_descriptor = np.load(\"../data/mol_descriptors.npy\")\n",
    "mol_fingerprints = np.load(\"../data/mol_morgan_fingerprints.npy\")"
   ]
  },
  {
   "cell_type": "code",
   "execution_count": 150,
   "metadata": {},
   "outputs": [
    {
     "name": "stdout",
     "output_type": "stream",
     "text": [
      "Shape of mol_descriptors: (132820, 209)\n"
     ]
    },
    {
     "data": {
      "text/html": [
       "<div>\n",
       "<style scoped>\n",
       "    .dataframe tbody tr th:only-of-type {\n",
       "        vertical-align: middle;\n",
       "    }\n",
       "\n",
       "    .dataframe tbody tr th {\n",
       "        vertical-align: top;\n",
       "    }\n",
       "\n",
       "    .dataframe thead th {\n",
       "        text-align: right;\n",
       "    }\n",
       "</style>\n",
       "<table border=\"1\" class=\"dataframe\">\n",
       "  <thead>\n",
       "    <tr style=\"text-align: right;\">\n",
       "      <th></th>\n",
       "      <th>0</th>\n",
       "      <th>1</th>\n",
       "      <th>2</th>\n",
       "      <th>3</th>\n",
       "      <th>4</th>\n",
       "      <th>5</th>\n",
       "      <th>6</th>\n",
       "      <th>7</th>\n",
       "      <th>8</th>\n",
       "      <th>9</th>\n",
       "      <th>...</th>\n",
       "      <th>199</th>\n",
       "      <th>200</th>\n",
       "      <th>201</th>\n",
       "      <th>202</th>\n",
       "      <th>203</th>\n",
       "      <th>204</th>\n",
       "      <th>205</th>\n",
       "      <th>206</th>\n",
       "      <th>207</th>\n",
       "      <th>208</th>\n",
       "    </tr>\n",
       "  </thead>\n",
       "  <tbody>\n",
       "    <tr>\n",
       "      <th>count</th>\n",
       "      <td>1.328200e+05</td>\n",
       "      <td>1.328200e+05</td>\n",
       "      <td>132820.000000</td>\n",
       "      <td>132820.000000</td>\n",
       "      <td>1.328200e+05</td>\n",
       "      <td>1.328200e+05</td>\n",
       "      <td>1.328200e+05</td>\n",
       "      <td>1.328200e+05</td>\n",
       "      <td>132820.0</td>\n",
       "      <td>132820.0</td>\n",
       "      <td>...</td>\n",
       "      <td>132820.0</td>\n",
       "      <td>132820.0</td>\n",
       "      <td>132820.0</td>\n",
       "      <td>132820.0</td>\n",
       "      <td>132820.0</td>\n",
       "      <td>132820.0</td>\n",
       "      <td>132820.0</td>\n",
       "      <td>132820.0</td>\n",
       "      <td>132820.0</td>\n",
       "      <td>132820.0</td>\n",
       "    </tr>\n",
       "    <tr>\n",
       "      <th>mean</th>\n",
       "      <td>1.007764e+01</td>\n",
       "      <td>1.007764e+01</td>\n",
       "      <td>0.085046</td>\n",
       "      <td>0.085046</td>\n",
       "      <td>5.215844e-01</td>\n",
       "      <td>1.021330e+02</td>\n",
       "      <td>9.205300e+01</td>\n",
       "      <td>1.020681e+02</td>\n",
       "      <td>42.0</td>\n",
       "      <td>0.0</td>\n",
       "      <td>...</td>\n",
       "      <td>0.0</td>\n",
       "      <td>0.0</td>\n",
       "      <td>0.0</td>\n",
       "      <td>0.0</td>\n",
       "      <td>0.0</td>\n",
       "      <td>0.0</td>\n",
       "      <td>0.0</td>\n",
       "      <td>0.0</td>\n",
       "      <td>0.0</td>\n",
       "      <td>0.0</td>\n",
       "    </tr>\n",
       "    <tr>\n",
       "      <th>std</th>\n",
       "      <td>1.776364e-15</td>\n",
       "      <td>1.776364e-15</td>\n",
       "      <td>0.000000</td>\n",
       "      <td>0.000000</td>\n",
       "      <td>2.220454e-16</td>\n",
       "      <td>2.842182e-14</td>\n",
       "      <td>2.842182e-14</td>\n",
       "      <td>4.263272e-14</td>\n",
       "      <td>0.0</td>\n",
       "      <td>0.0</td>\n",
       "      <td>...</td>\n",
       "      <td>0.0</td>\n",
       "      <td>0.0</td>\n",
       "      <td>0.0</td>\n",
       "      <td>0.0</td>\n",
       "      <td>0.0</td>\n",
       "      <td>0.0</td>\n",
       "      <td>0.0</td>\n",
       "      <td>0.0</td>\n",
       "      <td>0.0</td>\n",
       "      <td>0.0</td>\n",
       "    </tr>\n",
       "    <tr>\n",
       "      <th>min</th>\n",
       "      <td>1.007764e+01</td>\n",
       "      <td>1.007764e+01</td>\n",
       "      <td>0.085046</td>\n",
       "      <td>0.085046</td>\n",
       "      <td>5.215844e-01</td>\n",
       "      <td>1.021330e+02</td>\n",
       "      <td>9.205300e+01</td>\n",
       "      <td>1.020681e+02</td>\n",
       "      <td>42.0</td>\n",
       "      <td>0.0</td>\n",
       "      <td>...</td>\n",
       "      <td>0.0</td>\n",
       "      <td>0.0</td>\n",
       "      <td>0.0</td>\n",
       "      <td>0.0</td>\n",
       "      <td>0.0</td>\n",
       "      <td>0.0</td>\n",
       "      <td>0.0</td>\n",
       "      <td>0.0</td>\n",
       "      <td>0.0</td>\n",
       "      <td>0.0</td>\n",
       "    </tr>\n",
       "    <tr>\n",
       "      <th>25%</th>\n",
       "      <td>1.007764e+01</td>\n",
       "      <td>1.007764e+01</td>\n",
       "      <td>0.085046</td>\n",
       "      <td>0.085046</td>\n",
       "      <td>5.215844e-01</td>\n",
       "      <td>1.021330e+02</td>\n",
       "      <td>9.205300e+01</td>\n",
       "      <td>1.020681e+02</td>\n",
       "      <td>42.0</td>\n",
       "      <td>0.0</td>\n",
       "      <td>...</td>\n",
       "      <td>0.0</td>\n",
       "      <td>0.0</td>\n",
       "      <td>0.0</td>\n",
       "      <td>0.0</td>\n",
       "      <td>0.0</td>\n",
       "      <td>0.0</td>\n",
       "      <td>0.0</td>\n",
       "      <td>0.0</td>\n",
       "      <td>0.0</td>\n",
       "      <td>0.0</td>\n",
       "    </tr>\n",
       "    <tr>\n",
       "      <th>50%</th>\n",
       "      <td>1.007764e+01</td>\n",
       "      <td>1.007764e+01</td>\n",
       "      <td>0.085046</td>\n",
       "      <td>0.085046</td>\n",
       "      <td>5.215844e-01</td>\n",
       "      <td>1.021330e+02</td>\n",
       "      <td>9.205300e+01</td>\n",
       "      <td>1.020681e+02</td>\n",
       "      <td>42.0</td>\n",
       "      <td>0.0</td>\n",
       "      <td>...</td>\n",
       "      <td>0.0</td>\n",
       "      <td>0.0</td>\n",
       "      <td>0.0</td>\n",
       "      <td>0.0</td>\n",
       "      <td>0.0</td>\n",
       "      <td>0.0</td>\n",
       "      <td>0.0</td>\n",
       "      <td>0.0</td>\n",
       "      <td>0.0</td>\n",
       "      <td>0.0</td>\n",
       "    </tr>\n",
       "    <tr>\n",
       "      <th>75%</th>\n",
       "      <td>1.007764e+01</td>\n",
       "      <td>1.007764e+01</td>\n",
       "      <td>0.085046</td>\n",
       "      <td>0.085046</td>\n",
       "      <td>5.215844e-01</td>\n",
       "      <td>1.021330e+02</td>\n",
       "      <td>9.205300e+01</td>\n",
       "      <td>1.020681e+02</td>\n",
       "      <td>42.0</td>\n",
       "      <td>0.0</td>\n",
       "      <td>...</td>\n",
       "      <td>0.0</td>\n",
       "      <td>0.0</td>\n",
       "      <td>0.0</td>\n",
       "      <td>0.0</td>\n",
       "      <td>0.0</td>\n",
       "      <td>0.0</td>\n",
       "      <td>0.0</td>\n",
       "      <td>0.0</td>\n",
       "      <td>0.0</td>\n",
       "      <td>0.0</td>\n",
       "    </tr>\n",
       "    <tr>\n",
       "      <th>max</th>\n",
       "      <td>1.007764e+01</td>\n",
       "      <td>1.007764e+01</td>\n",
       "      <td>0.085046</td>\n",
       "      <td>0.085046</td>\n",
       "      <td>5.215844e-01</td>\n",
       "      <td>1.021330e+02</td>\n",
       "      <td>9.205300e+01</td>\n",
       "      <td>1.020681e+02</td>\n",
       "      <td>42.0</td>\n",
       "      <td>0.0</td>\n",
       "      <td>...</td>\n",
       "      <td>0.0</td>\n",
       "      <td>0.0</td>\n",
       "      <td>0.0</td>\n",
       "      <td>0.0</td>\n",
       "      <td>0.0</td>\n",
       "      <td>0.0</td>\n",
       "      <td>0.0</td>\n",
       "      <td>0.0</td>\n",
       "      <td>0.0</td>\n",
       "      <td>0.0</td>\n",
       "    </tr>\n",
       "  </tbody>\n",
       "</table>\n",
       "<p>8 rows × 209 columns</p>\n",
       "</div>"
      ],
      "text/plain": [
       "                0             1              2              3             4    \\\n",
       "count  1.328200e+05  1.328200e+05  132820.000000  132820.000000  1.328200e+05   \n",
       "mean   1.007764e+01  1.007764e+01       0.085046       0.085046  5.215844e-01   \n",
       "std    1.776364e-15  1.776364e-15       0.000000       0.000000  2.220454e-16   \n",
       "min    1.007764e+01  1.007764e+01       0.085046       0.085046  5.215844e-01   \n",
       "25%    1.007764e+01  1.007764e+01       0.085046       0.085046  5.215844e-01   \n",
       "50%    1.007764e+01  1.007764e+01       0.085046       0.085046  5.215844e-01   \n",
       "75%    1.007764e+01  1.007764e+01       0.085046       0.085046  5.215844e-01   \n",
       "max    1.007764e+01  1.007764e+01       0.085046       0.085046  5.215844e-01   \n",
       "\n",
       "                5             6             7         8         9    ...  \\\n",
       "count  1.328200e+05  1.328200e+05  1.328200e+05  132820.0  132820.0  ...   \n",
       "mean   1.021330e+02  9.205300e+01  1.020681e+02      42.0       0.0  ...   \n",
       "std    2.842182e-14  2.842182e-14  4.263272e-14       0.0       0.0  ...   \n",
       "min    1.021330e+02  9.205300e+01  1.020681e+02      42.0       0.0  ...   \n",
       "25%    1.021330e+02  9.205300e+01  1.020681e+02      42.0       0.0  ...   \n",
       "50%    1.021330e+02  9.205300e+01  1.020681e+02      42.0       0.0  ...   \n",
       "75%    1.021330e+02  9.205300e+01  1.020681e+02      42.0       0.0  ...   \n",
       "max    1.021330e+02  9.205300e+01  1.020681e+02      42.0       0.0  ...   \n",
       "\n",
       "            199       200       201       202       203       204       205  \\\n",
       "count  132820.0  132820.0  132820.0  132820.0  132820.0  132820.0  132820.0   \n",
       "mean        0.0       0.0       0.0       0.0       0.0       0.0       0.0   \n",
       "std         0.0       0.0       0.0       0.0       0.0       0.0       0.0   \n",
       "min         0.0       0.0       0.0       0.0       0.0       0.0       0.0   \n",
       "25%         0.0       0.0       0.0       0.0       0.0       0.0       0.0   \n",
       "50%         0.0       0.0       0.0       0.0       0.0       0.0       0.0   \n",
       "75%         0.0       0.0       0.0       0.0       0.0       0.0       0.0   \n",
       "max         0.0       0.0       0.0       0.0       0.0       0.0       0.0   \n",
       "\n",
       "            206       207       208  \n",
       "count  132820.0  132820.0  132820.0  \n",
       "mean        0.0       0.0       0.0  \n",
       "std         0.0       0.0       0.0  \n",
       "min         0.0       0.0       0.0  \n",
       "25%         0.0       0.0       0.0  \n",
       "50%         0.0       0.0       0.0  \n",
       "75%         0.0       0.0       0.0  \n",
       "max         0.0       0.0       0.0  \n",
       "\n",
       "[8 rows x 209 columns]"
      ]
     },
     "execution_count": 150,
     "metadata": {},
     "output_type": "execute_result"
    }
   ],
   "source": [
    "df_mol_descriptors = pd.DataFrame(mol_descriptor)\n",
    "print(\"Shape of mol_descriptors:\", np.shape(df_mol_descriptors))\n",
    "df_mol_descriptors.describe()"
   ]
  },
  {
   "attachments": {},
   "cell_type": "markdown",
   "metadata": {},
   "source": [
    "Remove non-informative molecular descriptors"
   ]
  },
  {
   "cell_type": "code",
   "execution_count": null,
   "metadata": {},
   "outputs": [],
   "source": [
    "df_mol_descriptors"
   ]
  },
  {
   "attachments": {},
   "cell_type": "markdown",
   "metadata": {},
   "source": [
    "Divide descriptors and fingerprints into train and test"
   ]
  },
  {
   "cell_type": "code",
   "execution_count": 129,
   "metadata": {},
   "outputs": [],
   "source": [
    "train_data_descriptor = [mol_descriptor[index,:] for index in random_indexes[int(.2 * num_samples ) :]] # 80%\n",
    "test_data_desriptors = [mol_descriptor[index,:] for index in random_indexes[: int(.2 * num_samples )]] # 20%\n",
    "\n",
    "train_data_fingerprints = [mol_fingerprints[index,:] for index in random_indexes[int(.2 * num_samples ) :]] # 80%\n",
    "test_data_fingerprints = [mol_fingerprints[index,:] for index in random_indexes[: int(.2 * num_samples )]] # 20%"
   ]
  },
  {
   "attachments": {},
   "cell_type": "markdown",
   "metadata": {},
   "source": [
    "Normalize using MinMax"
   ]
  },
  {
   "cell_type": "code",
   "execution_count": 120,
   "metadata": {},
   "outputs": [],
   "source": [
    "minmax_scaler = MinMaxScaler()\n",
    "\n",
    "train_data_descriptor = minmax_scaler.fit_transform(train_data_descriptor)\n",
    "\n",
    "test_data_desriptors = minmax_scaler.transform(test_data_desriptors)"
   ]
  },
  {
   "cell_type": "code",
   "execution_count": 160,
   "metadata": {},
   "outputs": [
    {
     "name": "stdout",
     "output_type": "stream",
     "text": [
      "(209,)\n",
      "Number of unique values in each column:\n",
      "1\n"
     ]
    },
    {
     "data": {
      "text/html": [
       "<div>\n",
       "<style scoped>\n",
       "    .dataframe tbody tr th:only-of-type {\n",
       "        vertical-align: middle;\n",
       "    }\n",
       "\n",
       "    .dataframe tbody tr th {\n",
       "        vertical-align: top;\n",
       "    }\n",
       "\n",
       "    .dataframe thead th {\n",
       "        text-align: right;\n",
       "    }\n",
       "</style>\n",
       "<table border=\"1\" class=\"dataframe\">\n",
       "  <thead>\n",
       "    <tr style=\"text-align: right;\">\n",
       "      <th></th>\n",
       "      <th>0</th>\n",
       "      <th>1</th>\n",
       "      <th>2</th>\n",
       "      <th>3</th>\n",
       "      <th>4</th>\n",
       "      <th>5</th>\n",
       "      <th>6</th>\n",
       "      <th>7</th>\n",
       "      <th>8</th>\n",
       "      <th>9</th>\n",
       "      <th>...</th>\n",
       "      <th>199</th>\n",
       "      <th>200</th>\n",
       "      <th>201</th>\n",
       "      <th>202</th>\n",
       "      <th>203</th>\n",
       "      <th>204</th>\n",
       "      <th>205</th>\n",
       "      <th>206</th>\n",
       "      <th>207</th>\n",
       "      <th>208</th>\n",
       "    </tr>\n",
       "  </thead>\n",
       "  <tbody>\n",
       "    <tr>\n",
       "      <th>count</th>\n",
       "      <td>1.062560e+05</td>\n",
       "      <td>1.062560e+05</td>\n",
       "      <td>106256.000000</td>\n",
       "      <td>106256.000000</td>\n",
       "      <td>1.062560e+05</td>\n",
       "      <td>1.062560e+05</td>\n",
       "      <td>106256.000</td>\n",
       "      <td>1.062560e+05</td>\n",
       "      <td>106256.0</td>\n",
       "      <td>106256.0</td>\n",
       "      <td>...</td>\n",
       "      <td>106256.0</td>\n",
       "      <td>106256.0</td>\n",
       "      <td>106256.0</td>\n",
       "      <td>106256.0</td>\n",
       "      <td>106256.0</td>\n",
       "      <td>106256.0</td>\n",
       "      <td>106256.0</td>\n",
       "      <td>106256.0</td>\n",
       "      <td>106256.0</td>\n",
       "      <td>106256.0</td>\n",
       "    </tr>\n",
       "    <tr>\n",
       "      <th>mean</th>\n",
       "      <td>1.007764e+01</td>\n",
       "      <td>1.007764e+01</td>\n",
       "      <td>0.085046</td>\n",
       "      <td>0.085046</td>\n",
       "      <td>5.215844e-01</td>\n",
       "      <td>1.021330e+02</td>\n",
       "      <td>92.053</td>\n",
       "      <td>1.020681e+02</td>\n",
       "      <td>42.0</td>\n",
       "      <td>0.0</td>\n",
       "      <td>...</td>\n",
       "      <td>0.0</td>\n",
       "      <td>0.0</td>\n",
       "      <td>0.0</td>\n",
       "      <td>0.0</td>\n",
       "      <td>0.0</td>\n",
       "      <td>0.0</td>\n",
       "      <td>0.0</td>\n",
       "      <td>0.0</td>\n",
       "      <td>0.0</td>\n",
       "      <td>0.0</td>\n",
       "    </tr>\n",
       "    <tr>\n",
       "      <th>std</th>\n",
       "      <td>3.552730e-15</td>\n",
       "      <td>3.552730e-15</td>\n",
       "      <td>0.000000</td>\n",
       "      <td>0.000000</td>\n",
       "      <td>2.220456e-16</td>\n",
       "      <td>2.842184e-14</td>\n",
       "      <td>0.000</td>\n",
       "      <td>2.842184e-14</td>\n",
       "      <td>0.0</td>\n",
       "      <td>0.0</td>\n",
       "      <td>...</td>\n",
       "      <td>0.0</td>\n",
       "      <td>0.0</td>\n",
       "      <td>0.0</td>\n",
       "      <td>0.0</td>\n",
       "      <td>0.0</td>\n",
       "      <td>0.0</td>\n",
       "      <td>0.0</td>\n",
       "      <td>0.0</td>\n",
       "      <td>0.0</td>\n",
       "      <td>0.0</td>\n",
       "    </tr>\n",
       "    <tr>\n",
       "      <th>min</th>\n",
       "      <td>1.007764e+01</td>\n",
       "      <td>1.007764e+01</td>\n",
       "      <td>0.085046</td>\n",
       "      <td>0.085046</td>\n",
       "      <td>5.215844e-01</td>\n",
       "      <td>1.021330e+02</td>\n",
       "      <td>92.053</td>\n",
       "      <td>1.020681e+02</td>\n",
       "      <td>42.0</td>\n",
       "      <td>0.0</td>\n",
       "      <td>...</td>\n",
       "      <td>0.0</td>\n",
       "      <td>0.0</td>\n",
       "      <td>0.0</td>\n",
       "      <td>0.0</td>\n",
       "      <td>0.0</td>\n",
       "      <td>0.0</td>\n",
       "      <td>0.0</td>\n",
       "      <td>0.0</td>\n",
       "      <td>0.0</td>\n",
       "      <td>0.0</td>\n",
       "    </tr>\n",
       "    <tr>\n",
       "      <th>25%</th>\n",
       "      <td>1.007764e+01</td>\n",
       "      <td>1.007764e+01</td>\n",
       "      <td>0.085046</td>\n",
       "      <td>0.085046</td>\n",
       "      <td>5.215844e-01</td>\n",
       "      <td>1.021330e+02</td>\n",
       "      <td>92.053</td>\n",
       "      <td>1.020681e+02</td>\n",
       "      <td>42.0</td>\n",
       "      <td>0.0</td>\n",
       "      <td>...</td>\n",
       "      <td>0.0</td>\n",
       "      <td>0.0</td>\n",
       "      <td>0.0</td>\n",
       "      <td>0.0</td>\n",
       "      <td>0.0</td>\n",
       "      <td>0.0</td>\n",
       "      <td>0.0</td>\n",
       "      <td>0.0</td>\n",
       "      <td>0.0</td>\n",
       "      <td>0.0</td>\n",
       "    </tr>\n",
       "    <tr>\n",
       "      <th>50%</th>\n",
       "      <td>1.007764e+01</td>\n",
       "      <td>1.007764e+01</td>\n",
       "      <td>0.085046</td>\n",
       "      <td>0.085046</td>\n",
       "      <td>5.215844e-01</td>\n",
       "      <td>1.021330e+02</td>\n",
       "      <td>92.053</td>\n",
       "      <td>1.020681e+02</td>\n",
       "      <td>42.0</td>\n",
       "      <td>0.0</td>\n",
       "      <td>...</td>\n",
       "      <td>0.0</td>\n",
       "      <td>0.0</td>\n",
       "      <td>0.0</td>\n",
       "      <td>0.0</td>\n",
       "      <td>0.0</td>\n",
       "      <td>0.0</td>\n",
       "      <td>0.0</td>\n",
       "      <td>0.0</td>\n",
       "      <td>0.0</td>\n",
       "      <td>0.0</td>\n",
       "    </tr>\n",
       "    <tr>\n",
       "      <th>75%</th>\n",
       "      <td>1.007764e+01</td>\n",
       "      <td>1.007764e+01</td>\n",
       "      <td>0.085046</td>\n",
       "      <td>0.085046</td>\n",
       "      <td>5.215844e-01</td>\n",
       "      <td>1.021330e+02</td>\n",
       "      <td>92.053</td>\n",
       "      <td>1.020681e+02</td>\n",
       "      <td>42.0</td>\n",
       "      <td>0.0</td>\n",
       "      <td>...</td>\n",
       "      <td>0.0</td>\n",
       "      <td>0.0</td>\n",
       "      <td>0.0</td>\n",
       "      <td>0.0</td>\n",
       "      <td>0.0</td>\n",
       "      <td>0.0</td>\n",
       "      <td>0.0</td>\n",
       "      <td>0.0</td>\n",
       "      <td>0.0</td>\n",
       "      <td>0.0</td>\n",
       "    </tr>\n",
       "    <tr>\n",
       "      <th>max</th>\n",
       "      <td>1.007764e+01</td>\n",
       "      <td>1.007764e+01</td>\n",
       "      <td>0.085046</td>\n",
       "      <td>0.085046</td>\n",
       "      <td>5.215844e-01</td>\n",
       "      <td>1.021330e+02</td>\n",
       "      <td>92.053</td>\n",
       "      <td>1.020681e+02</td>\n",
       "      <td>42.0</td>\n",
       "      <td>0.0</td>\n",
       "      <td>...</td>\n",
       "      <td>0.0</td>\n",
       "      <td>0.0</td>\n",
       "      <td>0.0</td>\n",
       "      <td>0.0</td>\n",
       "      <td>0.0</td>\n",
       "      <td>0.0</td>\n",
       "      <td>0.0</td>\n",
       "      <td>0.0</td>\n",
       "      <td>0.0</td>\n",
       "      <td>0.0</td>\n",
       "    </tr>\n",
       "  </tbody>\n",
       "</table>\n",
       "<p>8 rows × 209 columns</p>\n",
       "</div>"
      ],
      "text/plain": [
       "                0             1              2              3             4    \\\n",
       "count  1.062560e+05  1.062560e+05  106256.000000  106256.000000  1.062560e+05   \n",
       "mean   1.007764e+01  1.007764e+01       0.085046       0.085046  5.215844e-01   \n",
       "std    3.552730e-15  3.552730e-15       0.000000       0.000000  2.220456e-16   \n",
       "min    1.007764e+01  1.007764e+01       0.085046       0.085046  5.215844e-01   \n",
       "25%    1.007764e+01  1.007764e+01       0.085046       0.085046  5.215844e-01   \n",
       "50%    1.007764e+01  1.007764e+01       0.085046       0.085046  5.215844e-01   \n",
       "75%    1.007764e+01  1.007764e+01       0.085046       0.085046  5.215844e-01   \n",
       "max    1.007764e+01  1.007764e+01       0.085046       0.085046  5.215844e-01   \n",
       "\n",
       "                5           6             7         8         9    ...  \\\n",
       "count  1.062560e+05  106256.000  1.062560e+05  106256.0  106256.0  ...   \n",
       "mean   1.021330e+02      92.053  1.020681e+02      42.0       0.0  ...   \n",
       "std    2.842184e-14       0.000  2.842184e-14       0.0       0.0  ...   \n",
       "min    1.021330e+02      92.053  1.020681e+02      42.0       0.0  ...   \n",
       "25%    1.021330e+02      92.053  1.020681e+02      42.0       0.0  ...   \n",
       "50%    1.021330e+02      92.053  1.020681e+02      42.0       0.0  ...   \n",
       "75%    1.021330e+02      92.053  1.020681e+02      42.0       0.0  ...   \n",
       "max    1.021330e+02      92.053  1.020681e+02      42.0       0.0  ...   \n",
       "\n",
       "            199       200       201       202       203       204       205  \\\n",
       "count  106256.0  106256.0  106256.0  106256.0  106256.0  106256.0  106256.0   \n",
       "mean        0.0       0.0       0.0       0.0       0.0       0.0       0.0   \n",
       "std         0.0       0.0       0.0       0.0       0.0       0.0       0.0   \n",
       "min         0.0       0.0       0.0       0.0       0.0       0.0       0.0   \n",
       "25%         0.0       0.0       0.0       0.0       0.0       0.0       0.0   \n",
       "50%         0.0       0.0       0.0       0.0       0.0       0.0       0.0   \n",
       "75%         0.0       0.0       0.0       0.0       0.0       0.0       0.0   \n",
       "max         0.0       0.0       0.0       0.0       0.0       0.0       0.0   \n",
       "\n",
       "            206       207       208  \n",
       "count  106256.0  106256.0  106256.0  \n",
       "mean        0.0       0.0       0.0  \n",
       "std         0.0       0.0       0.0  \n",
       "min         0.0       0.0       0.0  \n",
       "25%         0.0       0.0       0.0  \n",
       "50%         0.0       0.0       0.0  \n",
       "75%         0.0       0.0       0.0  \n",
       "max         0.0       0.0       0.0  \n",
       "\n",
       "[8 rows x 209 columns]"
      ]
     },
     "execution_count": 160,
     "metadata": {},
     "output_type": "execute_result"
    }
   ],
   "source": [
    "# find all columns with all same values\n",
    "df_scaled = pd.DataFrame(train_data_descriptor)\n",
    "print(unique_vals.shape)\n",
    "print(\"Number of unique values in each column:\")\n",
    "print(np.min(unique_vals))\n",
    "df_scaled.describe()\n",
    "# print(\"Number of columns with all same values: \", len(zero_cols))\n",
    "# df_mol_descriptors.drop(zero_cols, axis=1, inplace=True)\n",
    "# print(\"Shape of mol_descriptors after removing non-informative descriptors:\", np.shape(df_mol_descriptors))\n",
    "# df_mol_descriptors.describe()"
   ]
  },
  {
   "cell_type": "code",
   "execution_count": 121,
   "metadata": {},
   "outputs": [],
   "source": [
    "minmax_scaler = MinMaxScaler()\n",
    "\n",
    "train_data_fingerprints = minmax_scaler.fit_transform(train_data_fingerprints)\n",
    "\n",
    "test_data_fingerprints = minmax_scaler.transform(test_data_fingerprints)"
   ]
  },
  {
   "attachments": {},
   "cell_type": "markdown",
   "metadata": {},
   "source": [
    "Combine descriptors temporarely with in train and test data for graphs"
   ]
  },
  {
   "cell_type": "code",
   "execution_count": 122,
   "metadata": {},
   "outputs": [
    {
     "name": "stdout",
     "output_type": "stream",
     "text": [
      "Data(x=[9, 81], edge_index=[2, 20], edge_attr=[20, 10], y=[1, 15], descriptors=[209], fingerprints=[1, 2048])\n"
     ]
    }
   ],
   "source": [
    "#Testing stuff\n",
    "\n",
    "temp = train_data[1000]\n",
    "temp.descriptors = train_data_descriptor[1000,:]\n",
    "\n",
    "print(temp)"
   ]
  },
  {
   "cell_type": "code",
   "execution_count": 123,
   "metadata": {},
   "outputs": [
    {
     "ename": "KeyboardInterrupt",
     "evalue": "",
     "output_type": "error",
     "traceback": [
      "\u001b[1;31m---------------------------------------------------------------------------\u001b[0m",
      "\u001b[1;31mKeyboardInterrupt\u001b[0m                         Traceback (most recent call last)",
      "Cell \u001b[1;32mIn[123], line 3\u001b[0m\n\u001b[0;32m      1\u001b[0m \u001b[39mfor\u001b[39;00m index \u001b[39min\u001b[39;00m \u001b[39mrange\u001b[39m(\u001b[39m0\u001b[39m,\u001b[39mlen\u001b[39m(train_data)):\n\u001b[0;32m      2\u001b[0m     train_data[index]\u001b[39m.\u001b[39mdescriptors \u001b[39m=\u001b[39m torch\u001b[39m.\u001b[39mFloatTensor([train_data_descriptor[index,:]])\n\u001b[1;32m----> 3\u001b[0m     train_data[index]\u001b[39m.\u001b[39;49mfingerprints \u001b[39m=\u001b[39m torch\u001b[39m.\u001b[39mFloatTensor([train_data_fingerprints[index,:]])\n\u001b[0;32m      5\u001b[0m \u001b[39mfor\u001b[39;00m index \u001b[39min\u001b[39;00m \u001b[39mrange\u001b[39m(\u001b[39m0\u001b[39m,\u001b[39mlen\u001b[39m(test_data)):\n\u001b[0;32m      6\u001b[0m     test_data[index]\u001b[39m.\u001b[39mdescriptors \u001b[39m=\u001b[39m torch\u001b[39m.\u001b[39mFloatTensor([test_data_desriptors[index,:]])\n",
      "File \u001b[1;32mc:\\Users\\Jesper\\AppData\\Local\\Programs\\Python\\Python311\\Lib\\site-packages\\torch_geometric\\data\\data.py:448\u001b[0m, in \u001b[0;36mData.__setattr__\u001b[1;34m(self, key, value)\u001b[0m\n\u001b[0;32m    446\u001b[0m     propobj\u001b[39m.\u001b[39mfset(\u001b[39mself\u001b[39m, value)\n\u001b[0;32m    447\u001b[0m \u001b[39melse\u001b[39;00m:\n\u001b[1;32m--> 448\u001b[0m     \u001b[39msetattr\u001b[39m(\u001b[39mself\u001b[39m\u001b[39m.\u001b[39m_store, key, value)\n",
      "\u001b[1;31mKeyboardInterrupt\u001b[0m: "
     ]
    }
   ],
   "source": [
    "\n",
    "for index in range(0,len(train_data)):\n",
    "    train_data[index].descriptors = torch.FloatTensor([train_data_descriptor[index,:]])\n",
    "    train_data[index].fingerprints = torch.FloatTensor([train_data_fingerprints[index,:]])\n",
    "\n",
    "for index in range(0,len(test_data)):\n",
    "    test_data[index].descriptors = torch.FloatTensor([test_data_desriptors[index,:]])\n",
    "    test_data[index].fingerprints = torch.FloatTensor([test_data_fingerprints[index,:]])\n",
    "\n",
    "# Example\n",
    "print(train_data[0])"
   ]
  },
  {
   "attachments": {},
   "cell_type": "markdown",
   "metadata": {},
   "source": [
    "Use dataloader"
   ]
  },
  {
   "cell_type": "code",
   "execution_count": null,
   "metadata": {},
   "outputs": [],
   "source": [
    "train_loader = DataLoader(train_data, batch_size=64, shuffle=True)\n",
    "test_loader = DataLoader(test_data, batch_size=64, shuffle=True)"
   ]
  }
 ],
 "metadata": {
  "kernelspec": {
   "display_name": "Python 3",
   "language": "python",
   "name": "python3"
  },
  "language_info": {
   "codemirror_mode": {
    "name": "ipython",
    "version": 3
   },
   "file_extension": ".py",
   "mimetype": "text/x-python",
   "name": "python",
   "nbconvert_exporter": "python",
   "pygments_lexer": "ipython3",
   "version": "3.11.0"
  },
  "orig_nbformat": 4
 },
 "nbformat": 4,
 "nbformat_minor": 2
}
