{
 "cells": [
  {
   "attachments": {},
   "cell_type": "markdown",
   "metadata": {},
   "source": [
    "# TIF360 Project"
   ]
  },
  {
   "attachments": {},
   "cell_type": "markdown",
   "metadata": {},
   "source": [
    "### Import packages"
   ]
  },
  {
   "cell_type": "code",
   "execution_count": null,
   "metadata": {},
   "outputs": [],
   "source": [
    "import os\n",
    "import rdkit\n",
    "from rdkit import Chem  # To extract information of the molecules\n",
    "from rdkit.Chem import Draw  # To draw the molecules\n",
    "import numpy as np\n",
    "import pandas as pd\n",
    "import matplotlib.pyplot as plt"
   ]
  },
  {
   "attachments": {},
   "cell_type": "markdown",
   "metadata": {},
   "source": [
    "### Define function to read xyz files"
   ]
  },
  {
   "cell_type": "code",
   "execution_count": null,
   "metadata": {},
   "outputs": [],
   "source": [
    "def read_xyz(path):\n",
    "    \"\"\"\n",
    "    Reads the xyz files in the directory on 'path'\n",
    "    Input\n",
    "    path: the path to the folder to be read\n",
    "    \n",
    "    Output\n",
    "    atoms: list with the characters representing the atoms of a molecule\n",
    "    coordinates: list with the cartesian coordinates of each atom\n",
    "    smile: list with the SMILE representation of a molecule\n",
    "    prop: list with the scalar properties\n",
    "    \"\"\"\n",
    "    atoms = []\n",
    "    coordinates = []\n",
    "\n",
    "    with open(path, 'r') as file:\n",
    "        lines = file.readlines()\n",
    "        n_atoms = int(lines[0])  # the number of atoms\n",
    "        smile = lines[n_atoms + 3].split()[0]  # smiles string\n",
    "        prop = lines[1].split()[2:]  # scalar properties\n",
    "\n",
    "        # to retrieve each atmos and its cartesian coordenates\n",
    "        for atom in lines[2:n_atoms + 2]:\n",
    "            line = atom.split()\n",
    "            # which atom\n",
    "            atoms.append(line[0])\n",
    "\n",
    "            # its coordinate\n",
    "            # Some properties have '*^' indicading exponentiation \n",
    "            try:\n",
    "                coordinates.append(\n",
    "                    (float(line[1]),\n",
    "                     float(line[2]),\n",
    "                     float(line[3]))\n",
    "                    )\n",
    "            except:\n",
    "                coordinates.append(\n",
    "                    (float(line[1].replace('*^', 'e')),\n",
    "                     float(line[2].replace('*^', 'e')),\n",
    "                     float(line[3].replace('*^', 'e')))\n",
    "                    )\n",
    "                    \n",
    "    return atoms, coordinates, smile, prop"
   ]
  },
  {
   "attachments": {},
   "cell_type": "markdown",
   "metadata": {},
   "source": [
    "### Read xyz files"
   ]
  },
  {
   "cell_type": "code",
   "execution_count": null,
   "metadata": {},
   "outputs": [],
   "source": [
    "directory = '../data/dsgdb9nsd.xyz/'\n",
    "\n",
    "# Reads the xyz files and return the properties, smiles and coordinates\n",
    "data = []\n",
    "smiles = []\n",
    "properties = []\n",
    "for file in os.listdir(directory):\n",
    "    path = os.path.join(directory, file)\n",
    "    atoms, coordinates, smile, prop = read_xyz(path)\n",
    "    data.append((atoms, coordinates)) # A tuple with the atoms and its coordinates \n",
    "    smiles.append(smile) # The SMILES representation\n",
    "    properties.append(prop) # The molecules properties\n",
    "\n",
    "properties_names = ['A', 'B', 'C', 'mu', 'alfa', 'homo', 'lumo', 'gap', 'R²', 'zpve', 'U0', 'U', 'H', 'G', 'Cv']\n",
    "df = pd.DataFrame(properties, columns = properties_names).astype('float32')\n",
    "df['smiles'] = smiles\n",
    "df.head()"
   ]
  }
 ],
 "metadata": {
  "kernelspec": {
   "display_name": "Python 3",
   "language": "python",
   "name": "python3"
  },
  "language_info": {
   "name": "python",
   "version": "3.10.5"
  },
  "orig_nbformat": 4
 },
 "nbformat": 4,
 "nbformat_minor": 2
}
